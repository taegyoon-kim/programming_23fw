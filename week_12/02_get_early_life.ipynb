{
  "nbformat": 4,
  "nbformat_minor": 0,
  "metadata": {
    "colab": {
      "provenance": []
    },
    "kernelspec": {
      "name": "python3",
      "display_name": "Python 3"
    },
    "language_info": {
      "name": "python"
    }
  },
  "cells": [
    {
      "cell_type": "markdown",
      "source": [
        "### **Getting Early Life Information for U.S. Presidents from Wikipedia**"
      ],
      "metadata": {
        "id": "CXmqchaNsPBO"
      }
    },
    {
      "cell_type": "markdown",
      "source": [
        "Information on the early life of all U.S. presidents. Let's take the **first paragraph** that discusses the early life of U.S. presidents.\n",
        "\n",
        "Take a look at some of their pages to decide how we can target them:\n",
        "\n",
        "https://en.wikipedia.org/wiki/William_McKinley\n",
        "\n",
        "https://en.wikipedia.org/wiki/John_Adams\n",
        "\n",
        "https://en.wikipedia.org/wiki/Thomas_Jefferson\n"
      ],
      "metadata": {
        "id": "ENnVHKvdw-pF"
      }
    },
    {
      "cell_type": "markdown",
      "source": [
        "It's somewhat difficult to exactly target that portion of the page:\n",
        "\n",
        "- There are many paragraphs, if we target all paragraphs, we need a way to distinguish between the scraped paragraphs\n",
        "- We can try to look at the paragraph in the \"Early life\" section---but this section is named differently each time (\"Early life and education\", \"Early life and career\", \"Early life and family\")\n",
        "- Subsection headings always has a `h` tag and a `mw-headline` class---but all subsections have it\n",
        "- My approach is to look through section headings and take the one that has the phrase \"early life\" somewhere\n",
        "\n"
      ],
      "metadata": {
        "id": "kISokJB3xarm"
      }
    },
    {
      "cell_type": "code",
      "source": [
        "from bs4 import BeautifulSoup\n",
        "import requests"
      ],
      "metadata": {
        "id": "bI5i1rVrxfo7"
      },
      "execution_count": 1,
      "outputs": []
    },
    {
      "cell_type": "markdown",
      "source": [
        "Let's do for one page first: https://en.wikipedia.org/wiki/George_Washington"
      ],
      "metadata": {
        "id": "sEwpSshTze_a"
      }
    },
    {
      "cell_type": "code",
      "source": [
        "url = 'https://en.wikipedia.org/wiki/George_Washington'\n",
        "r = requests.get(url)\n",
        "soup = BeautifulSoup(r.text)"
      ],
      "metadata": {
        "id": "35Zea-QLzeb9"
      },
      "execution_count": 2,
      "outputs": []
    },
    {
      "cell_type": "code",
      "source": [
        "r.status_code"
      ],
      "metadata": {
        "id": "HRqYCExzzvvO",
        "colab": {
          "base_uri": "https://localhost:8080/"
        },
        "outputId": "dc6ca679-fa4b-4d8b-d884-ddfd3b3ec470"
      },
      "execution_count": 3,
      "outputs": [
        {
          "output_type": "execute_result",
          "data": {
            "text/plain": [
              "200"
            ]
          },
          "metadata": {},
          "execution_count": 3
        }
      ]
    },
    {
      "cell_type": "code",
      "source": [
        "soup.find_all(['h2','h3'])"
      ],
      "metadata": {
        "id": "W0xl-MrNzx5L",
        "colab": {
          "base_uri": "https://localhost:8080/"
        },
        "outputId": "8b6454ce-de32-4a16-cffe-9120ebe5143a"
      },
      "execution_count": 11,
      "outputs": [
        {
          "output_type": "execute_result",
          "data": {
            "text/plain": [
              "[<h2 class=\"vector-pinnable-header-label\">Contents</h2>,\n",
              " <h2><span id=\"Early_life_.281732.E2.80.931752.29\"></span><span class=\"mw-headline\" id=\"Early_life_(1732–1752)\">Early life (1732–1752)</span></h2>,\n",
              " <h2><span id=\"Colonial_military_career_.281752.E2.80.931758.29\"></span><span class=\"mw-headline\" id=\"Colonial_military_career_(1752–1758)\">Colonial military career (1752–1758)</span></h2>,\n",
              " <h3><span class=\"mw-headline\" id=\"French_and_Indian_War\">French and Indian War</span></h3>,\n",
              " <h2><span id=\"Marriage.2C_civilian.2C_and_political_life_.281755.E2.80.931775.29\"></span><span class=\"mw-headline\" id=\"Marriage,_civilian,_and_political_life_(1755–1775)\">Marriage, civilian, and political life (1755–1775)</span></h2>,\n",
              " <h3><span class=\"mw-headline\" id=\"Opposition_to_the_British_Parliament_and_Crown\">Opposition to the British Parliament and Crown</span></h3>,\n",
              " <h2><span id=\"Commander_in_chief_.281775.E2.80.931783.29\"></span><span class=\"mw-headline\" id=\"Commander_in_chief_(1775–1783)\">Commander in chief (1775–1783)</span></h2>,\n",
              " <h3><span class=\"mw-headline\" id=\"Siege_of_Boston\">Siege of Boston</span></h3>,\n",
              " <h3><span class=\"mw-headline\" id=\"New_York_and_New_Jersey\">New York and New Jersey</span></h3>,\n",
              " <h3><span class=\"mw-headline\" id=\"Philadelphia\">Philadelphia</span></h3>,\n",
              " <h3><span class=\"mw-headline\" id=\"West_Point_espionage\">West Point espionage</span></h3>,\n",
              " <h3><span class=\"mw-headline\" id=\"Southern_theater_and_Yorktown\">Southern theater and Yorktown</span></h3>,\n",
              " <h3><span class=\"mw-headline\" id=\"Demobilization_and_resignation\">Demobilization and resignation</span></h3>,\n",
              " <h2><span id=\"Early_republic_.281783.E2.80.931789.29\"></span><span class=\"mw-headline\" id=\"Early_republic_(1783–1789)\">Early republic (1783–1789)</span></h2>,\n",
              " <h3><span class=\"mw-headline\" id=\"Return_to_Mount_Vernon\">Return to Mount Vernon</span></h3>,\n",
              " <h3><span class=\"mw-headline\" id=\"Constitutional_Convention_of_1787\">Constitutional Convention of 1787</span></h3>,\n",
              " <h3><span id=\"Chancellor_of_William_.26_Mary\"></span><span class=\"mw-headline\" id=\"Chancellor_of_William_&amp;_Mary\">Chancellor of William &amp; Mary</span></h3>,\n",
              " <h3><span class=\"mw-headline\" id=\"First_presidential_election\">First presidential election</span></h3>,\n",
              " <h2><span id=\"Presidency_.281789.E2.80.931797.29\"></span><span class=\"mw-headline\" id=\"Presidency_(1789–1797)\">Presidency (1789–1797)</span></h2>,\n",
              " <h3><span class=\"mw-headline\" id=\"Cabinet_and_executive_departments\">Cabinet and executive departments</span></h3>,\n",
              " <h3><span class=\"mw-headline\" id=\"Domestic_issues\">Domestic issues</span></h3>,\n",
              " <h3><span class=\"mw-headline\" id=\"Foreign_affairs\">Foreign affairs</span></h3>,\n",
              " <h3><span class=\"mw-headline\" id=\"Native_American_affairs\">Native American affairs</span></h3>,\n",
              " <h3><span class=\"mw-headline\" id=\"Second_term\">Second term</span></h3>,\n",
              " <h3><span class=\"mw-headline\" id=\"Farewell_Address\">Farewell Address</span></h3>,\n",
              " <h2><span id=\"Post-presidency_.281797.E2.80.931799.29\"></span><span class=\"mw-headline\" id=\"Post-presidency_(1797–1799)\">Post-presidency (1797–1799)</span></h2>,\n",
              " <h3><span class=\"mw-headline\" id=\"Retirement\">Retirement</span></h3>,\n",
              " <h3><span class=\"mw-headline\" id=\"Final_days_and_death\">Final days and death</span></h3>,\n",
              " <h2><span id=\"Burial.2C_net_worth.2C_and_aftermath\"></span><span class=\"mw-headline\" id=\"Burial,_net_worth,_and_aftermath\">Burial, net worth, and aftermath</span></h2>,\n",
              " <h2><span class=\"mw-headline\" id=\"Personal_life\">Personal life</span></h2>,\n",
              " <h3><span class=\"mw-headline\" id=\"Religion_and_Freemasonry\">Religion and Freemasonry</span></h3>,\n",
              " <h2><span class=\"mw-headline\" id=\"Slavery\">Slavery</span></h2>,\n",
              " <h3><span id=\"Washington.27s_slaves\"></span><span class=\"mw-headline\" id=\"Washington's_slaves\">Washington's slaves</span></h3>,\n",
              " <h3><span class=\"mw-headline\" id=\"Abolition_and_manumission\">Abolition and manumission</span></h3>,\n",
              " <h2><span class=\"mw-headline\" id=\"Historical_reputation_and_legacy\">Historical reputation and legacy</span></h2>,\n",
              " <h3><span id=\"Places.2C_namesakes.2C_and_monuments\"></span><span class=\"mw-headline\" id=\"Places,_namesakes,_and_monuments\">Places, namesakes, and monuments</span></h3>,\n",
              " <h3><span class=\"mw-headline\" id=\"Currency_and_postage\">Currency and postage</span></h3>,\n",
              " <h2><span class=\"mw-headline\" id=\"See_also\">See also</span></h2>,\n",
              " <h2><span class=\"mw-headline\" id=\"Notes\">Notes</span></h2>,\n",
              " <h2><span class=\"mw-headline\" id=\"References\">References</span></h2>,\n",
              " <h2><span class=\"mw-headline\" id=\"Bibliography\">Bibliography</span></h2>,\n",
              " <h3><span class=\"mw-headline\" id=\"Book_sources\">Book sources</span></h3>,\n",
              " <h3><span class=\"mw-headline\" id=\"Miscellaneous\">Miscellaneous</span></h3>,\n",
              " <h2><span class=\"mw-headline\" id=\"Further_reading\">Further reading</span></h2>,\n",
              " <h2><span class=\"mw-headline\" id=\"External_links\">External links</span></h2>]"
            ]
          },
          "metadata": {},
          "execution_count": 11
        }
      ]
    },
    {
      "cell_type": "markdown",
      "source": [
        "List comprehension: what text appears under each h2 tag?"
      ],
      "metadata": {
        "id": "8VFfoF_nz4mt"
      }
    },
    {
      "cell_type": "code",
      "source": [
        "[item.text for item in soup.find_all('h2')]"
      ],
      "metadata": {
        "id": "K5L_Uy9w09Gw",
        "colab": {
          "base_uri": "https://localhost:8080/"
        },
        "outputId": "36694f99-2a31-4cdf-c5cf-852048f5b18d"
      },
      "execution_count": 12,
      "outputs": [
        {
          "output_type": "execute_result",
          "data": {
            "text/plain": [
              "['Contents',\n",
              " 'Early life (1732–1752)',\n",
              " 'Colonial military career (1752–1758)',\n",
              " 'Marriage, civilian, and political life (1755–1775)',\n",
              " 'Commander in chief (1775–1783)',\n",
              " 'Early republic (1783–1789)',\n",
              " 'Presidency (1789–1797)',\n",
              " 'Post-presidency (1797–1799)',\n",
              " 'Burial, net worth, and aftermath',\n",
              " 'Personal life',\n",
              " 'Slavery',\n",
              " 'Historical reputation and legacy',\n",
              " 'See also',\n",
              " 'Notes',\n",
              " 'References',\n",
              " 'Bibliography',\n",
              " 'Further reading',\n",
              " 'External links']"
            ]
          },
          "metadata": {},
          "execution_count": 12
        }
      ]
    },
    {
      "cell_type": "markdown",
      "source": [
        "Our target is the second heading! (Index 1). We could target it even more."
      ],
      "metadata": {
        "id": "7E0ryk7f1SeP"
      }
    },
    {
      "cell_type": "code",
      "source": [
        "heading = [item for item in soup.find_all('h2') if 'early life' in item.text.lower()]\n",
        "type(heading)\n",
        "heading[0]"
      ],
      "metadata": {
        "id": "FM432Rd01ZeI",
        "colab": {
          "base_uri": "https://localhost:8080/"
        },
        "outputId": "d9931b55-9ed4-4605-f6ee-8c8cc8b1e541"
      },
      "execution_count": 13,
      "outputs": [
        {
          "output_type": "execute_result",
          "data": {
            "text/plain": [
              "<h2><span id=\"Early_life_.281732.E2.80.931752.29\"></span><span class=\"mw-headline\" id=\"Early_life_(1732–1752)\">Early life (1732–1752)</span></h2>"
            ]
          },
          "metadata": {},
          "execution_count": 13
        }
      ]
    },
    {
      "cell_type": "markdown",
      "source": [
        "Use the find_next function to identify a next `p` tag"
      ],
      "metadata": {
        "id": "G7bXobJw1ATe"
      }
    },
    {
      "cell_type": "code",
      "source": [
        "first_paragraph = heading[0].find_next('p').text"
      ],
      "metadata": {
        "colab": {
          "base_uri": "https://localhost:8080/",
          "height": 86
        },
        "id": "XQieiOebzbiG",
        "outputId": "8bce9066-d817-4354-fa90-8eff74d92c99"
      },
      "execution_count": null,
      "outputs": [
        {
          "output_type": "execute_result",
          "data": {
            "text/plain": [
              "'George Washington was born on February 22, 1732,[a] at Popes Creek in Westmoreland County, Virginia.[3] He was the first of six children of Augustine and Mary Ball Washington.[4] His father was a justice of the peace and a prominent public figure who had four additional children from his first marriage to Jane Butler.[5] The family moved to Little Hunting Creek in 1734 before eventually settling in Ferry Farm near Fredericksburg, Virginia. When Augustine died in 1743, Washington inherited Ferry Farm and ten slaves; his older half-brother Lawrence inherited Little Hunting Creek and renamed it Mount Vernon.[6][7]\\n'"
            ],
            "application/vnd.google.colaboratory.intrinsic+json": {
              "type": "string"
            }
          },
          "metadata": {},
          "execution_count": 44
        }
      ]
    },
    {
      "cell_type": "markdown",
      "source": [
        "Put all these into a function."
      ],
      "metadata": {
        "id": "PBfqyRDYUrZb"
      }
    },
    {
      "cell_type": "code",
      "source": [
        "def get_early_life(url):\n",
        "    r = requests.get(url)\n",
        "    soup = BeautifulSoup(r.text)\n",
        "    heading = [item for item in soup.find_all(['h2','h3']) if 'early life' in item.text.lower()]\n",
        "    first_paragraph = heading[0].find_next('p').text\n",
        "    return first_paragraph"
      ],
      "metadata": {
        "id": "h7iGw6PmUqlO"
      },
      "execution_count": 14,
      "outputs": []
    },
    {
      "cell_type": "markdown",
      "source": [
        "Try on a different article to see if it works:"
      ],
      "metadata": {
        "id": "R-P_3laNV0Q8"
      }
    },
    {
      "cell_type": "code",
      "source": [
        "url = 'https://en.wikipedia.org/wiki/William_McKinley'\n",
        "get_early_life(url)"
      ],
      "metadata": {
        "id": "ayn9rR4FV4IN",
        "colab": {
          "base_uri": "https://localhost:8080/",
          "height": 86
        },
        "outputId": "4a5ef6bc-3ad7-4d55-d756-5175d01990b1"
      },
      "execution_count": 15,
      "outputs": [
        {
          "output_type": "execute_result",
          "data": {
            "text/plain": [
              "'William McKinley Jr. was born in 1843 in Niles, Ohio, the seventh of nine children of William McKinley Sr. and Nancy (née Allison) McKinley.[1] The McKinleys were of English and Scots-Irish descent and had settled in western Pennsylvania in the 18th century. Their immigrant ancestor was David McKinley, born in Dervock, County Antrim, in present-day Northern Ireland. William McKinley Sr. was born in Pennsylvania, in Pine Township, Mercer County.[1]\\n'"
            ],
            "application/vnd.google.colaboratory.intrinsic+json": {
              "type": "string"
            }
          },
          "metadata": {},
          "execution_count": 15
        }
      ]
    },
    {
      "cell_type": "code",
      "source": [],
      "metadata": {
        "id": "NlsXLbXZBn8y"
      },
      "execution_count": null,
      "outputs": []
    }
  ]
}