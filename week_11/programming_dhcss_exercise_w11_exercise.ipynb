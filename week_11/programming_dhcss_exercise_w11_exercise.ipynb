{
  "cells": [
    {
      "cell_type": "markdown",
      "source": [
        "### Art Institute of Chicago API\n"
      ],
      "metadata": {
        "id": "qhTavh7ubrdz"
      }
    },
    {
      "cell_type": "markdown",
      "source": [
        "Import the requests module."
      ],
      "metadata": {
        "id": "LEQGy1HylHKv"
      }
    },
    {
      "cell_type": "code",
      "execution_count": 1,
      "metadata": {
        "id": "GAgWMi6SinGm"
      },
      "outputs": [],
      "source": [
        "import requests"
      ]
    },
    {
      "cell_type": "markdown",
      "metadata": {
        "id": "_FC3Q67fl-kT"
      },
      "source": [
        "Create a URL that searches for the works of Monet in the Art Institute of Chicago."
      ]
    },
    {
      "cell_type": "code",
      "execution_count": null,
      "metadata": {
        "colab": {
          "base_uri": "https://localhost:8080/"
        },
        "id": "Y11YhSq6l88-",
        "outputId": "2abf26d3-282e-4f30-a877-616135ec93a9"
      },
      "outputs": [
        {
          "output_type": "stream",
          "name": "stdout",
          "text": [
            "https://api.artic.edu/api/v1/artworks/search?q=monet\n"
          ]
        }
      ],
      "source": [
        "# we can access the /artworks listing endpoint to see all of the published artworks in the AIC's collection\n",
        "API_base_url = 'https://api.artic.edu/api/v1/artworks/search?'\n",
        "\n",
        "# creat a query string\n",
        "search_url = API_base_url + 'q=monet'\n",
        "print(search_url)"
      ]
    },
    {
      "cell_type": "code",
      "execution_count": null,
      "metadata": {
        "id": "ukkxU4_AixTS"
      },
      "outputs": [],
      "source": [
        "# get will send a GET request to any web page\n",
        "r = requests.get(search_url)"
      ]
    },
    {
      "cell_type": "markdown",
      "metadata": {
        "id": "Js8Sc2dzjVF0"
      },
      "source": [
        "`print()` will print the response code. There are five types of response codes:\n",
        "\n",
        "- 1xx informational response – the request was received, continuing process\n",
        "- 2xx successful – the request was successfully received, understood, and accepted\n",
        "- 3xx redirection – further action needs to be taken in order to complete the request\n",
        "- 4xx client error – the request contains bad syntax or cannot be fulfilled\n",
        "- 5xx server error – the server failed to fulfil an apparently valid request\n",
        "\n",
        "**Most common:** 200 (success) or 4xx (something wrong with request)\n",
        "\n"
      ]
    },
    {
      "cell_type": "code",
      "execution_count": null,
      "metadata": {
        "colab": {
          "base_uri": "https://localhost:8080/"
        },
        "id": "XlUq_YgljRcK",
        "outputId": "8d600077-29b6-47e7-a944-d680d9bde771"
      },
      "outputs": [
        {
          "output_type": "stream",
          "name": "stdout",
          "text": [
            "<class 'requests.models.Response'>\n",
            "200\n"
          ]
        }
      ],
      "source": [
        "print(type(r))\n",
        "print(r.status_code)"
      ]
    },
    {
      "cell_type": "markdown",
      "metadata": {
        "id": "C7gCGazS0fo7"
      },
      "source": [
        "Another approach is to use the `params` argument in `requests.get()`. Simply provide a dictionary of `key:value` pairs that will be the parameters."
      ]
    },
    {
      "cell_type": "code",
      "execution_count": null,
      "metadata": {
        "id": "1dZ9Lv7A0lTG"
      },
      "outputs": [],
      "source": [
        "r = requests.get(API_base_url, params = {\"q\": \"monet\"})"
      ]
    },
    {
      "cell_type": "markdown",
      "metadata": {
        "id": "PJVV5xS2mkVK"
      },
      "source": [
        "`.text` attribute will return the text that was received from the server. This API automatically returns a string in JSON format."
      ]
    },
    {
      "cell_type": "code",
      "execution_count": null,
      "metadata": {
        "colab": {
          "base_uri": "https://localhost:8080/"
        },
        "id": "rA6XC76Djoxy",
        "outputId": "b94671d0-cbec-4089-811c-7e40d9c8b021"
      },
      "outputs": [
        {
          "output_type": "stream",
          "name": "stdout",
          "text": [
            "<class 'str'>\n",
            "{\"preference\":null,\"pagination\":{\"total\":299,\"limit\":10,\"offset\":0,\"total_pages\":30,\"current_page\":1},\"data\":[{\"_score\":209.12431,\"thumbnail\":{\"alt_text\":\"Painting of a pond seen up close spotted with thickly painted pink and white water lilies and a shadow across the top third of the picture.\",\"width\":8808,\"lqip\":\"data:image\\/gif;base64,R0lGODlhBQAFAPQAAEZcaFFfdVtqbk9ldFBlcVFocllrcFlrd11rdl9sdFZtf15wcWV0d2R2eGByfmd6eGl6e2t9elZxiGF4kWB4kmJ9kGJ8lWeCkWSAnQAAAAAAAAAAAAAAAAAAAAAAAAAAACH5BAAAAAAALAAAAAAFAAUAAAUVoJBADXI4TLRMWHU9hmRRCjAURBACADs=\",\"height\":8460},\"api_model\":\"artworks\",\"is_boosted\":true,\"api_link\":\"https:\\/\\/api.artic.edu\\/api\\/v1\\/artworks\\/16568\",\"id\":16568,\"title\":\"Water Lilies\",\"timestamp\":\"2023-11-06T23:32:09-06:00\"},{\"_score\":193.75436,\"thumbnail\":{\"alt_text\":\"Loosely painted image of an open-air train station. On the right, a parked train gives off an enormous plumb of white smoke, making the scene look as though it were full of clouds. A huddled mass of barely discernible people crowd around the train on both sides of the tracks. Blue, green, and gray tones dominate.\",\"width\":6786,\"lqip\":\"data:image\\/gif;base64,R0lGODlhBwAFAPUAADU8QkROS0ZPU0hSVk1YXVFWUlBXXlFaWVNcWFFkV1plVVtjWmBnWmFqXmRrX05ZYFFaYlljbF5qbGNsY2ZydmlzdWRxeGdze2l1fWx3fG16enJ4fH+KioWOkZeam5yjqZ2lqrG1ubS6vwAAAAAAAAAAAAAAAAAAAAAAAAAAAAAAAAAAAAAAAAAAAAAAAAAAAAAAAAAAAAAAAAAAAAAAAAAAAAAAAAAAAAAAAAAAAAAAAAAAAAAAAAAAAAAAAAAAACH5BAAAAAAALAAAAAAHAAUAAAYhQIKmYslQDoONp8ORBECi0OfyKEAMmAhAgFhMHA2GIhEEADs=\",\"height\":5092},\"api_model\":\"artworks\",\"is_boosted\":true,\"api_link\":\"https:\\/\\/api.artic.edu\\/api\\/v1\\/artworks\\/16571\",\"id\":16571,\"title\":\"Arrival of the Normandy Train, Gare Saint-Lazare\",\"timestamp\":\"2023-11-06T23:30:24-06:00\"},{\"_score\":191.61844,\"thumbnail\":{\"alt_text\":\"Painting composed of short, dense brushstrokes depicts two domed stacks of wheat that cast long shadows on a field. The angled light indicates either a rising or setting sun.\",\"width\":6884,\"lqip\":\"data:image\\/gif;base64,R0lGODlhCAAFAPUAAF5eVW1bVm9eVmpjW3RoXXxyV39yXmdsZmhmaXZtbG11eH57eYl5bYR7dHuAf4mDfo6HfpePdpCFeZSOfJ+VdnZ+g4ODgoCHg4iHgo+GgY2MgpmThJeTipaSjaCcmbWnh6qrpKmopqqtrKusrbGxobq4pLu5qq2zsQAAAAAAAAAAAAAAAAAAAAAAAAAAAAAAAAAAAAAAAAAAAAAAAAAAAAAAAAAAAAAAAAAAAAAAAAAAAAAAAAAAAAAAAAAAAAAAACH5BAAAAAAALAAAAAAIAAUAAAYlwJNoFAKRSiZPh7OZRCgfBWJwAAQEBU2D8VgkCAYI5uKoWDKSIAA7\",\"height\":4068},\"api_model\":\"artworks\",\"is_boosted\":true,\"api_link\":\"https:\\/\\/api.artic.edu\\/api\\/v1\\/artworks\\/64818\",\"id\":64818,\"title\":\"Stacks of Wheat (End of Summer)\",\"timestamp\":\"2023-11-06T23:32:09-06:00\"},{\"_score\":187.97859,\"thumbnail\":{\"alt_text\":\"Painting of a cliff overlooking the sea. Two figures in long dresses, one with a parasol, stand on the cliff beneath blue sky.\",\"width\":6356,\"lqip\":\"data:image\\/gif;base64,R0lGODlhBgAFAPQAAHF2XH98dIF3aHyEf4ODZ4ePaIaBc4WIc4eKd4iIc5GKd5OMeJSMeJuRfn2GkIeVlomZl5eZkJicl46ZrZKbr5qeqoaTs4eUt42XsYGZtIuYsIqZsI6cs4eWugAAAAAAACH5BAAAAAAALAAAAAAGAAUAAAUYYHdZ2JZx2lRRDvQMxgFIUSAQRcMoS4KEADs=\",\"height\":5090},\"api_model\":\"artworks\",\"is_boosted\":false,\"api_link\":\"https:\\/\\/api.artic.edu\\/api\\/v1\\/artworks\\/14620\",\"id\":14620,\"title\":\"Cliff Walk at Pourville\",\"timestamp\":\"2023-11-06T23:30:28-06:00\"},{\"_score\":185.47987,\"thumbnail\":{\"alt_text\":\"Painting of a small pond dense with pink water lilies, their roots visible through the water, a railed footbridge arching over the pond and lush, dark green folliage surrounding it.\",\"width\":5448,\"lqip\":\"data:image\\/gif;base64,R0lGODlhBgAFAPQAAElAOElAOktFPExMOkhHQktKQU5LQlNOQVFKRE9SSVRTR15bS19dT1daUFVgWl1gWWBhT2VoT2diUmplU3JqWXhyXWFpYGNuZmZzb211aHR3Z3FxaXl4bGl5cgAAAAAAACH5BAAAAAAALAAAAAAGAAUAAAUYIBIcCyNBhlAQCaBMVBUNjcZtmYN11nOFADs=\",\"height\":4845},\"api_model\":\"artworks\",\"is_boosted\":false,\"api_link\":\"https:\\/\\/api.artic.edu\\/api\\/v1\\/artworks\\/87088\",\"id\":87088,\"title\":\"Water Lily Pond\",\"timestamp\":\"2023-11-06T23:30:20-06:00\"},{\"_score\":184.86075,\"thumbnail\":{\"alt_text\":\"Painting of a beach on a cloudy day with several sailboats on the water, a few rowboats on the shore, and two groupings of people on the sand.\",\"width\":6793,\"lqip\":\"data:image\\/gif;base64,R0lGODlhBwAFAPUAAF5iZnRzb3d0c3x5cXR5fH1\\/eneGh36QkYaEgoGIjoaLjYmMjIuPj4mPkIuQkoyRlI6UmI6UmZKWk5SWkJKWlpKXm5KYnZaanJacn5idn5menpycnZyenKCko6enpaeqqK+tqKuurLGzsAAAAAAAAAAAAAAAAAAAAAAAAAAAAAAAAAAAAAAAAAAAAAAAAAAAAAAAAAAAAAAAAAAAAAAAAAAAAAAAAAAAAAAAAAAAAAAAAAAAAAAAAAAAAAAAAAAAACH5BAAAAAAALAAAAAAHAAUAAAYhQIXj0vmERBZMpJKBaAoLBqWReAwCEwLAcBAgQJ4NRxIEADs=\",\"height\":5021},\"api_model\":\"artworks\",\"is_boosted\":true,\"api_link\":\"https:\\/\\/api.artic.edu\\/api\\/v1\\/artworks\\/14598\",\"id\":14598,\"title\":\"The Beach at Sainte-Adresse\",\"timestamp\":\"2023-11-06T23:30:28-06:00\"},{\"_score\":179.06201,\"thumbnail\":{\"alt_text\":\"Bright landscape painting featuring spindly trees with lush leaves surrounded by light-green foliage, a small town visible between the trees at center, and a calm blue sea in the background.\",\"width\":6018,\"lqip\":\"data:image\\/gif;base64,R0lGODlhBgAFAPQAADc5KUNGLkJCMUZFMUFEN01TPFlXPmVlPWVsO1haRlteRl1cR1ZaT0hPUE5XWlVYVmRkQmVmQmNnSWluSlteYV1lZVlneWBmZ2dwbnd8YGVqeXeEe2t1gX2PhAAAAAAAACH5BAAAAAAALAAAAAAGAAUAAAUY4FUpRtJxVvMwW4ZRmlNMErQEAhIdA0CEADs=\",\"height\":4842},\"api_model\":\"artworks\",\"is_boosted\":false,\"api_link\":\"https:\\/\\/api.artic.edu\\/api\\/v1\\/artworks\\/81537\",\"id\":81537,\"title\":\"Bordighera\",\"timestamp\":\"2023-11-06T23:30:22-06:00\"},{\"_score\":175.59584,\"thumbnail\":{\"alt_text\":\"Painting mostly in soft yellow, green, purple, blue, and pink of two wheatstacks, the right nearer than the left, in a country landscape at sunset.\",\"width\":6840,\"lqip\":\"data:image\\/gif;base64,R0lGODlhCAAFAPUAAGlaXX5dVmNgX2xjWXlhVnFjX3ljW2BbZWhjY3xmYHtnZ3ZsaX1ya31wbH1ycn11dH93dX52d393eYBiX4NoZ4NqaIV1cId4d6CQeaWVfIuHiY2GjZGLh5SPh56Xh6edg6SskKuwnbKtpraxprO2pLa0p7W3prWxqAAAAAAAAAAAAAAAAAAAAAAAAAAAAAAAAAAAAAAAAAAAAAAAAAAAAAAAAAAAAAAAAAAAAAAAAAAAAAAAAAAAAAAAAAAAAAAAACH5BAAAAAAALAAAAAAIAAUAAAYlQNFpVDKRQqCNhtPxYDKfA0CAKBAMAwXFcqlMAgkGJCJ5OBqLIAA7\",\"height\":4455},\"api_model\":\"artworks\",\"is_boosted\":false,\"api_link\":\"https:\\/\\/api.artic.edu\\/api\\/v1\\/artworks\\/14624\",\"id\":14624,\"title\":\"Stacks of Wheat (End of Day, Autumn)\",\"timestamp\":\"2023-11-06T23:32:11-06:00\"},{\"_score\":172.28474,\"thumbnail\":{\"alt_text\":\"Painting of softly rendered shapes in pale blue, green, and white. A textured green mass at left resembles foliage. Blue and white cloud-like forms fill the rest of the frame.\",\"width\":5253,\"lqip\":\"data:image\\/gif;base64,R0lGODlhBQAFAPQAAG5xiHJ2iXJ2jXl6k4CCmYWImZCSqpSWr5ubr46OsZuds5qata6nrqamt6ymsaimt6emubausbOstbuzuLiyvKutxK+wxbGww6+00AAAAAAAAAAAAAAAAAAAAAAAAAAAACH5BAAAAAAALAAAAAAFAAUAAAUVICAUERMQiPQMB2ZVyXJRkKE0kxMCADs=\",\"height\":5097},\"api_model\":\"artworks\",\"is_boosted\":false,\"api_link\":\"https:\\/\\/api.artic.edu\\/api\\/v1\\/artworks\\/16564\",\"id\":16564,\"title\":\"Branch of the Seine near Giverny (Mist)\",\"timestamp\":\"2023-11-06T23:30:25-06:00\"},{\"_score\":171.67468,\"thumbnail\":{\"alt_text\":\"Painting of woman in a striped dress seated on the bank of a river, beneath a full, leafy tree, a boat at the shore and a village visible across the river.\",\"width\":6116,\"lqip\":\"data:image\\/gif;base64,R0lGODlhBgAFAPQAADo8JzM3LDw+KTo\\/NkVPL0FGNEpHMkBHPUNKPlFLM0pLQlFOQVBaR1NjX2dkUHdxW2Nua2xyY3FwYXJwZ3B5cIR8XYJ\\/apCJa4GDcYmJc42Kc4yJe2N2inaPsAAAAAAAACH5BAAAAAAALAAAAAAGAAUAAAUYIFAcCNcJwaBIWWI4T3Ut06ZZGBFRTAOFADs=\",\"height\":4943},\"api_model\":\"artworks\",\"is_boosted\":false,\"api_link\":\"https:\\/\\/api.artic.edu\\/api\\/v1\\/artworks\\/81539\",\"id\":81539,\"title\":\"On the Bank of the Seine, Bennecourt\",\"timestamp\":\"2023-11-06T23:30:22-06:00\"}],\"info\":{\"license_text\":\"The `description` field in this response is licensed under a Creative Commons Attribution 4.0 Generic License (CC-By) and the Terms and Conditions of artic.edu. All other data in this response is licensed under a Creative Commons Zero (CC0) 1.0 designation and the Terms and Conditions of artic.edu.\",\"license_links\":[\"https:\\/\\/creativecommons.org\\/publicdomain\\/zero\\/1.0\\/\",\"https:\\/\\/www.artic.edu\\/terms\"],\"version\":\"1.9\"},\"config\":{\"iiif_url\":\"https:\\/\\/www.artic.edu\\/iiif\\/2\",\"website_url\":\"http:\\/\\/www.artic.edu\"}}\n",
            "\n"
          ]
        }
      ],
      "source": [
        "print(type(r.text))\n",
        "print(r.text)"
      ]
    },
    {
      "cell_type": "markdown",
      "metadata": {
        "id": "PSdWS8ysuRh5"
      },
      "source": [
        "We could turn it into a dictionary using the `json` module."
      ]
    },
    {
      "cell_type": "code",
      "execution_count": null,
      "metadata": {
        "id": "e_B6JjxWuQ2W"
      },
      "outputs": [],
      "source": [
        "import json\n",
        "r_dict = json.loads(r.text)"
      ]
    },
    {
      "cell_type": "markdown",
      "metadata": {
        "id": "Gg1cBHJvufCW"
      },
      "source": [
        "A more direct way would be to use the `.json()` method:"
      ]
    },
    {
      "cell_type": "code",
      "execution_count": null,
      "metadata": {
        "colab": {
          "base_uri": "https://localhost:8080/"
        },
        "id": "L_ZMloiCunBq",
        "outputId": "98cba832-9ff2-4ccf-fe42-5382981805bc"
      },
      "outputs": [
        {
          "output_type": "execute_result",
          "data": {
            "text/plain": [
              "{'preference': None,\n",
              " 'pagination': {'total': 299,\n",
              "  'limit': 10,\n",
              "  'offset': 0,\n",
              "  'total_pages': 30,\n",
              "  'current_page': 1},\n",
              " 'data': [{'_score': 209.20511,\n",
              "   'thumbnail': {'alt_text': 'Painting of a pond seen up close spotted with thickly painted pink and white water lilies and a shadow across the top third of the picture.',\n",
              "    'width': 8808,\n",
              "    'lqip': 'data:image/gif;base64,R0lGODlhBQAFAPQAAEZcaFFfdVtqbk9ldFBlcVFocllrcFlrd11rdl9sdFZtf15wcWV0d2R2eGByfmd6eGl6e2t9elZxiGF4kWB4kmJ9kGJ8lWeCkWSAnQAAAAAAAAAAAAAAAAAAAAAAAAAAACH5BAAAAAAALAAAAAAFAAUAAAUVoJBADXI4TLRMWHU9hmRRCjAURBACADs=',\n",
              "    'height': 8460},\n",
              "   'api_model': 'artworks',\n",
              "   'is_boosted': True,\n",
              "   'api_link': 'https://api.artic.edu/api/v1/artworks/16568',\n",
              "   'id': 16568,\n",
              "   'title': 'Water Lilies',\n",
              "   'timestamp': '2023-11-06T23:32:09-06:00'},\n",
              "  {'_score': 193.82922,\n",
              "   'thumbnail': {'alt_text': 'Loosely painted image of an open-air train station. On the right, a parked train gives off an enormous plumb of white smoke, making the scene look as though it were full of clouds. A huddled mass of barely discernible people crowd around the train on both sides of the tracks. Blue, green, and gray tones dominate.',\n",
              "    'width': 6786,\n",
              "    'lqip': 'data:image/gif;base64,R0lGODlhBwAFAPUAADU8QkROS0ZPU0hSVk1YXVFWUlBXXlFaWVNcWFFkV1plVVtjWmBnWmFqXmRrX05ZYFFaYlljbF5qbGNsY2ZydmlzdWRxeGdze2l1fWx3fG16enJ4fH+KioWOkZeam5yjqZ2lqrG1ubS6vwAAAAAAAAAAAAAAAAAAAAAAAAAAAAAAAAAAAAAAAAAAAAAAAAAAAAAAAAAAAAAAAAAAAAAAAAAAAAAAAAAAAAAAAAAAAAAAAAAAAAAAAAAAAAAAAAAAACH5BAAAAAAALAAAAAAHAAUAAAYhQIKmYslQDoONp8ORBECi0OfyKEAMmAhAgFhMHA2GIhEEADs=',\n",
              "    'height': 5092},\n",
              "   'api_model': 'artworks',\n",
              "   'is_boosted': True,\n",
              "   'api_link': 'https://api.artic.edu/api/v1/artworks/16571',\n",
              "   'id': 16571,\n",
              "   'title': 'Arrival of the Normandy Train, Gare Saint-Lazare',\n",
              "   'timestamp': '2023-11-06T23:30:24-06:00'},\n",
              "  {'_score': 191.69247,\n",
              "   'thumbnail': {'alt_text': 'Painting composed of short, dense brushstrokes depicts two domed stacks of wheat that cast long shadows on a field. The angled light indicates either a rising or setting sun.',\n",
              "    'width': 6884,\n",
              "    'lqip': 'data:image/gif;base64,R0lGODlhCAAFAPUAAF5eVW1bVm9eVmpjW3RoXXxyV39yXmdsZmhmaXZtbG11eH57eYl5bYR7dHuAf4mDfo6HfpePdpCFeZSOfJ+VdnZ+g4ODgoCHg4iHgo+GgY2MgpmThJeTipaSjaCcmbWnh6qrpKmopqqtrKusrbGxobq4pLu5qq2zsQAAAAAAAAAAAAAAAAAAAAAAAAAAAAAAAAAAAAAAAAAAAAAAAAAAAAAAAAAAAAAAAAAAAAAAAAAAAAAAAAAAAAAAAAAAAAAAACH5BAAAAAAALAAAAAAIAAUAAAYlwJNoFAKRSiZPh7OZRCgfBWJwAAQEBU2D8VgkCAYI5uKoWDKSIAA7',\n",
              "    'height': 4068},\n",
              "   'api_model': 'artworks',\n",
              "   'is_boosted': True,\n",
              "   'api_link': 'https://api.artic.edu/api/v1/artworks/64818',\n",
              "   'id': 64818,\n",
              "   'title': 'Stacks of Wheat (End of Summer)',\n",
              "   'timestamp': '2023-11-06T23:32:09-06:00'},\n",
              "  {'_score': 188.05122,\n",
              "   'thumbnail': {'alt_text': 'Painting of a cliff overlooking the sea. Two figures in long dresses, one with a parasol, stand on the cliff beneath blue sky.',\n",
              "    'width': 6356,\n",
              "    'lqip': 'data:image/gif;base64,R0lGODlhBgAFAPQAAHF2XH98dIF3aHyEf4ODZ4ePaIaBc4WIc4eKd4iIc5GKd5OMeJSMeJuRfn2GkIeVlomZl5eZkJicl46ZrZKbr5qeqoaTs4eUt42XsYGZtIuYsIqZsI6cs4eWugAAAAAAACH5BAAAAAAALAAAAAAGAAUAAAUYYHdZ2JZx2lRRDvQMxgFIUSAQRcMoS4KEADs=',\n",
              "    'height': 5090},\n",
              "   'api_model': 'artworks',\n",
              "   'is_boosted': False,\n",
              "   'api_link': 'https://api.artic.edu/api/v1/artworks/14620',\n",
              "   'id': 14620,\n",
              "   'title': 'Cliff Walk at Pourville',\n",
              "   'timestamp': '2023-11-06T23:30:28-06:00'},\n",
              "  {'_score': 185.55153,\n",
              "   'thumbnail': {'alt_text': 'Painting of a small pond dense with pink water lilies, their roots visible through the water, a railed footbridge arching over the pond and lush, dark green folliage surrounding it.',\n",
              "    'width': 5448,\n",
              "    'lqip': 'data:image/gif;base64,R0lGODlhBgAFAPQAAElAOElAOktFPExMOkhHQktKQU5LQlNOQVFKRE9SSVRTR15bS19dT1daUFVgWl1gWWBhT2VoT2diUmplU3JqWXhyXWFpYGNuZmZzb211aHR3Z3FxaXl4bGl5cgAAAAAAACH5BAAAAAAALAAAAAAGAAUAAAUYIBIcCyNBhlAQCaBMVBUNjcZtmYN11nOFADs=',\n",
              "    'height': 4845},\n",
              "   'api_model': 'artworks',\n",
              "   'is_boosted': False,\n",
              "   'api_link': 'https://api.artic.edu/api/v1/artworks/87088',\n",
              "   'id': 87088,\n",
              "   'title': 'Water Lily Pond',\n",
              "   'timestamp': '2023-11-06T23:30:20-06:00'},\n",
              "  {'_score': 184.93216,\n",
              "   'thumbnail': {'alt_text': 'Painting of a beach on a cloudy day with several sailboats on the water, a few rowboats on the shore, and two groupings of people on the sand.',\n",
              "    'width': 6793,\n",
              "    'lqip': 'data:image/gif;base64,R0lGODlhBwAFAPUAAF5iZnRzb3d0c3x5cXR5fH1/eneGh36QkYaEgoGIjoaLjYmMjIuPj4mPkIuQkoyRlI6UmI6UmZKWk5SWkJKWlpKXm5KYnZaanJacn5idn5menpycnZyenKCko6enpaeqqK+tqKuurLGzsAAAAAAAAAAAAAAAAAAAAAAAAAAAAAAAAAAAAAAAAAAAAAAAAAAAAAAAAAAAAAAAAAAAAAAAAAAAAAAAAAAAAAAAAAAAAAAAAAAAAAAAAAAAAAAAAAAAACH5BAAAAAAALAAAAAAHAAUAAAYhQIXj0vmERBZMpJKBaAoLBqWReAwCEwLAcBAgQJ4NRxIEADs=',\n",
              "    'height': 5021},\n",
              "   'api_model': 'artworks',\n",
              "   'is_boosted': True,\n",
              "   'api_link': 'https://api.artic.edu/api/v1/artworks/14598',\n",
              "   'id': 14598,\n",
              "   'title': 'The Beach at Sainte-Adresse',\n",
              "   'timestamp': '2023-11-06T23:30:28-06:00'},\n",
              "  {'_score': 179.1312,\n",
              "   'thumbnail': {'alt_text': 'Bright landscape painting featuring spindly trees with lush leaves surrounded by light-green foliage, a small town visible between the trees at center, and a calm blue sea in the background.',\n",
              "    'width': 6018,\n",
              "    'lqip': 'data:image/gif;base64,R0lGODlhBgAFAPQAADc5KUNGLkJCMUZFMUFEN01TPFlXPmVlPWVsO1haRlteRl1cR1ZaT0hPUE5XWlVYVmRkQmVmQmNnSWluSlteYV1lZVlneWBmZ2dwbnd8YGVqeXeEe2t1gX2PhAAAAAAAACH5BAAAAAAALAAAAAAGAAUAAAUY4FUpRtJxVvMwW4ZRmlNMErQEAhIdA0CEADs=',\n",
              "    'height': 4842},\n",
              "   'api_model': 'artworks',\n",
              "   'is_boosted': False,\n",
              "   'api_link': 'https://api.artic.edu/api/v1/artworks/81537',\n",
              "   'id': 81537,\n",
              "   'title': 'Bordighera',\n",
              "   'timestamp': '2023-11-06T23:30:22-06:00'},\n",
              "  {'_score': 175.66368,\n",
              "   'thumbnail': {'alt_text': 'Painting mostly in soft yellow, green, purple, blue, and pink of two wheatstacks, the right nearer than the left, in a country landscape at sunset.',\n",
              "    'width': 6840,\n",
              "    'lqip': 'data:image/gif;base64,R0lGODlhCAAFAPUAAGlaXX5dVmNgX2xjWXlhVnFjX3ljW2BbZWhjY3xmYHtnZ3ZsaX1ya31wbH1ycn11dH93dX52d393eYBiX4NoZ4NqaIV1cId4d6CQeaWVfIuHiY2GjZGLh5SPh56Xh6edg6SskKuwnbKtpraxprO2pLa0p7W3prWxqAAAAAAAAAAAAAAAAAAAAAAAAAAAAAAAAAAAAAAAAAAAAAAAAAAAAAAAAAAAAAAAAAAAAAAAAAAAAAAAAAAAAAAAAAAAAAAAACH5BAAAAAAALAAAAAAIAAUAAAYlQNFpVDKRQqCNhtPxYDKfA0CAKBAMAwXFcqlMAgkGJCJ5OBqLIAA7',\n",
              "    'height': 4455},\n",
              "   'api_model': 'artworks',\n",
              "   'is_boosted': False,\n",
              "   'api_link': 'https://api.artic.edu/api/v1/artworks/14624',\n",
              "   'id': 14624,\n",
              "   'title': 'Stacks of Wheat (End of Day, Autumn)',\n",
              "   'timestamp': '2023-11-06T23:32:11-06:00'},\n",
              "  {'_score': 172.35132,\n",
              "   'thumbnail': {'alt_text': 'Painting of softly rendered shapes in pale blue, green, and white. A textured green mass at left resembles foliage. Blue and white cloud-like forms fill the rest of the frame.',\n",
              "    'width': 5253,\n",
              "    'lqip': 'data:image/gif;base64,R0lGODlhBQAFAPQAAG5xiHJ2iXJ2jXl6k4CCmYWImZCSqpSWr5ubr46OsZuds5qata6nrqamt6ymsaimt6emubausbOstbuzuLiyvKutxK+wxbGww6+00AAAAAAAAAAAAAAAAAAAAAAAAAAAACH5BAAAAAAALAAAAAAFAAUAAAUVICAUERMQiPQMB2ZVyXJRkKE0kxMCADs=',\n",
              "    'height': 5097},\n",
              "   'api_model': 'artworks',\n",
              "   'is_boosted': False,\n",
              "   'api_link': 'https://api.artic.edu/api/v1/artworks/16564',\n",
              "   'id': 16564,\n",
              "   'title': 'Branch of the Seine near Giverny (Mist)',\n",
              "   'timestamp': '2023-11-06T23:30:25-06:00'},\n",
              "  {'_score': 171.74101,\n",
              "   'thumbnail': {'alt_text': 'Painting of woman in a striped dress seated on the bank of a river, beneath a full, leafy tree, a boat at the shore and a village visible across the river.',\n",
              "    'width': 6116,\n",
              "    'lqip': 'data:image/gif;base64,R0lGODlhBgAFAPQAADo8JzM3LDw+KTo/NkVPL0FGNEpHMkBHPUNKPlFLM0pLQlFOQVBaR1NjX2dkUHdxW2Nua2xyY3FwYXJwZ3B5cIR8XYJ/apCJa4GDcYmJc42Kc4yJe2N2inaPsAAAAAAAACH5BAAAAAAALAAAAAAGAAUAAAUYIFAcCNcJwaBIWWI4T3Ut06ZZGBFRTAOFADs=',\n",
              "    'height': 4943},\n",
              "   'api_model': 'artworks',\n",
              "   'is_boosted': False,\n",
              "   'api_link': 'https://api.artic.edu/api/v1/artworks/81539',\n",
              "   'id': 81539,\n",
              "   'title': 'On the Bank of the Seine, Bennecourt',\n",
              "   'timestamp': '2023-11-06T23:30:22-06:00'}],\n",
              " 'info': {'license_text': 'The `description` field in this response is licensed under a Creative Commons Attribution 4.0 Generic License (CC-By) and the Terms and Conditions of artic.edu. All other data in this response is licensed under a Creative Commons Zero (CC0) 1.0 designation and the Terms and Conditions of artic.edu.',\n",
              "  'license_links': ['https://creativecommons.org/publicdomain/zero/1.0/',\n",
              "   'https://www.artic.edu/terms'],\n",
              "  'version': '1.9'},\n",
              " 'config': {'iiif_url': 'https://www.artic.edu/iiif/2',\n",
              "  'website_url': 'http://www.artic.edu'}}"
            ]
          },
          "metadata": {},
          "execution_count": 75
        }
      ],
      "source": [
        "r_dict = r.json()\n",
        "r_dict"
      ]
    },
    {
      "cell_type": "markdown",
      "metadata": {
        "id": "7uXZpn5ovFtf"
      },
      "source": [
        "What are its keys?"
      ]
    },
    {
      "cell_type": "code",
      "execution_count": null,
      "metadata": {
        "colab": {
          "base_uri": "https://localhost:8080/"
        },
        "id": "krHu4lqnvH7s",
        "outputId": "5feb460a-9afb-4e42-c115-c7a7caa8e135"
      },
      "outputs": [
        {
          "output_type": "execute_result",
          "data": {
            "text/plain": [
              "dict_keys(['preference', 'pagination', 'data', 'info', 'config'])"
            ]
          },
          "metadata": {},
          "execution_count": 76
        }
      ],
      "source": [
        "r_dict.keys()"
      ]
    },
    {
      "cell_type": "markdown",
      "metadata": {
        "id": "Rmu1GgTuvL9s"
      },
      "source": [
        "Check the keys. There is some useful info in `pagination`."
      ]
    },
    {
      "cell_type": "code",
      "execution_count": null,
      "metadata": {
        "colab": {
          "base_uri": "https://localhost:8080/"
        },
        "id": "LbdS1CyavSFX",
        "outputId": "25eb3d05-2ae4-473e-84ca-ad99c2349b37"
      },
      "outputs": [
        {
          "output_type": "execute_result",
          "data": {
            "text/plain": [
              "{'total': 299, 'limit': 10, 'offset': 0, 'total_pages': 30, 'current_page': 1}"
            ]
          },
          "metadata": {},
          "execution_count": 33
        }
      ],
      "source": [
        "r_dict['pagination']"
      ]
    },
    {
      "cell_type": "code",
      "execution_count": null,
      "metadata": {
        "id": "-IDYAUS6vgfO"
      },
      "outputs": [],
      "source": [
        "r_dict['data']"
      ]
    },
    {
      "cell_type": "markdown",
      "metadata": {
        "id": "tAliQUPdvmos"
      },
      "source": [
        "`r_dict['data']` gave us a list. Let's make sure:"
      ]
    },
    {
      "cell_type": "code",
      "execution_count": null,
      "metadata": {
        "colab": {
          "base_uri": "https://localhost:8080/"
        },
        "id": "7lUbR3HSvqhE",
        "outputId": "050fd8e5-e8e0-425e-c798-b557429028d8"
      },
      "outputs": [
        {
          "output_type": "execute_result",
          "data": {
            "text/plain": [
              "list"
            ]
          },
          "metadata": {},
          "execution_count": 78
        }
      ],
      "source": [
        "type(r_dict['data'])"
      ]
    },
    {
      "cell_type": "markdown",
      "metadata": {
        "id": "iBHZpbTuvxig"
      },
      "source": [
        "Check out the length of the list:"
      ]
    },
    {
      "cell_type": "code",
      "execution_count": null,
      "metadata": {
        "colab": {
          "base_uri": "https://localhost:8080/"
        },
        "id": "c4Qf-17Cvzp1",
        "outputId": "a54bc823-06e8-4a7c-a2e0-559fb8952213"
      },
      "outputs": [
        {
          "output_type": "execute_result",
          "data": {
            "text/plain": [
              "10"
            ]
          },
          "metadata": {},
          "execution_count": 79
        }
      ],
      "source": [
        "len(r_dict['data'])"
      ]
    },
    {
      "cell_type": "markdown",
      "metadata": {
        "id": "S9Mt8YyCv7rd"
      },
      "source": [
        "Check out just one item from the list:"
      ]
    },
    {
      "cell_type": "code",
      "execution_count": null,
      "metadata": {
        "colab": {
          "base_uri": "https://localhost:8080/"
        },
        "id": "1E6wyAOxv7Fc",
        "outputId": "0a9dd7f8-98d5-489f-aa55-8d1a74d1a9a1"
      },
      "outputs": [
        {
          "output_type": "execute_result",
          "data": {
            "text/plain": [
              "{'_score': 210.90451,\n",
              " 'thumbnail': {'alt_text': 'Painting of a pond seen up close spotted with thickly painted pink and white water lilies and a shadow across the top third of the picture.',\n",
              "  'width': 8808,\n",
              "  'lqip': 'data:image/gif;base64,R0lGODlhBQAFAPQAAEZcaFFfdVtqbk9ldFBlcVFocllrcFlrd11rdl9sdFZtf15wcWV0d2R2eGByfmd6eGl6e2t9elZxiGF4kWB4kmJ9kGJ8lWeCkWSAnQAAAAAAAAAAAAAAAAAAAAAAAAAAACH5BAAAAAAALAAAAAAFAAUAAAUVoJBADXI4TLRMWHU9hmRRCjAURBACADs=',\n",
              "  'height': 8460},\n",
              " 'api_model': 'artworks',\n",
              " 'is_boosted': True,\n",
              " 'api_link': 'https://api.artic.edu/api/v1/artworks/16568',\n",
              " 'id': 16568,\n",
              " 'title': 'Water Lilies',\n",
              " 'timestamp': '2023-11-06T23:32:09-06:00'}"
            ]
          },
          "metadata": {},
          "execution_count": 36
        }
      ],
      "source": [
        "r_dict['data'][0]"
      ]
    },
    {
      "cell_type": "markdown",
      "metadata": {
        "id": "AOs2PGFvw222"
      },
      "source": [
        "We can use the given api link to make an API request about this specific work:"
      ]
    },
    {
      "cell_type": "code",
      "execution_count": null,
      "metadata": {
        "id": "FzAWP_M3w2Sk"
      },
      "outputs": [],
      "source": [
        "res = requests.get(r_dict['data'][0]['api_link']).json()\n",
        "res"
      ]
    },
    {
      "cell_type": "markdown",
      "metadata": {
        "id": "uyFrqJxWxP5e"
      },
      "source": [
        "Get information about height in cm, weight in cm, and medium"
      ]
    },
    {
      "cell_type": "code",
      "execution_count": null,
      "metadata": {
        "colab": {
          "base_uri": "https://localhost:8080/"
        },
        "id": "B1ByW-TQxPBF",
        "outputId": "03bcd624-d34e-46a3-81c7-7204195944c3"
      },
      "outputs": [
        {
          "output_type": "execute_result",
          "data": {
            "text/plain": [
              "dict_keys(['data', 'info', 'config'])"
            ]
          },
          "metadata": {},
          "execution_count": 38
        }
      ],
      "source": [
        "res.keys()"
      ]
    },
    {
      "cell_type": "code",
      "execution_count": null,
      "metadata": {
        "colab": {
          "base_uri": "https://localhost:8080/"
        },
        "id": "RkxOvX8Cxfsu",
        "outputId": "47d6ef8d-f4cd-42e3-cc63-d0145b4f6ae6"
      },
      "outputs": [
        {
          "output_type": "execute_result",
          "data": {
            "text/plain": [
              "dict_keys(['id', 'api_model', 'api_link', 'is_boosted', 'title', 'alt_titles', 'thumbnail', 'main_reference_number', 'has_not_been_viewed_much', 'boost_rank', 'date_start', 'date_end', 'date_display', 'date_qualifier_title', 'date_qualifier_id', 'artist_display', 'place_of_origin', 'description', 'dimensions', 'dimensions_detail', 'medium_display', 'inscriptions', 'credit_line', 'catalogue_display', 'publication_history', 'exhibition_history', 'provenance_text', 'edition', 'publishing_verification_level', 'internal_department_id', 'fiscal_year', 'fiscal_year_deaccession', 'is_public_domain', 'is_zoomable', 'max_zoom_window_size', 'copyright_notice', 'has_multimedia_resources', 'has_educational_resources', 'has_advanced_imaging', 'colorfulness', 'color', 'latitude', 'longitude', 'latlon', 'is_on_view', 'on_loan_display', 'gallery_title', 'gallery_id', 'nomisma_id', 'artwork_type_title', 'artwork_type_id', 'department_title', 'department_id', 'artist_id', 'artist_title', 'alt_artist_ids', 'artist_ids', 'artist_titles', 'category_ids', 'category_titles', 'term_titles', 'style_id', 'style_title', 'alt_style_ids', 'style_ids', 'style_titles', 'classification_id', 'classification_title', 'alt_classification_ids', 'classification_ids', 'classification_titles', 'subject_id', 'alt_subject_ids', 'subject_ids', 'subject_titles', 'material_id', 'alt_material_ids', 'material_ids', 'material_titles', 'technique_id', 'alt_technique_ids', 'technique_ids', 'technique_titles', 'theme_titles', 'image_id', 'alt_image_ids', 'document_ids', 'sound_ids', 'video_ids', 'text_ids', 'section_ids', 'section_titles', 'site_ids', 'suggest_autocomplete_boosted', 'suggest_autocomplete_all', 'source_updated_at', 'updated_at', 'timestamp'])"
            ]
          },
          "metadata": {},
          "execution_count": 39
        }
      ],
      "source": [
        "res['data'].keys()"
      ]
    },
    {
      "cell_type": "code",
      "execution_count": null,
      "metadata": {
        "colab": {
          "base_uri": "https://localhost:8080/"
        },
        "id": "k6MgJ7MMxkZq",
        "outputId": "55d2f6b6-02a3-41bc-9628-649aaea20f79"
      },
      "outputs": [
        {
          "output_type": "execute_result",
          "data": {
            "text/plain": [
              "[{'depth_cm': 0,\n",
              "  'depth_in': 0,\n",
              "  'width_cm': 94.1,\n",
              "  'width_in': 37.0625,\n",
              "  'height_cm': 89.9,\n",
              "  'height_in': 35.375,\n",
              "  'diameter_cm': 0,\n",
              "  'diameter_in': 0,\n",
              "  'clarification': None}]"
            ]
          },
          "metadata": {},
          "execution_count": 40
        }
      ],
      "source": [
        "res['data']['dimensions_detail'] # notice that this a list of length 1!"
      ]
    },
    {
      "cell_type": "code",
      "execution_count": null,
      "metadata": {
        "colab": {
          "base_uri": "https://localhost:8080/"
        },
        "id": "sdvAW0voxpH-",
        "outputId": "cce3f863-1315-4c5e-be1b-7f76746e2752"
      },
      "outputs": [
        {
          "output_type": "execute_result",
          "data": {
            "text/plain": [
              "94.1"
            ]
          },
          "metadata": {},
          "execution_count": 42
        }
      ],
      "source": [
        "res['data']['dimensions_detail'][0]['height_cm']\n",
        "res['data']['dimensions_detail'][0]['width_cm']"
      ]
    },
    {
      "cell_type": "markdown",
      "metadata": {
        "id": "dW-12EtwyC1v"
      },
      "source": [
        "Get the medium too:"
      ]
    },
    {
      "cell_type": "code",
      "execution_count": null,
      "metadata": {
        "colab": {
          "base_uri": "https://localhost:8080/",
          "height": 35
        },
        "id": "KbX5Ze2EyKCh",
        "outputId": "83ca8d35-cc93-4350-91e8-71fc38f77112"
      },
      "outputs": [
        {
          "data": {
            "application/vnd.google.colaboratory.intrinsic+json": {
              "type": "string"
            },
            "text/plain": [
              "'Oil on canvas'"
            ]
          },
          "execution_count": 44,
          "metadata": {},
          "output_type": "execute_result"
        }
      ],
      "source": [
        "res['data']['medium_display']"
      ]
    },
    {
      "cell_type": "markdown",
      "metadata": {
        "id": "n_TxASQdyP_f"
      },
      "source": [
        "After the exploration, let's work to get:\n",
        "\n",
        "- title\n",
        "- id\n",
        "- height_cm\n",
        "- width_cm\n",
        "\n",
        "\n",
        "Use search endpoint to get the API links to works of 'Monet', then use those links to get the rest."
      ]
    },
    {
      "cell_type": "markdown",
      "metadata": {
        "id": "CGL2SMJw3IQ_"
      },
      "source": [
        "We had seen that there were 296 works in total."
      ]
    },
    {
      "cell_type": "code",
      "execution_count": null,
      "metadata": {
        "colab": {
          "base_uri": "https://localhost:8080/"
        },
        "id": "F42EDcVtzNXY",
        "outputId": "f23da8df-c8d0-4f7e-adb8-f852904a6e66"
      },
      "outputs": [
        {
          "output_type": "execute_result",
          "data": {
            "text/plain": [
              "{'total': 299, 'limit': 10, 'offset': 0, 'total_pages': 30, 'current_page': 1}"
            ]
          },
          "metadata": {},
          "execution_count": 43
        }
      ],
      "source": [
        "r_dict['pagination']"
      ]
    },
    {
      "cell_type": "markdown",
      "metadata": {
        "id": "GrkyD9S73Lsq"
      },
      "source": [
        "Can we request them all?"
      ]
    },
    {
      "cell_type": "code",
      "execution_count": null,
      "metadata": {
        "colab": {
          "base_uri": "https://localhost:8080/"
        },
        "id": "wrxSWyGq1aPV",
        "outputId": "8e549c19-6b13-41d2-ee39-93e5e93a7ee1"
      },
      "outputs": [
        {
          "output_type": "execute_result",
          "data": {
            "text/plain": [
              "<Response [403]>"
            ]
          },
          "metadata": {},
          "execution_count": 81
        }
      ],
      "source": [
        "r_new = requests.get(API_base_url, params = {\"q\": \"Monet\", 'size': 296})\n",
        "r_new"
      ]
    },
    {
      "cell_type": "code",
      "execution_count": null,
      "metadata": {
        "colab": {
          "base_uri": "https://localhost:8080/",
          "height": 56
        },
        "id": "o6KpGEOB4XW8",
        "outputId": "12dec814-a984-4248-b121-f97fc528554d"
      },
      "outputs": [
        {
          "output_type": "execute_result",
          "data": {
            "text/plain": [
              "'{\"status\":403,\"error\":\"Invalid limit\",\"detail\":\"You have requested too many resources per page. Please set a smaller limit.\"}\\n'"
            ],
            "application/vnd.google.colaboratory.intrinsic+json": {
              "type": "string"
            }
          },
          "metadata": {},
          "execution_count": 82
        }
      ],
      "source": [
        "r_new.text"
      ]
    },
    {
      "cell_type": "code",
      "execution_count": null,
      "metadata": {
        "colab": {
          "base_uri": "https://localhost:8080/"
        },
        "id": "HbE7_GIR4Y_n",
        "outputId": "baeb261f-9060-408d-eab5-b2f9bc421ba8"
      },
      "outputs": [
        {
          "output_type": "execute_result",
          "data": {
            "text/plain": [
              "403"
            ]
          },
          "metadata": {},
          "execution_count": 83
        }
      ],
      "source": [
        "r_new.status_code"
      ]
    },
    {
      "cell_type": "code",
      "source": [
        "r_dict['pagination']"
      ],
      "metadata": {
        "colab": {
          "base_uri": "https://localhost:8080/"
        },
        "id": "fwaZJ4Psftdh",
        "outputId": "3c26f968-1ca0-4cd7-a930-d7053a178599"
      },
      "execution_count": null,
      "outputs": [
        {
          "output_type": "execute_result",
          "data": {
            "text/plain": [
              "{'total': 299, 'limit': 10, 'offset': 0, 'total_pages': 30, 'current_page': 1}"
            ]
          },
          "metadata": {},
          "execution_count": 84
        }
      ]
    },
    {
      "cell_type": "markdown",
      "metadata": {
        "id": "KjPOzAbI3t7L"
      },
      "source": [
        "The documentation says \"For performance reasons, limit cannot exceed 100.\" So, let's request 50 records each time"
      ]
    },
    {
      "cell_type": "code",
      "execution_count": null,
      "metadata": {
        "colab": {
          "base_uri": "https://localhost:8080/"
        },
        "id": "Ym_37qkl3YWO",
        "outputId": "7eca1e64-6bcd-4c34-abbc-b04c49ff86c8"
      },
      "outputs": [
        {
          "output_type": "stream",
          "name": "stdout",
          "text": [
            "Number of results from this iteration is 50\n",
            "Current page is 1\n",
            "1 of 6 completed!\n",
            "\n",
            "Number of results from this iteration is 50\n",
            "Current page is 2\n",
            "2 of 6 completed!\n",
            "\n",
            "Number of results from this iteration is 50\n",
            "Current page is 3\n",
            "3 of 6 completed!\n",
            "\n",
            "Number of results from this iteration is 50\n",
            "Current page is 4\n",
            "4 of 6 completed!\n",
            "\n",
            "Number of results from this iteration is 50\n",
            "Current page is 5\n",
            "5 of 6 completed!\n",
            "\n",
            "Number of results from this iteration is 49\n",
            "Current page is 6\n",
            "6 of 6 completed!\n",
            "\n"
          ]
        }
      ],
      "source": [
        "from time import sleep\n",
        "\n",
        "size = 50\n",
        "container = []\n",
        "current_page = 0\n",
        "total_pages = 1\n",
        "from_ = 0\n",
        "while current_page < total_pages:\n",
        "    r = requests.get(API_base_url, params = {\"q\": \"Monet\", 'size': size, 'from': from_})\n",
        "    assert r.status_code == 200 # raiases an AssertionError is the condition is not satisfied\n",
        "    r_dict = r.json()\n",
        "    print('Number of results from this iteration is', str(len(r_dict['data'])))\n",
        "    container.extend(r_dict['data']) # not append\n",
        "    current_page = r_dict['pagination']['current_page']\n",
        "    print('Current page is', current_page)\n",
        "    total_pages = r_dict['pagination']['total_pages']\n",
        "    print(str(current_page) + ' of ' + str(total_pages) + ' completed!\\n')\n",
        "    from_ = from_ + size\n",
        "    sleep(3)"
      ]
    },
    {
      "cell_type": "code",
      "execution_count": null,
      "metadata": {
        "colab": {
          "base_uri": "https://localhost:8080/"
        },
        "id": "NT6MYilw6iuf",
        "outputId": "619d53b7-3b90-4e4c-d482-37ef4e00b562"
      },
      "outputs": [
        {
          "output_type": "execute_result",
          "data": {
            "text/plain": [
              "299"
            ]
          },
          "metadata": {},
          "execution_count": 103
        }
      ],
      "source": [
        "len(container)"
      ]
    },
    {
      "cell_type": "code",
      "execution_count": null,
      "metadata": {
        "colab": {
          "base_uri": "https://localhost:8080/"
        },
        "id": "eyEi0aFm6mfr",
        "outputId": "9ca00152-1397-42fc-c60b-ffcffe342b5f"
      },
      "outputs": [
        {
          "output_type": "execute_result",
          "data": {
            "text/plain": [
              "{'_score': 210.77252,\n",
              " 'thumbnail': {'alt_text': 'Painting of a pond seen up close spotted with thickly painted pink and white water lilies and a shadow across the top third of the picture.',\n",
              "  'width': 8808,\n",
              "  'lqip': 'data:image/gif;base64,R0lGODlhBQAFAPQAAEZcaFFfdVtqbk9ldFBlcVFocllrcFlrd11rdl9sdFZtf15wcWV0d2R2eGByfmd6eGl6e2t9elZxiGF4kWB4kmJ9kGJ8lWeCkWSAnQAAAAAAAAAAAAAAAAAAAAAAAAAAACH5BAAAAAAALAAAAAAFAAUAAAUVoJBADXI4TLRMWHU9hmRRCjAURBACADs=',\n",
              "  'height': 8460},\n",
              " 'api_model': 'artworks',\n",
              " 'is_boosted': True,\n",
              " 'api_link': 'https://api.artic.edu/api/v1/artworks/16568',\n",
              " 'id': 16568,\n",
              " 'title': 'Water Lilies',\n",
              " 'timestamp': '2023-11-06T23:32:09-06:00'}"
            ]
          },
          "metadata": {},
          "execution_count": 104
        }
      ],
      "source": [
        "container[0]"
      ]
    },
    {
      "cell_type": "code",
      "execution_count": null,
      "metadata": {
        "colab": {
          "base_uri": "https://localhost:8080/",
          "height": 56
        },
        "id": "unSlQIdB75kD",
        "outputId": "ce0ed489-eba5-4efb-b8fa-9a522bf3df28"
      },
      "outputs": [
        {
          "output_type": "execute_result",
          "data": {
            "text/plain": [
              "'Painting of a pond seen up close spotted with thickly painted pink and white water lilies and a shadow across the top third of the picture.'"
            ],
            "application/vnd.google.colaboratory.intrinsic+json": {
              "type": "string"
            }
          },
          "metadata": {},
          "execution_count": 105
        }
      ],
      "source": [
        "container[0]['thumbnail']['alt_text']"
      ]
    },
    {
      "cell_type": "markdown",
      "metadata": {
        "id": "eX4NtQF87Uew"
      },
      "source": [
        "Use list comprehension to only get the information we care about (a list where every item is a dictionary)"
      ]
    },
    {
      "cell_type": "code",
      "execution_count": null,
      "metadata": {
        "id": "p-1I0nnK7UAb"
      },
      "outputs": [],
      "source": [
        "container2 = [{'id' : item['id'], 'api_link' : item['api_link'], 'title': item['title']} for item in container]"
      ]
    },
    {
      "cell_type": "code",
      "execution_count": null,
      "metadata": {
        "colab": {
          "base_uri": "https://localhost:8080/"
        },
        "id": "U7kcsWzj73tC",
        "outputId": "8f75e4a2-cd38-4475-a26f-db93bd364e9e"
      },
      "outputs": [
        {
          "output_type": "execute_result",
          "data": {
            "text/plain": [
              "[{'id': 16568,\n",
              "  'api_link': 'https://api.artic.edu/api/v1/artworks/16568',\n",
              "  'title': 'Water Lilies'},\n",
              " {'id': 16571,\n",
              "  'api_link': 'https://api.artic.edu/api/v1/artworks/16571',\n",
              "  'title': 'Arrival of the Normandy Train, Gare Saint-Lazare'},\n",
              " {'id': 64818,\n",
              "  'api_link': 'https://api.artic.edu/api/v1/artworks/64818',\n",
              "  'title': 'Stacks of Wheat (End of Summer)'},\n",
              " {'id': 14620,\n",
              "  'api_link': 'https://api.artic.edu/api/v1/artworks/14620',\n",
              "  'title': 'Cliff Walk at Pourville'},\n",
              " {'id': 87088,\n",
              "  'api_link': 'https://api.artic.edu/api/v1/artworks/87088',\n",
              "  'title': 'Water Lily Pond'},\n",
              " {'id': 14598,\n",
              "  'api_link': 'https://api.artic.edu/api/v1/artworks/14598',\n",
              "  'title': 'The Beach at Sainte-Adresse'},\n",
              " {'id': 81537,\n",
              "  'api_link': 'https://api.artic.edu/api/v1/artworks/81537',\n",
              "  'title': 'Bordighera'},\n",
              " {'id': 14624,\n",
              "  'api_link': 'https://api.artic.edu/api/v1/artworks/14624',\n",
              "  'title': 'Stacks of Wheat (End of Day, Autumn)'},\n",
              " {'id': 16564,\n",
              "  'api_link': 'https://api.artic.edu/api/v1/artworks/16564',\n",
              "  'title': 'Branch of the Seine near Giverny (Mist)'},\n",
              " {'id': 81539,\n",
              "  'api_link': 'https://api.artic.edu/api/v1/artworks/81539',\n",
              "  'title': 'On the Bank of the Seine, Bennecourt'},\n",
              " {'id': 16549,\n",
              "  'api_link': 'https://api.artic.edu/api/v1/artworks/16549',\n",
              "  'title': 'Apples and Grapes'},\n",
              " {'id': 16554,\n",
              "  'api_link': 'https://api.artic.edu/api/v1/artworks/16554',\n",
              "  'title': \"The Artist's House at Argenteuil\"},\n",
              " {'id': 4783,\n",
              "  'api_link': 'https://api.artic.edu/api/v1/artworks/4783',\n",
              "  'title': 'Poppy Field (Giverny)'},\n",
              " {'id': 16584,\n",
              "  'api_link': 'https://api.artic.edu/api/v1/artworks/16584',\n",
              "  'title': 'Houses of Parliament, London'},\n",
              " {'id': 20545,\n",
              "  'api_link': 'https://api.artic.edu/api/v1/artworks/20545',\n",
              "  'title': 'Rocks at Port-Goulphar, Belle-Île'},\n",
              " {'id': 16544,\n",
              "  'api_link': 'https://api.artic.edu/api/v1/artworks/16544',\n",
              "  'title': 'Charing Cross Bridge, London'},\n",
              " {'id': 103139,\n",
              "  'api_link': 'https://api.artic.edu/api/v1/artworks/103139',\n",
              "  'title': 'Waterloo Bridge, Gray Weather'},\n",
              " {'id': 97933,\n",
              "  'api_link': 'https://api.artic.edu/api/v1/artworks/97933',\n",
              "  'title': 'Water Lily Pond'},\n",
              " {'id': 4887,\n",
              "  'api_link': 'https://api.artic.edu/api/v1/artworks/4887',\n",
              "  'title': 'Irises'},\n",
              " {'id': 20701,\n",
              "  'api_link': 'https://api.artic.edu/api/v1/artworks/20701',\n",
              "  'title': 'Waterloo Bridge, Sunlight Effect'},\n",
              " {'id': 81545,\n",
              "  'api_link': 'https://api.artic.edu/api/v1/artworks/81545',\n",
              "  'title': 'Stacks of Wheat (Sunset, Snow Effect)'},\n",
              " {'id': 86998,\n",
              "  'api_link': 'https://api.artic.edu/api/v1/artworks/86998',\n",
              "  'title': 'Sandvika, Norway'},\n",
              " {'id': 111318,\n",
              "  'api_link': 'https://api.artic.edu/api/v1/artworks/111318',\n",
              "  'title': 'Stack of Wheat'},\n",
              " {'id': 20535,\n",
              "  'api_link': 'https://api.artic.edu/api/v1/artworks/20535',\n",
              "  'title': \"Étretat: The Beach and the Falaise d'Amont\"},\n",
              " {'id': 81546,\n",
              "  'api_link': 'https://api.artic.edu/api/v1/artworks/81546',\n",
              "  'title': 'The Petite Creuse River'},\n",
              " {'id': 14634,\n",
              "  'api_link': 'https://api.artic.edu/api/v1/artworks/14634',\n",
              "  'title': 'Vétheuil'},\n",
              " {'id': 59927,\n",
              "  'api_link': 'https://api.artic.edu/api/v1/artworks/59927',\n",
              "  'title': 'Boats on the Beach at Étretat'},\n",
              " {'id': 14630,\n",
              "  'api_link': 'https://api.artic.edu/api/v1/artworks/14630',\n",
              "  'title': 'Venice, Palazzo Dario'},\n",
              " {'id': 100191,\n",
              "  'api_link': 'https://api.artic.edu/api/v1/artworks/100191',\n",
              "  'title': 'Stack of Wheat (Thaw, Sunset)'},\n",
              " {'id': 16560,\n",
              "  'api_link': 'https://api.artic.edu/api/v1/artworks/16560',\n",
              "  'title': 'Stack of Wheat (Snow Effect, Overcast Day)'},\n",
              " {'id': 16579,\n",
              "  'api_link': 'https://api.artic.edu/api/v1/artworks/16579',\n",
              "  'title': 'Vétheuil'},\n",
              " {'id': 81540,\n",
              "  'api_link': 'https://api.artic.edu/api/v1/artworks/81540',\n",
              "  'title': 'The Departure of the Boats, Étretat'},\n",
              " {'id': 16542,\n",
              "  'api_link': 'https://api.artic.edu/api/v1/artworks/16542',\n",
              "  'title': 'The Customs House at Varengeville'},\n",
              " {'id': 15826,\n",
              "  'api_link': 'https://api.artic.edu/api/v1/artworks/15826',\n",
              "  'title': 'Caricature of Auguste Vacquerie'},\n",
              " {'id': 15818,\n",
              "  'api_link': 'https://api.artic.edu/api/v1/artworks/15818',\n",
              "  'title': 'Caricature of Henri Cassinelli (“Rufus Croutinelli”)'},\n",
              " {'id': 113092,\n",
              "  'api_link': 'https://api.artic.edu/api/v1/artworks/113092',\n",
              "  'title': 'Caricature of a Man with a Large Nose'},\n",
              " {'id': 15809,\n",
              "  'api_link': 'https://api.artic.edu/api/v1/artworks/15809',\n",
              "  'title': 'Caricature of a Man with a Big Cigar'},\n",
              " {'id': 15803,\n",
              "  'api_link': 'https://api.artic.edu/api/v1/artworks/15803',\n",
              "  'title': 'Caricature of Jules Didier (“Butterfly Man”)'},\n",
              " {'id': 15800,\n",
              "  'api_link': 'https://api.artic.edu/api/v1/artworks/15800',\n",
              "  'title': 'Caricature of Léon Manchon'},\n",
              " {'id': 108583,\n",
              "  'api_link': 'https://api.artic.edu/api/v1/artworks/108583',\n",
              "  'title': 'Cliffs and Sea, Sainte-Adresse'},\n",
              " {'id': 7988,\n",
              "  'api_link': 'https://api.artic.edu/api/v1/artworks/7988',\n",
              "  'title': 'Claude Monet'},\n",
              " {'id': 15814,\n",
              "  'api_link': 'https://api.artic.edu/api/v1/artworks/15814',\n",
              "  'title': 'Caricature of a Man in the Small Hat'},\n",
              " {'id': 15812,\n",
              "  'api_link': 'https://api.artic.edu/api/v1/artworks/15812',\n",
              "  'title': 'Caricature of Mario Uchard'},\n",
              " {'id': 186316,\n",
              "  'api_link': 'https://api.artic.edu/api/v1/artworks/186316',\n",
              "  'title': 'Stacks of Wheat'},\n",
              " {'id': 113093,\n",
              "  'api_link': 'https://api.artic.edu/api/v1/artworks/113093',\n",
              "  'title': 'Caricature of Eugène Marcel'},\n",
              " {'id': 113090,\n",
              "  'api_link': 'https://api.artic.edu/api/v1/artworks/113090',\n",
              "  'title': 'Caricature of a Man Standing by Desk (recto); Sketch of Male Head in Profile (verso)'},\n",
              " {'id': 186315,\n",
              "  'api_link': 'https://api.artic.edu/api/v1/artworks/186315',\n",
              "  'title': 'Boy in the Country'},\n",
              " {'id': 15243,\n",
              "  'api_link': 'https://api.artic.edu/api/v1/artworks/15243',\n",
              "  'title': 'The Tragic Actor (Rouvière in the role of Hamlet)'},\n",
              " {'id': 81533,\n",
              "  'api_link': 'https://api.artic.edu/api/v1/artworks/81533',\n",
              "  'title': 'The Races at Longchamp'},\n",
              " {'id': 16499,\n",
              "  'api_link': 'https://api.artic.edu/api/v1/artworks/16499',\n",
              "  'title': 'Jesus Mocked by the Soldiers'},\n",
              " {'id': 44892,\n",
              "  'api_link': 'https://api.artic.edu/api/v1/artworks/44892',\n",
              "  'title': 'Fish (Still Life)'},\n",
              " {'id': 14591,\n",
              "  'api_link': 'https://api.artic.edu/api/v1/artworks/14591',\n",
              "  'title': 'Woman Reading'},\n",
              " {'id': 11137,\n",
              "  'api_link': 'https://api.artic.edu/api/v1/artworks/11137',\n",
              "  'title': 'Berthe Morisot in Silhouette'},\n",
              " {'id': 95183,\n",
              "  'api_link': 'https://api.artic.edu/api/v1/artworks/95183',\n",
              "  'title': 'Beggar with a Duffle Coat (Philosopher)'},\n",
              " {'id': 8969,\n",
              "  'api_link': 'https://api.artic.edu/api/v1/artworks/8969',\n",
              "  'title': 'Beggar with Oysters (Philosopher)'},\n",
              " {'id': 25812,\n",
              "  'api_link': 'https://api.artic.edu/api/v1/artworks/25812',\n",
              "  'title': 'Bullfight'},\n",
              " {'id': 81535,\n",
              "  'api_link': 'https://api.artic.edu/api/v1/artworks/81535',\n",
              "  'title': 'Sea View, Calm Weather (Vue de mer, temps calme)'},\n",
              " {'id': 87467,\n",
              "  'api_link': 'https://api.artic.edu/api/v1/artworks/87467',\n",
              "  'title': 'Édouard Manet'},\n",
              " {'id': 29392,\n",
              "  'api_link': 'https://api.artic.edu/api/v1/artworks/29392',\n",
              "  'title': 'Boy with Pitcher (La Régalade)'},\n",
              " {'id': 18667,\n",
              "  'api_link': 'https://api.artic.edu/api/v1/artworks/18667',\n",
              "  'title': 'Portrait of Berthe Morisot with a Fan'},\n",
              " {'id': 14594,\n",
              "  'api_link': 'https://api.artic.edu/api/v1/artworks/14594',\n",
              "  'title': 'Portrait of a Woman with a Black Fichu'},\n",
              " {'id': 90258,\n",
              "  'api_link': 'https://api.artic.edu/api/v1/artworks/90258',\n",
              "  'title': 'Portrait of Alphonse Maureau'},\n",
              " {'id': 68825,\n",
              "  'api_link': 'https://api.artic.edu/api/v1/artworks/68825',\n",
              "  'title': \"The Cats' Rendezvous\"},\n",
              " {'id': 81561,\n",
              "  'api_link': 'https://api.artic.edu/api/v1/artworks/81561',\n",
              "  'title': 'Street in Moret'},\n",
              " {'id': 191566,\n",
              "  'api_link': 'https://api.artic.edu/api/v1/artworks/191566',\n",
              "  'title': 'The Man with the Dog'},\n",
              " {'id': 21085,\n",
              "  'api_link': 'https://api.artic.edu/api/v1/artworks/21085',\n",
              "  'title': 'Jeanne (Spring)'},\n",
              " {'id': 55507,\n",
              "  'api_link': 'https://api.artic.edu/api/v1/artworks/55507',\n",
              "  'title': 'Civil War'},\n",
              " {'id': 26715,\n",
              "  'api_link': 'https://api.artic.edu/api/v1/artworks/26715',\n",
              "  'title': 'Seated Nude'},\n",
              " {'id': 113667,\n",
              "  'api_link': 'https://api.artic.edu/api/v1/artworks/113667',\n",
              "  'title': 'Sketches of Marine Scenes (recto); Two Sketches: Beside Stormy Coast, Cloudy Seascape'},\n",
              " {'id': 117526,\n",
              "  'api_link': 'https://api.artic.edu/api/v1/artworks/117526',\n",
              "  'title': 'The Races'},\n",
              " {'id': 111365,\n",
              "  'api_link': 'https://api.artic.edu/api/v1/artworks/111365',\n",
              "  'title': 'The Raven on the Bust of Pallas (\"Perched upon a bust of Pallas...\"), from The Raven (Le Corbeau)'},\n",
              " {'id': 13563,\n",
              "  'api_link': 'https://api.artic.edu/api/v1/artworks/13563',\n",
              "  'title': 'The Execution of Maximilian'},\n",
              " {'id': 111363,\n",
              "  'api_link': 'https://api.artic.edu/api/v1/artworks/111363',\n",
              "  'title': 'Flying Raven: ex libris, from The Raven (Le Corbeau)'},\n",
              " {'id': 21082,\n",
              "  'api_link': 'https://api.artic.edu/api/v1/artworks/21082',\n",
              "  'title': 'Profile of Eva Gonzales, Turned to the Left'},\n",
              " {'id': 103103,\n",
              "  'api_link': 'https://api.artic.edu/api/v1/artworks/103103',\n",
              "  'title': 'Olympia (published plate)'},\n",
              " {'id': 103100,\n",
              "  'api_link': 'https://api.artic.edu/api/v1/artworks/103100',\n",
              "  'title': 'Dead Christ with Angels'},\n",
              " {'id': 46792,\n",
              "  'api_link': 'https://api.artic.edu/api/v1/artworks/46792',\n",
              "  'title': 'Berthe Morisot in Black'},\n",
              " {'id': 109554,\n",
              "  'api_link': 'https://api.artic.edu/api/v1/artworks/109554',\n",
              "  'title': 'Dead Christ with Angels'},\n",
              " {'id': 52687,\n",
              "  'api_link': 'https://api.artic.edu/api/v1/artworks/52687',\n",
              "  'title': 'The rue Mosnier with Gas Lamp'},\n",
              " {'id': 79898,\n",
              "  'api_link': 'https://api.artic.edu/api/v1/artworks/79898',\n",
              "  'title': 'The Absinthe Drinker'},\n",
              " {'id': 109689,\n",
              "  'api_link': 'https://api.artic.edu/api/v1/artworks/109689',\n",
              "  'title': 'At the Café (unpublished plate)'},\n",
              " {'id': 113657,\n",
              "  'api_link': 'https://api.artic.edu/api/v1/artworks/113657',\n",
              "  'title': 'Young Man Standing (Léon Leenhoff) (recto); Sketch of Standing Boy (verso)'},\n",
              " {'id': 103112,\n",
              "  'api_link': 'https://api.artic.edu/api/v1/artworks/103112',\n",
              "  'title': 'Odalisque'},\n",
              " {'id': 45267,\n",
              "  'api_link': 'https://api.artic.edu/api/v1/artworks/45267',\n",
              "  'title': 'Monte Pincio, Rome'},\n",
              " {'id': 11323,\n",
              "  'api_link': 'https://api.artic.edu/api/v1/artworks/11323',\n",
              "  'title': 'Charles Baudelaire, In Profile II'},\n",
              " {'id': 80721,\n",
              "  'api_link': 'https://api.artic.edu/api/v1/artworks/80721',\n",
              "  'title': 'The Spanish Singer'},\n",
              " {'id': 4838,\n",
              "  'api_link': 'https://api.artic.edu/api/v1/artworks/4838',\n",
              "  'title': 'Mademoiselle Isabelle Lemonnier'},\n",
              " {'id': 72711,\n",
              "  'api_link': 'https://api.artic.edu/api/v1/artworks/72711',\n",
              "  'title': 'Lola de Valence'},\n",
              " {'id': 47136,\n",
              "  'api_link': 'https://api.artic.edu/api/v1/artworks/47136',\n",
              "  'title': 'Punch'},\n",
              " {'id': 103108,\n",
              "  'api_link': 'https://api.artic.edu/api/v1/artworks/103108',\n",
              "  'title': 'Boy Blowing Soap Bubbles'},\n",
              " {'id': 9485,\n",
              "  'api_link': 'https://api.artic.edu/api/v1/artworks/9485',\n",
              "  'title': 'Sketches of Snails, Flowering Plant'},\n",
              " {'id': 111366,\n",
              "  'api_link': 'https://api.artic.edu/api/v1/artworks/111366',\n",
              "  'title': 'At the window (\"Open here I flung the shutter...\"), from The Raven (Le Corbeau)'},\n",
              " {'id': 69033,\n",
              "  'api_link': 'https://api.artic.edu/api/v1/artworks/69033',\n",
              "  'title': 'Dead Toreador'},\n",
              " {'id': 6163,\n",
              "  'api_link': 'https://api.artic.edu/api/v1/artworks/6163',\n",
              "  'title': 'The Barricade'},\n",
              " {'id': 191509,\n",
              "  'api_link': 'https://api.artic.edu/api/v1/artworks/191509',\n",
              "  'title': 'At the Prado I'},\n",
              " {'id': 84398,\n",
              "  'api_link': 'https://api.artic.edu/api/v1/artworks/84398',\n",
              "  'title': 'The Little Cavaliers'},\n",
              " {'id': 80873,\n",
              "  'api_link': 'https://api.artic.edu/api/v1/artworks/80873',\n",
              "  'title': 'Boy Blowing Soap Bubbles'},\n",
              " {'id': 33319,\n",
              "  'api_link': 'https://api.artic.edu/api/v1/artworks/33319',\n",
              "  'title': 'Berthe Morisot'},\n",
              " {'id': 82079,\n",
              "  'api_link': 'https://api.artic.edu/api/v1/artworks/82079',\n",
              "  'title': 'Olympia (published plate)'},\n",
              " {'id': 61725,\n",
              "  'api_link': 'https://api.artic.edu/api/v1/artworks/61725',\n",
              "  'title': 'The Ballet Dancer (Don Mariano Camprubi)'},\n",
              " {'id': 11211,\n",
              "  'api_link': 'https://api.artic.edu/api/v1/artworks/11211',\n",
              "  'title': 'Le Casset; Vallee du Monetier'},\n",
              " {'id': 103109,\n",
              "  'api_link': 'https://api.artic.edu/api/v1/artworks/103109',\n",
              "  'title': 'Line in Front of the Butcher Shop'},\n",
              " {'id': 72896,\n",
              "  'api_link': 'https://api.artic.edu/api/v1/artworks/72896',\n",
              "  'title': 'Head of a Woman and Head of a Bearded Man'},\n",
              " {'id': 46782,\n",
              "  'api_link': 'https://api.artic.edu/api/v1/artworks/46782',\n",
              "  'title': 'Exotic Flower (Woman in a Mantilla)'},\n",
              " {'id': 191513,\n",
              "  'api_link': 'https://api.artic.edu/api/v1/artworks/191513',\n",
              "  'title': 'Dragonfly, plate 1 from Le Fleuve'},\n",
              " {'id': 103098,\n",
              "  'api_link': 'https://api.artic.edu/api/v1/artworks/103098',\n",
              "  'title': \"M. Manet (The Artist's Father) II\"},\n",
              " {'id': 28170,\n",
              "  'api_link': 'https://api.artic.edu/api/v1/artworks/28170',\n",
              "  'title': 'Portrait of Édouard Manet'},\n",
              " {'id': 45808,\n",
              "  'api_link': 'https://api.artic.edu/api/v1/artworks/45808',\n",
              "  'title': 'The Toilette'},\n",
              " {'id': 61727,\n",
              "  'api_link': 'https://api.artic.edu/api/v1/artworks/61727',\n",
              "  'title': 'Lola de Valence'},\n",
              " {'id': 186110,\n",
              "  'api_link': 'https://api.artic.edu/api/v1/artworks/186110',\n",
              "  'title': 'Sketches from “The Gypsies,” “The Spanish Ballet,” and “Lola de Valence” for “L’Autographe au Salon de 1865”'},\n",
              " {'id': 79493,\n",
              "  'api_link': 'https://api.artic.edu/api/v1/artworks/79493',\n",
              "  'title': 'Lola de Valence'},\n",
              " {'id': 62328,\n",
              "  'api_link': 'https://api.artic.edu/api/v1/artworks/62328',\n",
              "  'title': 'The Cats'},\n",
              " {'id': 84520,\n",
              "  'api_link': 'https://api.artic.edu/api/v1/artworks/84520',\n",
              "  'title': 'The Absinthe Drinker'},\n",
              " {'id': 103113,\n",
              "  'api_link': 'https://api.artic.edu/api/v1/artworks/103113',\n",
              "  'title': 'Odalisque'},\n",
              " {'id': 7113,\n",
              "  'api_link': 'https://api.artic.edu/api/v1/artworks/7113',\n",
              "  'title': 'Manet Seated, Turned to the Right'},\n",
              " {'id': 103102,\n",
              "  'api_link': 'https://api.artic.edu/api/v1/artworks/103102',\n",
              "  'title': 'Charles Baudelaire, Full Face III'},\n",
              " {'id': 46789,\n",
              "  'api_link': 'https://api.artic.edu/api/v1/artworks/46789',\n",
              "  'title': 'Berthe Morisot in Silhouette'},\n",
              " {'id': 103105,\n",
              "  'api_link': 'https://api.artic.edu/api/v1/artworks/103105',\n",
              "  'title': 'The Philosopher'},\n",
              " {'id': 103101,\n",
              "  'api_link': 'https://api.artic.edu/api/v1/artworks/103101',\n",
              "  'title': 'Marine'},\n",
              " {'id': 105456,\n",
              "  'api_link': 'https://api.artic.edu/api/v1/artworks/105456',\n",
              "  'title': 'The Gypsies'},\n",
              " {'id': 155999,\n",
              "  'api_link': 'https://api.artic.edu/api/v1/artworks/155999',\n",
              "  'title': 'Monte Carlo Sporting Club'},\n",
              " {'id': 103099,\n",
              "  'api_link': 'https://api.artic.edu/api/v1/artworks/103099',\n",
              "  'title': 'Victorine Meurent in the Costume of an \"Espada\"'},\n",
              " {'id': 72667,\n",
              "  'api_link': 'https://api.artic.edu/api/v1/artworks/72667',\n",
              "  'title': 'The Little Cavaliers'},\n",
              " {'id': 103110,\n",
              "  'api_link': 'https://api.artic.edu/api/v1/artworks/103110',\n",
              "  'title': 'Hat and Guitar, Frontispiece for the edition of fourteen etchings'},\n",
              " {'id': 145827,\n",
              "  'api_link': 'https://api.artic.edu/api/v1/artworks/145827',\n",
              "  'title': 'The Races'},\n",
              " {'id': 26698,\n",
              "  'api_link': 'https://api.artic.edu/api/v1/artworks/26698',\n",
              "  'title': 'The Boy with a Sword, Turned to the Left III'},\n",
              " {'id': 45380,\n",
              "  'api_link': 'https://api.artic.edu/api/v1/artworks/45380',\n",
              "  'title': 'Charles Baudelaire, Full Face III'},\n",
              " {'id': 60960,\n",
              "  'api_link': 'https://api.artic.edu/api/v1/artworks/60960',\n",
              "  'title': 'The Little Girl'},\n",
              " {'id': 94399,\n",
              "  'api_link': 'https://api.artic.edu/api/v1/artworks/94399',\n",
              "  'title': 'A Corner of Moret-sur-Loing'},\n",
              " {'id': 103107,\n",
              "  'api_link': 'https://api.artic.edu/api/v1/artworks/103107',\n",
              "  'title': 'The Smoker II'},\n",
              " {'id': 103097,\n",
              "  'api_link': 'https://api.artic.edu/api/v1/artworks/103097',\n",
              "  'title': 'Phillip IV King of Spain'},\n",
              " {'id': 104228,\n",
              "  'api_link': 'https://api.artic.edu/api/v1/artworks/104228',\n",
              "  'title': \"L'après-midi d'un faune\"},\n",
              " {'id': 191524,\n",
              "  'api_link': 'https://api.artic.edu/api/v1/artworks/191524',\n",
              "  'title': 'The Arch of the Bridge, plate 6 from Le Fleuve'},\n",
              " {'id': 111367,\n",
              "  'api_link': 'https://api.artic.edu/api/v1/artworks/111367',\n",
              "  'title': 'The Chair (\"That shadow that lies floating on the floor...\"), from The Raven (Le Corbeau)'},\n",
              " {'id': 9483,\n",
              "  'api_link': 'https://api.artic.edu/api/v1/artworks/9483',\n",
              "  'title': 'Seated Girl (Julie Manet)'},\n",
              " {'id': 111362,\n",
              "  'api_link': 'https://api.artic.edu/api/v1/artworks/111362',\n",
              "  'title': 'Head of a Raven in Profile, from The Raven (Le Corbeau)'},\n",
              " {'id': 25758,\n",
              "  'api_link': 'https://api.artic.edu/api/v1/artworks/25758',\n",
              "  'title': 'The Philosopher'},\n",
              " {'id': 104227,\n",
              "  'api_link': 'https://api.artic.edu/api/v1/artworks/104227',\n",
              "  'title': 'Les Chats'},\n",
              " {'id': 4817,\n",
              "  'api_link': 'https://api.artic.edu/api/v1/artworks/4817',\n",
              "  'title': 'Portrait of Edouard Manet'},\n",
              " {'id': 191528,\n",
              "  'api_link': 'https://api.artic.edu/api/v1/artworks/191528',\n",
              "  'title': 'Swallows, plate 8 from Le Fleuve'},\n",
              " {'id': 13555,\n",
              "  'api_link': 'https://api.artic.edu/api/v1/artworks/13555',\n",
              "  'title': 'Edouard Manet, Bust-Length Portrait'},\n",
              " {'id': 46785,\n",
              "  'api_link': 'https://api.artic.edu/api/v1/artworks/46785',\n",
              "  'title': 'Exotic Flower (Woman in a Mantilla)'},\n",
              " {'id': 207077,\n",
              "  'api_link': 'https://api.artic.edu/api/v1/artworks/207077',\n",
              "  'title': 'Hat and Guitar, frontispiece for the edition of fourteen etchings'},\n",
              " {'id': 80723,\n",
              "  'api_link': 'https://api.artic.edu/api/v1/artworks/80723',\n",
              "  'title': 'The Urchin'},\n",
              " {'id': 186320,\n",
              "  'api_link': 'https://api.artic.edu/api/v1/artworks/186320',\n",
              "  'title': 'Portrait of Julie Manet'},\n",
              " {'id': 62270,\n",
              "  'api_link': 'https://api.artic.edu/api/v1/artworks/62270',\n",
              "  'title': 'The Boy Carrying a Tray'},\n",
              " {'id': 191522,\n",
              "  'api_link': 'https://api.artic.edu/api/v1/artworks/191522',\n",
              "  'title': 'The River in the Plain, plate 4 from Le Fleuve'},\n",
              " {'id': 79494,\n",
              "  'api_link': 'https://api.artic.edu/api/v1/artworks/79494',\n",
              "  'title': 'In the Upper Gallery'},\n",
              " {'id': 72673,\n",
              "  'api_link': 'https://api.artic.edu/api/v1/artworks/72673',\n",
              "  'title': 'The Urchin'},\n",
              " {'id': 111364,\n",
              "  'api_link': 'https://api.artic.edu/api/v1/artworks/111364',\n",
              "  'title': 'Under the Lamp (\"Once upon a midnight dreary...\"), from The Raven (Le Corbeau)'},\n",
              " {'id': 111908,\n",
              "  'api_link': 'https://api.artic.edu/api/v1/artworks/111908',\n",
              "  'title': 'The Little Gypsies'},\n",
              " {'id': 191523,\n",
              "  'api_link': 'https://api.artic.edu/api/v1/artworks/191523',\n",
              "  'title': 'The Parapet of the Bridge, plate 5 from Le Fleuve'},\n",
              " {'id': 191525,\n",
              "  'api_link': 'https://api.artic.edu/api/v1/artworks/191525',\n",
              "  'title': 'The Sea, plate 7 from Le Fleuve'},\n",
              " {'id': 60964,\n",
              "  'api_link': 'https://api.artic.edu/api/v1/artworks/60964',\n",
              "  'title': 'Line in Front of the Butcher Shop'},\n",
              " {'id': 135917,\n",
              "  'api_link': 'https://api.artic.edu/api/v1/artworks/135917',\n",
              "  'title': 'The River in the Plain'},\n",
              " {'id': 212736,\n",
              "  'api_link': 'https://api.artic.edu/api/v1/artworks/212736',\n",
              "  'title': 'Money (Geld)'},\n",
              " {'id': 103104,\n",
              "  'api_link': 'https://api.artic.edu/api/v1/artworks/103104',\n",
              "  'title': 'Portrait of Félix Bracquémond'},\n",
              " {'id': 135918,\n",
              "  'api_link': 'https://api.artic.edu/api/v1/artworks/135918',\n",
              "  'title': 'Le Fleuve'},\n",
              " {'id': 19590,\n",
              "  'api_link': 'https://api.artic.edu/api/v1/artworks/19590',\n",
              "  'title': 'La Jardinière'},\n",
              " {'id': 191518,\n",
              "  'api_link': 'https://api.artic.edu/api/v1/artworks/191518',\n",
              "  'title': 'The High Valley, plate 3 from Le Fleuve'},\n",
              " {'id': 191515,\n",
              "  'api_link': 'https://api.artic.edu/api/v1/artworks/191515',\n",
              "  'title': 'The Mountain, plate 2 from Le Fleuve'},\n",
              " {'id': 111361,\n",
              "  'api_link': 'https://api.artic.edu/api/v1/artworks/111361',\n",
              "  'title': 'Title Page and Text, from The Raven (Le Corbeau)'},\n",
              " {'id': 135916,\n",
              "  'api_link': 'https://api.artic.edu/api/v1/artworks/135916',\n",
              "  'title': 'The Arch of the Bridge'},\n",
              " {'id': 97458,\n",
              "  'api_link': 'https://api.artic.edu/api/v1/artworks/97458',\n",
              "  'title': 'Mont Saleve'},\n",
              " {'id': 6044,\n",
              "  'api_link': 'https://api.artic.edu/api/v1/artworks/6044',\n",
              "  'title': 'Bartet and Mounet-Sully, in Antigone'},\n",
              " {'id': 14619,\n",
              "  'api_link': 'https://api.artic.edu/api/v1/artworks/14619',\n",
              "  'title': 'Mont Saint-Michel'},\n",
              " {'id': 31447,\n",
              "  'api_link': 'https://api.artic.edu/api/v1/artworks/31447',\n",
              "  'title': 'Money Pouch'},\n",
              " {'id': 29277,\n",
              "  'api_link': 'https://api.artic.edu/api/v1/artworks/29277',\n",
              "  'title': 'The Tribute Money'},\n",
              " {'id': 74875,\n",
              "  'api_link': 'https://api.artic.edu/api/v1/artworks/74875',\n",
              "  'title': 'Richard Serra Standing Beside His Tilted Arc'},\n",
              " {'id': 62162,\n",
              "  'api_link': 'https://api.artic.edu/api/v1/artworks/62162',\n",
              "  'title': 'Money, plate five from Intimacies'},\n",
              " {'id': 234967,\n",
              "  'api_link': 'https://api.artic.edu/api/v1/artworks/234967',\n",
              "  'title': 'Flying Raven: ex libris, from The Raven (Le Corbeau)'},\n",
              " {'id': 80622,\n",
              "  'api_link': 'https://api.artic.edu/api/v1/artworks/80622',\n",
              "  'title': 'Spanish Woman'},\n",
              " {'id': 92201,\n",
              "  'api_link': 'https://api.artic.edu/api/v1/artworks/92201',\n",
              "  'title': 'Édouard Manet (French painter, 1832-1883)'},\n",
              " {'id': 154516,\n",
              "  'api_link': 'https://api.artic.edu/api/v1/artworks/154516',\n",
              "  'title': 'Portrait of Manet'},\n",
              " {'id': 200626,\n",
              "  'api_link': 'https://api.artic.edu/api/v1/artworks/200626',\n",
              "  'title': 'The Tribute Money'},\n",
              " {'id': 200451,\n",
              "  'api_link': 'https://api.artic.edu/api/v1/artworks/200451',\n",
              "  'title': 'Title Page and Text, from The Raven (Le Corbeau)'},\n",
              " {'id': 48992,\n",
              "  'api_link': 'https://api.artic.edu/api/v1/artworks/48992',\n",
              "  'title': 'Christ Driving the Money Changers from the Temple'},\n",
              " {'id': 234969,\n",
              "  'api_link': 'https://api.artic.edu/api/v1/artworks/234969',\n",
              "  'title': 'At the window (\"Open here I flung the shutter...\"), from The Raven (Le Corbeau)'},\n",
              " {'id': 129584,\n",
              "  'api_link': 'https://api.artic.edu/api/v1/artworks/129584',\n",
              "  'title': 'Monte Circello'},\n",
              " {'id': 193679,\n",
              "  'api_link': 'https://api.artic.edu/api/v1/artworks/193679',\n",
              "  'title': 'Two Doors, Mont Saint Michel'},\n",
              " {'id': 193680,\n",
              "  'api_link': 'https://api.artic.edu/api/v1/artworks/193680',\n",
              "  'title': 'Footsteps, Mont Saint Michel'},\n",
              " {'id': 35888,\n",
              "  'api_link': 'https://api.artic.edu/api/v1/artworks/35888',\n",
              "  'title': 'Bartet and Mounet-Sully, in Antigone'},\n",
              " {'id': 152640,\n",
              "  'api_link': 'https://api.artic.edu/api/v1/artworks/152640',\n",
              "  'title': 'The former Bryant\\'s Grocery, Money, Mississippi, from the series \"On This Site: Landscape in Memoriam\"'},\n",
              " {'id': 234970,\n",
              "  'api_link': 'https://api.artic.edu/api/v1/artworks/234970',\n",
              "  'title': 'The Raven on the Bust of Pallas (\"Perched upon a bust of Pallas...\"), from The Raven (Le Corbeau)'},\n",
              " {'id': 223857,\n",
              "  'api_link': 'https://api.artic.edu/api/v1/artworks/223857',\n",
              "  'title': 'The Absinthe Drinker'},\n",
              " {'id': 193678,\n",
              "  'api_link': 'https://api.artic.edu/api/v1/artworks/193678',\n",
              "  'title': 'Shadow, Streams, Mont Saint Michel'},\n",
              " {'id': 248826,\n",
              "  'api_link': 'https://api.artic.edu/api/v1/artworks/248826',\n",
              "  'title': '2016 in Museums, Money, and Politics'},\n",
              " {'id': 70985,\n",
              "  'api_link': 'https://api.artic.edu/api/v1/artworks/70985',\n",
              "  'title': 'Amazon: Mme. L. Riding Monte Cristo, Pure-Bred English Horse'},\n",
              " {'id': 62227,\n",
              "  'api_link': 'https://api.artic.edu/api/v1/artworks/62227',\n",
              "  'title': 'Mont St. Michel'},\n",
              " {'id': 4706,\n",
              "  'api_link': 'https://api.artic.edu/api/v1/artworks/4706',\n",
              "  'title': 'Relief Fragments Depicting a Winged Woman and Two Deer'},\n",
              " {'id': 234971,\n",
              "  'api_link': 'https://api.artic.edu/api/v1/artworks/234971',\n",
              "  'title': 'The Chair (\"That shadow that lies floating on the floor...\"), from The Raven (Le Corbeau)'},\n",
              " {'id': 193674,\n",
              "  'api_link': 'https://api.artic.edu/api/v1/artworks/193674',\n",
              "  'title': 'Flying Buttresses, Mont Saint Michel'},\n",
              " {'id': 13541,\n",
              "  'api_link': 'https://api.artic.edu/api/v1/artworks/13541',\n",
              "  'title': 'Monte Caprino, Rome'},\n",
              " {'id': 131185,\n",
              "  'api_link': 'https://api.artic.edu/api/v1/artworks/131185',\n",
              "  'title': 'St. Etienne du Mont and the Pantheon, Paris'},\n",
              " {'id': 193677,\n",
              "  'api_link': 'https://api.artic.edu/api/v1/artworks/193677',\n",
              "  'title': 'Lantern, Mont Saint Michel'},\n",
              " {'id': 153022,\n",
              "  'api_link': 'https://api.artic.edu/api/v1/artworks/153022',\n",
              "  'title': 'Montezuma (Monte Zuma) (Dress or Furnishing Fabric)'},\n",
              " {'id': 120046,\n",
              "  'api_link': 'https://api.artic.edu/api/v1/artworks/120046',\n",
              "  'title': 'Julien Levy in Hans Richter\\'s \"Dreams that Money Can Buy\"'},\n",
              " {'id': 137092,\n",
              "  'api_link': 'https://api.artic.edu/api/v1/artworks/137092',\n",
              "  'title': \"Leftovers Spring '93\"},\n",
              " {'id': 123607,\n",
              "  'api_link': 'https://api.artic.edu/api/v1/artworks/123607',\n",
              "  'title': 'Savoie 46, Mont-Blanc, Vu de Mont-Joli'},\n",
              " {'id': 193670,\n",
              "  'api_link': 'https://api.artic.edu/api/v1/artworks/193670',\n",
              "  'title': 'Shadow, Sandbar, Mont Saint Michel'},\n",
              " {'id': 193676,\n",
              "  'api_link': 'https://api.artic.edu/api/v1/artworks/193676',\n",
              "  'title': 'Square Cloud, Mont Saint Michel'},\n",
              " {'id': 3261,\n",
              "  'api_link': 'https://api.artic.edu/api/v1/artworks/3261',\n",
              "  'title': 'View of San Miniato and San Francesco al Monte Outside Florence'},\n",
              " {'id': 193675,\n",
              "  'api_link': 'https://api.artic.edu/api/v1/artworks/193675',\n",
              "  'title': 'The Chanel, Mont Saint Michel'},\n",
              " {'id': 159588,\n",
              "  'api_link': 'https://api.artic.edu/api/v1/artworks/159588',\n",
              "  'title': \"Mont-Majour, Poterne de la Tour de L'Abbaye\"},\n",
              " {'id': 193682,\n",
              "  'api_link': 'https://api.artic.edu/api/v1/artworks/193682',\n",
              "  'title': 'Le Cuesnon, Mont Saint Michel'},\n",
              " {'id': 131201,\n",
              "  'api_link': 'https://api.artic.edu/api/v1/artworks/131201',\n",
              "  'title': 'Church of St. Etienne du Mont, Paris'},\n",
              " {'id': 193672,\n",
              "  'api_link': 'https://api.artic.edu/api/v1/artworks/193672',\n",
              "  'title': 'Shadow, Gargoil, Mont Saint Michel'},\n",
              " {'id': 77658,\n",
              "  'api_link': 'https://api.artic.edu/api/v1/artworks/77658',\n",
              "  'title': 'Saint-Etienne-du-Mont'},\n",
              " {'id': 69078,\n",
              "  'api_link': 'https://api.artic.edu/api/v1/artworks/69078',\n",
              "  'title': \"Shepherds' Hut, Mont. St. Michel, France\"},\n",
              " {'id': 29763,\n",
              "  'api_link': 'https://api.artic.edu/api/v1/artworks/29763',\n",
              "  'title': 'The Holy Mountain, folio 3 from The Holy Mountain (Monte Sancto di Dio)'},\n",
              " {'id': 61456,\n",
              "  'api_link': 'https://api.artic.edu/api/v1/artworks/61456',\n",
              "  'title': 'Bank-Notes, Paper-Money'},\n",
              " {'id': 19594,\n",
              "  'api_link': 'https://api.artic.edu/api/v1/artworks/19594',\n",
              "  'title': 'The Laundress'},\n",
              " {'id': 46299,\n",
              "  'api_link': 'https://api.artic.edu/api/v1/artworks/46299',\n",
              "  'title': \"Fisher's House, St. Jean-de-Mont\"},\n",
              " {'id': 31070,\n",
              "  'api_link': 'https://api.artic.edu/api/v1/artworks/31070',\n",
              "  'title': 'At the Saint-Jean-de-Monts Fair'},\n",
              " {'id': 43298,\n",
              "  'api_link': 'https://api.artic.edu/api/v1/artworks/43298',\n",
              "  'title': 'Mont Cenis Street'},\n",
              " {'id': 29382,\n",
              "  'api_link': 'https://api.artic.edu/api/v1/artworks/29382',\n",
              "  'title': 'St. Etienne du Mont, Paris'},\n",
              " {'id': 184688,\n",
              "  'api_link': 'https://api.artic.edu/api/v1/artworks/184688',\n",
              "  'title': 'Tide Pool, Mont Saint Michel, France'},\n",
              " {'id': 182917,\n",
              "  'api_link': 'https://api.artic.edu/api/v1/artworks/182917',\n",
              "  'title': 'Untitled (Angel Flying Money to the Lions in Front of The Art Institute of Chicago)'},\n",
              " {'id': 84347,\n",
              "  'api_link': 'https://api.artic.edu/api/v1/artworks/84347',\n",
              "  'title': 'Christ Driving the Money-Changers from the Temple'},\n",
              " {'id': 203867,\n",
              "  'api_link': 'https://api.artic.edu/api/v1/artworks/203867',\n",
              "  'title': 'Landscape with Saint George and the Dragon and the Monte Soratte'},\n",
              " {'id': 112725,\n",
              "  'api_link': 'https://api.artic.edu/api/v1/artworks/112725',\n",
              "  'title': 'Study for Jacob Blessing the Sons of Joseph (recto); Sketches: Saint Christopher; Two Figures in Conversation over Money (verso)'},\n",
              " {'id': 47211,\n",
              "  'api_link': 'https://api.artic.edu/api/v1/artworks/47211',\n",
              "  'title': 'Church of St. Etienne du Mont, Paris'},\n",
              " {'id': 9552,\n",
              "  'api_link': 'https://api.artic.edu/api/v1/artworks/9552',\n",
              "  'title': 'The Tower of Mont-Perrou, Seen from the Banks of the Allier (Auvergne)'},\n",
              " {'id': 125101,\n",
              "  'api_link': 'https://api.artic.edu/api/v1/artworks/125101',\n",
              "  'title': 'Christ and the Money Changers, from Riches'},\n",
              " {'id': 94380,\n",
              "  'api_link': 'https://api.artic.edu/api/v1/artworks/94380',\n",
              "  'title': 'Saint Jean des Monts, Gunnery and Armament Camps'},\n",
              " {'id': 6182,\n",
              "  'api_link': 'https://api.artic.edu/api/v1/artworks/6182',\n",
              "  'title': \"“- Yep... this is what I call a shplendid job.... and for just five sous per pound.. you reaaalllly get your money's worth!,” plate 7 from Croquis Pris Au Salon par Daumier\"},\n",
              " {'id': 112192,\n",
              "  'api_link': 'https://api.artic.edu/api/v1/artworks/112192',\n",
              "  'title': 'Sketch of Mont Saint Michel (recto); Buildings Beside Water (verso)'},\n",
              " {'id': 159808,\n",
              "  'api_link': 'https://api.artic.edu/api/v1/artworks/159808',\n",
              "  'title': 'Young Woman Reclining in Spanish Costume'},\n",
              " {'id': 48111,\n",
              "  'api_link': 'https://api.artic.edu/api/v1/artworks/48111',\n",
              "  'title': 'View of the Fountainhead of the Acqua Paola on Monte Aureo, from Views of Rome'},\n",
              " {'id': 98363,\n",
              "  'api_link': 'https://api.artic.edu/api/v1/artworks/98363',\n",
              "  'title': 'French Money'},\n",
              " {'id': 98364,\n",
              "  'api_link': 'https://api.artic.edu/api/v1/artworks/98364',\n",
              "  'title': 'French Money'},\n",
              " {'id': 98365,\n",
              "  'api_link': 'https://api.artic.edu/api/v1/artworks/98365',\n",
              "  'title': 'French Money'},\n",
              " {'id': 98366,\n",
              "  'api_link': 'https://api.artic.edu/api/v1/artworks/98366',\n",
              "  'title': 'French Money'},\n",
              " {'id': 98368,\n",
              "  'api_link': 'https://api.artic.edu/api/v1/artworks/98368',\n",
              "  'title': 'French Money'},\n",
              " {'id': 98369,\n",
              "  'api_link': 'https://api.artic.edu/api/v1/artworks/98369',\n",
              "  'title': 'French Money'},\n",
              " {'id': 233154,\n",
              "  'api_link': 'https://api.artic.edu/api/v1/artworks/233154',\n",
              "  'title': 'Montée Bonafous'},\n",
              " {'id': 98371,\n",
              "  'api_link': 'https://api.artic.edu/api/v1/artworks/98371',\n",
              "  'title': 'French Money'},\n",
              " {'id': 98372,\n",
              "  'api_link': 'https://api.artic.edu/api/v1/artworks/98372',\n",
              "  'title': 'French Money'},\n",
              " {'id': 210962,\n",
              "  'api_link': 'https://api.artic.edu/api/v1/artworks/210962',\n",
              "  'title': 'Study for The Terrace, Monte Carlo'},\n",
              " {'id': 222758,\n",
              "  'api_link': 'https://api.artic.edu/api/v1/artworks/222758',\n",
              "  'title': 'Silver Mine Worker (Real del Monte, State of Hidalgo), from Mexican People'},\n",
              " {'id': 210963,\n",
              "  'api_link': 'https://api.artic.edu/api/v1/artworks/210963',\n",
              "  'title': 'Monaco from La Condamine, Monte Carlo'},\n",
              " {'id': 157928,\n",
              "  'api_link': 'https://api.artic.edu/api/v1/artworks/157928',\n",
              "  'title': 'Paperweight'},\n",
              " {'id': 233083,\n",
              "  'api_link': 'https://api.artic.edu/api/v1/artworks/233083',\n",
              "  'title': 'Montée des Epis'},\n",
              " {'id': 259721,\n",
              "  'api_link': 'https://api.artic.edu/api/v1/artworks/259721',\n",
              "  'title': 'The Money Devil'},\n",
              " {'id': 129382,\n",
              "  'api_link': 'https://api.artic.edu/api/v1/artworks/129382',\n",
              "  'title': 'St Etienne du Mont and the Pantheon, Paris, plate 20 from Picturesque Architecture in Paris, Ghent, Antwerp, Rouen, Etc.'},\n",
              " {'id': 125104,\n",
              "  'api_link': 'https://api.artic.edu/api/v1/artworks/125104',\n",
              "  'title': 'Christ and the Money Changers, from The Game'},\n",
              " {'id': 148975,\n",
              "  'api_link': 'https://api.artic.edu/api/v1/artworks/148975',\n",
              "  'title': 'No Money Down, from Commemorative Gold Pieces'},\n",
              " {'id': 58772,\n",
              "  'api_link': 'https://api.artic.edu/api/v1/artworks/58772',\n",
              "  'title': 'Paperweight'},\n",
              " {'id': 233101,\n",
              "  'api_link': 'https://api.artic.edu/api/v1/artworks/233101',\n",
              "  'title': 'Montée du Greillon'},\n",
              " {'id': 233075,\n",
              "  'api_link': 'https://api.artic.edu/api/v1/artworks/233075',\n",
              "  'title': 'Montée des Chezeaux'},\n",
              " {'id': 159806,\n",
              "  'api_link': 'https://api.artic.edu/api/v1/artworks/159806',\n",
              "  'title': 'The Water Drinker'},\n",
              " {'id': 98352,\n",
              "  'api_link': 'https://api.artic.edu/api/v1/artworks/98352',\n",
              "  'title': 'French Money'},\n",
              " {'id': 266906,\n",
              "  'api_link': 'https://api.artic.edu/api/v1/artworks/266906',\n",
              "  'title': 'Kiss My Money for Luck'},\n",
              " {'id': 183503,\n",
              "  'api_link': 'https://api.artic.edu/api/v1/artworks/183503',\n",
              "  'title': '\"What about the neighbors?\" \"What about taxes?\" \"The[y] don\\'t build them like they used to.\" \"It\\'s just perfect but I don\\'t think we have enough money.\"'},\n",
              " {'id': 54856,\n",
              "  'api_link': 'https://api.artic.edu/api/v1/artworks/54856',\n",
              "  'title': 'View of the City and Harbor of Palermo with a View of Monte Pellegrino'},\n",
              " {'id': 49417,\n",
              "  'api_link': 'https://api.artic.edu/api/v1/artworks/49417',\n",
              "  'title': 'El novio de mil mujeres les da dinero y placeres (The Boyfriend of a Thousand Women Gives Them Money and Pleasure)'},\n",
              " {'id': 140640,\n",
              "  'api_link': 'https://api.artic.edu/api/v1/artworks/140640',\n",
              "  'title': 'Faure in the Role of Hamlet'},\n",
              " {'id': 28735,\n",
              "  'api_link': 'https://api.artic.edu/api/v1/artworks/28735',\n",
              "  'title': '“- Finally we obtained the division of property between husband and wife... - about time, there was no more money left to divide,” plate 3 from Les Avocats Et Les Plaideurs'},\n",
              " {'id': 233142,\n",
              "  'api_link': 'https://api.artic.edu/api/v1/artworks/233142',\n",
              "  'title': 'La montée de la Grande Côte'},\n",
              " {'id': 80042,\n",
              "  'api_link': 'https://api.artic.edu/api/v1/artworks/80042',\n",
              "  'title': 'Looking at the Painting of Manet. “- Why the devil is this fat, red-faced woman in her nightdress called Olympia? - But my dear, perhaps that\\'s the name of the black cat,\" plate 9 from Croquis Pris Au Salon par Daumier'},\n",
              " {'id': 85966,\n",
              "  'api_link': 'https://api.artic.edu/api/v1/artworks/85966',\n",
              "  'title': 'Mont Blanc from the Jura'},\n",
              " {'id': 49867,\n",
              "  'api_link': 'https://api.artic.edu/api/v1/artworks/49867',\n",
              "  'title': 'St. Etienne du Mont, Facade'},\n",
              " {'id': 159266,\n",
              "  'api_link': 'https://api.artic.edu/api/v1/artworks/159266',\n",
              "  'title': 'Faure in the Role of Hamlet'},\n",
              " {'id': 237320,\n",
              "  'api_link': 'https://api.artic.edu/api/v1/artworks/237320',\n",
              "  'title': 'Monte Tamaro Chapel, Switzerland, Concept Sketch'},\n",
              " {'id': 233925,\n",
              "  'api_link': 'https://api.artic.edu/api/v1/artworks/233925',\n",
              "  'title': 'Intérieur de St. Etienne du Mont'},\n",
              " {'id': 96046,\n",
              "  'api_link': 'https://api.artic.edu/api/v1/artworks/96046',\n",
              "  'title': 'Denarius (Coin) Portraying Marcus Claudius Marcellus'},\n",
              " {'id': 98367,\n",
              "  'api_link': 'https://api.artic.edu/api/v1/artworks/98367',\n",
              "  'title': 'French Money'},\n",
              " {'id': 147446,\n",
              "  'api_link': 'https://api.artic.edu/api/v1/artworks/147446',\n",
              "  'title': 'Mont St Michel, Normandy, France, Travel Sketch'},\n",
              " {'id': 233080,\n",
              "  'api_link': 'https://api.artic.edu/api/v1/artworks/233080',\n",
              "  'title': 'La Montée sans nom'},\n",
              " {'id': 189276,\n",
              "  'api_link': 'https://api.artic.edu/api/v1/artworks/189276',\n",
              "  'title': 'Counting the Money Received Daily, No. 28, Sears, Roebuck & Co.'},\n",
              " {'id': 234968,\n",
              "  'api_link': 'https://api.artic.edu/api/v1/artworks/234968',\n",
              "  'title': 'Under the Lamp (\"Once upon a midnight dreary...\"), from The Raven (Le Corbeau)'},\n",
              " {'id': 85964,\n",
              "  'api_link': 'https://api.artic.edu/api/v1/artworks/85964',\n",
              "  'title': 'Saint Martin, in the Sallenche Valley, Looking Towards Mont Blanc'},\n",
              " {'id': 267930,\n",
              "  'api_link': 'https://api.artic.edu/api/v1/artworks/267930',\n",
              "  'title': 'The Tribute Money, from Landscapes with Scenes from the Life of Christ'},\n",
              " {'id': 139871,\n",
              "  'api_link': 'https://api.artic.edu/api/v1/artworks/139871',\n",
              "  'title': 'Denarius (Coin) Depicting the God Quirinus'},\n",
              " {'id': 197736,\n",
              "  'api_link': 'https://api.artic.edu/api/v1/artworks/197736',\n",
              "  'title': 'Earning their money, from the series \"The Camera\\'s Story of Raftman\\'s Life on the Wisonsin\"'},\n",
              " {'id': 141626,\n",
              "  'api_link': 'https://api.artic.edu/api/v1/artworks/141626',\n",
              "  'title': 'Denarius (Coin) Depicting Liberty'},\n",
              " {'id': 125001,\n",
              "  'api_link': 'https://api.artic.edu/api/v1/artworks/125001',\n",
              "  'title': 'Moret: the Wood-Mill'},\n",
              " {'id': 63895,\n",
              "  'api_link': 'https://api.artic.edu/api/v1/artworks/63895',\n",
              "  'title': 'Church of St. Etienne du Mont, Paris'},\n",
              " {'id': 63508,\n",
              "  'api_link': 'https://api.artic.edu/api/v1/artworks/63508',\n",
              "  'title': \"“- Tell me, mayor, what are communists? - You know, Pierre, communists are people who want to have everything in common with every Frenchman: the money, the work, and the land. - Well, in my opinion there is one thing they seem to be lacking: common sense,” plate 42 from Tout Ce Qu'on Voudra\"},\n",
              " {'id': 268050,\n",
              "  'api_link': 'https://api.artic.edu/api/v1/artworks/268050',\n",
              "  'title': 'Man and Devil Filling Sack with Money and Setting up a Statue of Hope, from Allegory of the Misuse of Worldly Property'},\n",
              " {'id': 102932,\n",
              "  'api_link': 'https://api.artic.edu/api/v1/artworks/102932',\n",
              "  'title': 'Mont St. Michel, View of Town and Abbey, Normandie, France, Travel Sketch'},\n",
              " {'id': 28815,\n",
              "  'api_link': 'https://api.artic.edu/api/v1/artworks/28815',\n",
              "  'title': 'Church of St. Etienne du Mont, Paris'},\n",
              " {'id': 28818,\n",
              "  'api_link': 'https://api.artic.edu/api/v1/artworks/28818',\n",
              "  'title': 'Church of St. Etienne du Mont, Paris'},\n",
              " {'id': 233924,\n",
              "  'api_link': 'https://api.artic.edu/api/v1/artworks/233924',\n",
              "  'title': 'Extérieur de St. Étienne-du-Mont a Paris'},\n",
              " {'id': 98362,\n",
              "  'api_link': 'https://api.artic.edu/api/v1/artworks/98362',\n",
              "  'title': 'French Money'},\n",
              " {'id': 98370,\n",
              "  'api_link': 'https://api.artic.edu/api/v1/artworks/98370',\n",
              "  'title': 'French Money'},\n",
              " {'id': 181878,\n",
              "  'api_link': 'https://api.artic.edu/api/v1/artworks/181878',\n",
              "  'title': 'Money Bank'},\n",
              " {'id': 130176,\n",
              "  'api_link': 'https://api.artic.edu/api/v1/artworks/130176',\n",
              "  'title': 'Pivot Agriculture, Dry Sea Bed Near Monte Vista, Colorado'},\n",
              " {'id': 233069,\n",
              "  'api_link': 'https://api.artic.edu/api/v1/artworks/233069',\n",
              "  'title': 'Montée des Carmélites'},\n",
              " {'id': 233194,\n",
              "  'api_link': 'https://api.artic.edu/api/v1/artworks/233194',\n",
              "  'title': 'Montée de la Muette'},\n",
              " {'id': 124981,\n",
              "  'api_link': 'https://api.artic.edu/api/v1/artworks/124981',\n",
              "  'title': 'Ride to the Hounds, Mont-Gérard'},\n",
              " {'id': 184693,\n",
              "  'api_link': 'https://api.artic.edu/api/v1/artworks/184693',\n",
              "  'title': 'Incoming Tide, Mont Saint Michel, France'},\n",
              " {'id': 117249,\n",
              "  'api_link': 'https://api.artic.edu/api/v1/artworks/117249',\n",
              "  'title': 'Church of St. Etienne du Mont, Paris'},\n",
              " {'id': 118838,\n",
              "  'api_link': 'https://api.artic.edu/api/v1/artworks/118838',\n",
              "  'title': 'Entrance at High Tide, Mont Saint Michel, France'},\n",
              " {'id': 27098,\n",
              "  'api_link': 'https://api.artic.edu/api/v1/artworks/27098',\n",
              "  'title': 'Monte Rosso Bay, from Travel Pictures: Italy-South Seas'},\n",
              " {'id': 242711,\n",
              "  'api_link': 'https://api.artic.edu/api/v1/artworks/242711',\n",
              "  'title': 'Exterior view of Casino, Monte Carlo, Monaco, Travel Sketch'},\n",
              " {'id': 3439,\n",
              "  'api_link': 'https://api.artic.edu/api/v1/artworks/3439',\n",
              "  'title': 'Vielle Maison, Rue Saint Etienne du Mont, Paris, from Vingt Lithographies du Vieux Paris'},\n",
              " {'id': 3473,\n",
              "  'api_link': 'https://api.artic.edu/api/v1/artworks/3473',\n",
              "  'title': \"Un Portail de l'Eglise de Saint Etienne du Mont , Paris, from Vingt Lithographies du Vieux Paris\"},\n",
              " {'id': 200309,\n",
              "  'api_link': 'https://api.artic.edu/api/v1/artworks/200309',\n",
              "  'title': 'Sonnets et eaux-fortes'}]"
            ]
          },
          "metadata": {},
          "execution_count": 108
        }
      ],
      "source": [
        "container2"
      ]
    },
    {
      "cell_type": "markdown",
      "metadata": {
        "id": "b0edt30S86IS"
      },
      "source": [
        "If we wanted the alt_text too, we would get the following error because some items apparently don't have an 'alt_text'. Then we would need to devise a strategy to deal with it."
      ]
    },
    {
      "cell_type": "code",
      "execution_count": null,
      "metadata": {
        "id": "0RatCCSp8yeK"
      },
      "outputs": [],
      "source": [
        "container3 = [(item['id'], item['api_link'], item['title'], item['thumbnail']['alt_text']) for item in container]"
      ]
    },
    {
      "cell_type": "code",
      "execution_count": null,
      "metadata": {
        "id": "TPlCmHmW9M_x"
      },
      "outputs": [],
      "source": [
        "container3 = []\n",
        "for item in container:\n",
        "    try:\n",
        "        container3.append({'id': item['id'], 'api_link': item['api_link'], 'title': item['title'], 'alt_text': item['thumbnail']['alt_text']})\n",
        "    except:\n",
        "        container3.append({'id': item['id'], 'api_link': item['api_link'], 'title': item['title'], 'alt_text': None})"
      ]
    }
  ],
  "metadata": {
    "colab": {
      "provenance": []
    },
    "kernelspec": {
      "display_name": "Python 3 (ipykernel)",
      "language": "python",
      "name": "python3"
    },
    "language_info": {
      "codemirror_mode": {
        "name": "ipython",
        "version": 3
      },
      "file_extension": ".py",
      "mimetype": "text/x-python",
      "name": "python",
      "nbconvert_exporter": "python",
      "pygments_lexer": "ipython3",
      "version": "3.10.9"
    },
    "varInspector": {
      "cols": {
        "lenName": 16,
        "lenType": 16,
        "lenVar": 40
      },
      "kernels_config": {
        "python": {
          "delete_cmd_postfix": "",
          "delete_cmd_prefix": "del ",
          "library": "var_list.py",
          "varRefreshCmd": "print(var_dic_list())"
        },
        "r": {
          "delete_cmd_postfix": ") ",
          "delete_cmd_prefix": "rm(",
          "library": "var_list.r",
          "varRefreshCmd": "cat(var_dic_list()) "
        }
      },
      "types_to_exclude": [
        "module",
        "function",
        "builtin_function_or_method",
        "instance",
        "_Feature"
      ],
      "window_display": false
    }
  },
  "nbformat": 4,
  "nbformat_minor": 0
}