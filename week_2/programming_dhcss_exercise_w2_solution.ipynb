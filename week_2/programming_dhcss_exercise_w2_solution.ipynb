{
  "nbformat": 4,
  "nbformat_minor": 0,
  "metadata": {
    "colab": {
      "provenance": []
    },
    "kernelspec": {
      "name": "python3",
      "display_name": "Python 3"
    },
    "language_info": {
      "name": "python"
    }
  },
  "cells": [
    {
      "cell_type": "markdown",
      "source": [
        "Programming for DHCSS Exercises: Week 2. Branching and Iteration"
      ],
      "metadata": {
        "id": "x4jpcIgJ_gwv"
      }
    },
    {
      "cell_type": "code",
      "execution_count": null,
      "metadata": {
        "colab": {
          "base_uri": "https://localhost:8080/",
          "height": 36
        },
        "id": "wlR9BbOYKuRW",
        "outputId": "e0a5d8e0-9396-467f-bd5e-1f8e3970a6fa"
      },
      "outputs": [
        {
          "output_type": "execute_result",
          "data": {
            "text/plain": [
              "'umbrella ella ella ella '"
            ],
            "application/vnd.google.colaboratory.intrinsic+json": {
              "type": "string"
            }
          },
          "metadata": {},
          "execution_count": 3
        }
      ],
      "source": [
        "### Problem 1 ###\n",
        "\n",
        "### Using the variables below, write a code that generates the following string: \"umbrella ella ella ella \"\n",
        "\n",
        "once = \"umbr\"\n",
        "repeat = \"ella\"\n",
        "\n",
        "### Write your code here\n",
        "\n",
        "once + (4 * (repeat + \" \"))"
      ]
    },
    {
      "cell_type": "code",
      "source": [
        "### Problem 2 ###\n",
        "\n",
        "### Using a for loop write a code that counts the number of characters in the string named \"example_string\"\n",
        "\n",
        "example_string = \"World’s largest rice exporter’s abrupt ban has triggered global panic - but its own farmers are bearing the brunt\"\n",
        "\n",
        "### Start with a counter variable\n",
        "\n",
        "count = 0\n",
        "\n",
        "### Write your code here\n",
        "\n",
        "count = 0\n",
        "for char in example_string:\n",
        "  count += 1\n",
        "print(count)\n",
        "print(len(example_string))"
      ],
      "metadata": {
        "colab": {
          "base_uri": "https://localhost:8080/"
        },
        "id": "5Jlf6Lzh1JK6",
        "outputId": "364dd1da-2fb7-4d90-f5cd-8cc77a95b9cf"
      },
      "execution_count": null,
      "outputs": [
        {
          "output_type": "stream",
          "name": "stdout",
          "text": [
            "113\n",
            "113\n"
          ]
        }
      ]
    },
    {
      "cell_type": "code",
      "source": [
        "### Problem 3 ###\n",
        "\n",
        "### Suppose you wanted to multiply a number (here, 1) by 2 and keep iterating that until the product of the numbers exceeds 150\n",
        "\n",
        "### Use a while loop and print the result (the multipied number) from each iteration\n",
        "\n",
        "number = 1\n",
        "\n",
        "### Write your code here\n",
        "\n",
        "while number < 150:\n",
        "  print(number)\n",
        "  number = number * 2"
      ],
      "metadata": {
        "colab": {
          "base_uri": "https://localhost:8080/"
        },
        "id": "o5PEexDx--TG",
        "outputId": "f8e4df4f-cbe1-4155-bb8d-e3de3ce34c70"
      },
      "execution_count": null,
      "outputs": [
        {
          "output_type": "stream",
          "name": "stdout",
          "text": [
            "1\n",
            "2\n",
            "4\n",
            "8\n",
            "16\n",
            "32\n",
            "64\n",
            "128\n"
          ]
        }
      ]
    },
    {
      "cell_type": "code",
      "source": [
        "### Problem 4 ###\n",
        "\n",
        "### Write a for loop which prints \"Hello!, \" plus each name in the following list. i.e.: \"Hello, Sam!\"\n",
        "\n",
        "lst = [\"Sam\", \"Lisa\", \"Micha\", \"Dave\", \"Wyatt\", \"Emma\", \"Sage\"]\n",
        "\n",
        "### Also, do the same but only when the name invovles \"e\" (you can use \"in\" operator for this)\n",
        "\n",
        "### Write your code here\n",
        "\n",
        "for i in lst:\n",
        "    print(\"Hello, \" + i + \"!\" + \"\\n\")\n",
        "\n",
        "for i in lst:\n",
        "  if \"e\" in i:\n",
        "    print(\"Hello, \" + i + \"!\")"
      ],
      "metadata": {
        "colab": {
          "base_uri": "https://localhost:8080/"
        },
        "id": "38y2HEC23ogi",
        "outputId": "941223dd-d5bb-48f5-b3d8-edc3df11a591"
      },
      "execution_count": null,
      "outputs": [
        {
          "output_type": "stream",
          "name": "stdout",
          "text": [
            "Hello, Sam!\n",
            "\n",
            "Hello, Lisa!\n",
            "\n",
            "Hello, Micha!\n",
            "\n",
            "Hello, Dave!\n",
            "\n",
            "Hello, Wyatt!\n",
            "\n",
            "Hello, Emma!\n",
            "\n",
            "Hello, Sage!\n",
            "\n",
            "Hello, Dave!\n",
            "Hello, Sage!\n"
          ]
        }
      ]
    },
    {
      "cell_type": "code",
      "source": [
        "### Problem 5 ###\n",
        "\n",
        "### You will get data on news articles.\n",
        "\n",
        "### Write a for loop to go through the \"month\" column and count the number of articles that were published in April or December\n",
        "\n",
        "### Run this code to get the data\n",
        "\n",
        "import pandas as pd # import pandas library shortened as pd\n",
        "url = \"https://github.com/taegyoon-kim/programming_dhcss_23fw/raw/main/week_2/news_category.xlsx\" # string containig the url\n",
        "df = pd.read_excel(url) # read_excel function to read xlsx files\n",
        "\n",
        "### Check the data\n",
        "\n",
        "print(type(df))\n",
        "print(df.head(5)) # method that shows the first N (=5) rows of the data\n",
        "print(df.dtypes) # data type for each column\n",
        "\n",
        "### The \"month\" column can be accessed like the following\n",
        "\n",
        "df['month']\n",
        "\n",
        "### Write your code here\n",
        "\n",
        "count = 0\n",
        "for i in df['month']:\n",
        "  if i == '4.0' or i == '12.0':\n",
        "    count += 1\n",
        "\n",
        "print(count)"
      ],
      "metadata": {
        "id": "DvINvPDFuRdC",
        "colab": {
          "base_uri": "https://localhost:8080/"
        },
        "outputId": "7562db6f-3cef-4752-c136-dd0ca61d3c31"
      },
      "execution_count": null,
      "outputs": [
        {
          "output_type": "stream",
          "name": "stdout",
          "text": [
            "<class 'pandas.core.frame.DataFrame'>\n",
            "      id                                      human_summary     publication  \\\n",
            "0  17283  In successfully seeking a temporary halt in th...  New York Times   \n",
            "1  17284  Officers put her in worse danger some months l...  New York Times   \n",
            "2  17285  The film striking appearance had been created ...  New York Times   \n",
            "3  17286  The year was only days old when the news came ...  New York Times   \n",
            "4  17287  If North Korea conducts a test in coming month...  New York Times   \n",
            "\n",
            "                          author        date    year month          theme  \\\n",
            "0                     Carl Hulse  2016-12-31  2016.0  12.0       politics   \n",
            "1  Benjamin Mueller and Al Baker  2017-06-19  2017.0   6.0          crime   \n",
            "2                   Margalit Fox  2017-01-06  2017.0   1.0  entertainment   \n",
            "3               William McDonald  2017-04-10  2017.0   4.0  entertainment   \n",
            "4                  Choe Sang-Hun  2017-01-02  2017.0   1.0       politics   \n",
            "\n",
            "                                             content  \n",
            "0  WASHINGTON  —   Congressional Republicans have...  \n",
            "1  After the bullet shells get counted, the blood...  \n",
            "2  When Walt Disney’s “Bambi” opened in 1942, cri...  \n",
            "3  Death may be the great equalizer, but it isn’t...  \n",
            "4  SEOUL, South Korea  —   North Korea’s leader, ...  \n",
            "id                int64\n",
            "human_summary    object\n",
            "publication      object\n",
            "author           object\n",
            "date             object\n",
            "year             object\n",
            "month            object\n",
            "theme            object\n",
            "content          object\n",
            "dtype: object\n",
            "16\n"
          ]
        }
      ]
    },
    {
      "cell_type": "code",
      "source": [
        "df['month'].value_counts()"
      ],
      "metadata": {
        "colab": {
          "base_uri": "https://localhost:8080/"
        },
        "id": "yoVghzg572-G",
        "outputId": "e4797c73-56b9-4c9d-a3ec-d3b253812081"
      },
      "execution_count": null,
      "outputs": [
        {
          "output_type": "execute_result",
          "data": {
            "text/plain": [
              "1.0                                                                                                                                                                                                                                                                                                                                                                                                                                                                                                                                                                                                                                                                                                                                                                                                                                                                                                                                              654\n",
              "2.0                                                                                                                                                                                                                                                                                                                                                                                                                                                                                                                                                                                                                                                                                                                                                                                                                                                                                                                                              310\n",
              "4.0                                                                                                                                                                                                                                                                                                                                                                                                                                                                                                                                                                                                                                                                                                                                                                                                                                                                                                                                               13\n",
              "3.0                                                                                                                                                                                                                                                                                                                                                                                                                                                                                                                                                                                                                                                                                                                                                                                                                                                                                                                                               12\n",
              "6.0                                                                                                                                                                                                                                                                                                                                                                                                                                                                                                                                                                                                                                                                                                                                                                                                                                                                                                                                                4\n",
              "12.0                                                                                                                                                                                                                                                                                                                                                                                                                                                                                                                                                                                                                                                                                                                                                                                                                                                                                                                                               3\n",
              "5.0                                                                                                                                                                                                                                                                                                                                                                                                                                                                                                                                                                                                                                                                                                                                                                                                                                                                                                                                                3\n",
              "AMSTERDAM — Pedram Paragomi, a Iranian medical student, was excited about his first trip to the United States.\\n\\nMr. Paragomi and six other Iranians remained stranded at Schiphol Airport outside Amsterdam on Tuesday, as their travel ordeal stretched into its fourth day.\\n\\nThe largely spontaneous and spirited protests at American airports over the weekend focused on several aspects of Mr. Trump’s order, including a ban on all refugees, an indefinite ban on Syrian refugees and an attempt — later blocked by judges — to deport people with valid visas or refugee status who had already arrived in the United States.\\n\\nThe seven Iranians stuck in Amsterdam were pulled aside on Saturday by United States agents stationed at the airport.\\n\\nOne man in the group went to pray at the airport’s meditation center, where he met an airport official who introduced the group to a Dutch pastor who offered to help.      1\n",
              "Name: month, dtype: int64"
            ]
          },
          "metadata": {},
          "execution_count": 8
        }
      ]
    },
    {
      "cell_type": "code",
      "source": [
        "### Problem 6 ###\n",
        "\n",
        "### Use the same data to write a code that counts the number of articles by \"theme\" using a for loop and if, elif, and else statements\n",
        "\n",
        "### Use the following counters for each category: Politics, Entertainment, and Others\n",
        "\n",
        "count_politics = 0\n",
        "count_entertainment = 0\n",
        "count_others = 0\n",
        "\n",
        "### Write your code here\n",
        "\n",
        "for theme in df['theme']:\n",
        "    if theme == 'politics':\n",
        "        count_politics += 1\n",
        "    elif theme == 'entertainment':\n",
        "        count_entertainment += 1\n",
        "    else:\n",
        "        count_others += 1\n",
        "\n",
        "print(count_politics, count_entertainment, count_others)\n",
        "\n",
        "print(df['theme'].value_counts())"
      ],
      "metadata": {
        "id": "gsKZZP3zx4en",
        "colab": {
          "base_uri": "https://localhost:8080/"
        },
        "outputId": "a20337ea-8818-4b7f-879e-8e396fb82240"
      },
      "execution_count": null,
      "outputs": [
        {
          "output_type": "stream",
          "name": "stdout",
          "text": [
            "324 153 523\n",
            "politics         324\n",
            "business         208\n",
            "entertainment    153\n",
            "crime            110\n",
            "lifestyle         78\n",
            "law               41\n",
            "sports            30\n",
            "science           25\n",
            "technology        18\n",
            "architecture       4\n",
            "accidents          4\n",
            "art                2\n",
            "health             2\n",
            "environment        1\n",
            "Name: theme, dtype: int64\n"
          ]
        }
      ]
    },
    {
      "cell_type": "code",
      "source": [
        "# Problem 7\n",
        "\n",
        "### With the same data, write a for loop code to creaet a list containing the word count for articles\n",
        "\n",
        "### Exclude articles with too few words (<50) or too many words (>500)\n",
        "\n",
        "### You create an empty list named \"word_counts\" and append the word count from each iteration (you can use \"append\" method within the loop)\n",
        "\n",
        "word_counts = []\n",
        "\n",
        "### See below for how append() works\n",
        "\n",
        "empty_lst = []\n",
        "for i in range(0, 3):\n",
        "  empty_lst.append(i)\n",
        "print(empty_lst)\n",
        "\n",
        "### Use split() method to parse an article text into words\n",
        "\n",
        "text = 'this is a text'\n",
        "text_spt = text.split()\n",
        "print(text_spt)\n",
        "\n",
        "### Skip the outliers usings statements like break, continue, or pass (<50 or >500)\n",
        "\n",
        "### Write your code here\n",
        "\n",
        "for content in df['content']:\n",
        "\n",
        "    word_count = len(content.split())\n",
        "\n",
        "    if word_count < 50 or word_count > 500:\n",
        "        continue\n",
        "\n",
        "    word_counts.append(word_count)\n",
        "\n",
        "average_word_count = sum(word_counts) / len(word_counts)\n",
        "print(average_word_count)\n",
        "\n",
        "import numpy as np # alternatively use np.mean()\n",
        "average_word_count2 = np.mean(word_counts)\n",
        "print(average_word_count2)"
      ],
      "metadata": {
        "colab": {
          "base_uri": "https://localhost:8080/"
        },
        "id": "uplYkHm_Ivdr",
        "outputId": "75d858e9-1a87-41b9-d715-73e7888f7f39"
      },
      "execution_count": null,
      "outputs": [
        {
          "output_type": "stream",
          "name": "stdout",
          "text": [
            "[0, 1, 2]\n",
            "['this', 'is', 'a', 'text']\n",
            "384.75555555555553\n",
            "384.75555555555553\n"
          ]
        }
      ]
    },
    {
      "cell_type": "code",
      "source": [
        "### Problem 8 ###\n",
        "\n",
        "### You are given two lists, one containing names of fruits and the other containing their corresponding colors.\n",
        "\n",
        "### Write a for loop code that prints a statement like the following\n",
        "\n",
        "### E.g.,: \"The color of Apple is Red.\"\n",
        "\n",
        "### If the fruit's name is great than 5 characters, just print \"Too long.\"\n",
        "\n",
        "### Consider using \"zip()\"\n",
        "\n",
        "fruits = ['Apple', 'grape', 'Cherry', 'Avocado']\n",
        "colors = ['Red', 'Green', 'Red', 'Brown', 'Green']\n",
        "\n",
        "### Write your code here\n",
        "\n",
        "for fruit, color in zip(fruits, colors):\n",
        "  if len(fruit) <= 5:\n",
        "    print(f\"The color of {fruit} is {color}.\")\n",
        "  else:\n",
        "    print(\"Too long\")"
      ],
      "metadata": {
        "id": "eDgd6ywFlDt9",
        "colab": {
          "base_uri": "https://localhost:8080/"
        },
        "outputId": "0e83db3d-9f25-4bd6-cb9a-82476478f2e5"
      },
      "execution_count": null,
      "outputs": [
        {
          "output_type": "stream",
          "name": "stdout",
          "text": [
            "The color of Apple is Red.\n",
            "The color of grape is Green.\n",
            "Too long\n",
            "Too long\n"
          ]
        }
      ]
    },
    {
      "cell_type": "code",
      "source": [
        "### Problem 9 ###\n",
        "\n",
        "### Write a code that extracts hashtags from the following list of tweet texts\n",
        "\n",
        "### Hashtags in tweets are words that start with the symbol #\n",
        "\n",
        "### You are given a list of tweet texts\n",
        "\n",
        "tweets = [\n",
        "    \"Learning Python is fun! #Python #coding\",\n",
        "    \"Data science is awesome. #datascience #machinelearning\",\n",
        "    \"Artificial Intelligence: The future! #AI #future\",\n",
        "    \"Study at KAIST for #CT #DHCSS #DS\"]\n",
        "\n",
        "### Initialize an empty list to store hashtags (and append exracted hashtags to it!)\n",
        "\n",
        "hashtags = []\n",
        "\n",
        "### Use a for loop to iterate through tweets\n",
        "\n",
        "### Inside the loop, use another for loop to iterate through words in a given tweet\n",
        "\n",
        "### Use conditional statements to identify whether a word is a hashtag\n",
        "\n",
        "### Hint I: use split a tweet into a list of words using split() method\n",
        "\n",
        "### Hint II: use startswith() method to see if a word is a hashtag or not\n",
        "\n",
        "### Write your code here\n",
        "\n",
        "for tweet in tweets:\n",
        "    words = tweet.split() # Split the tweet into words\n",
        "    # Use another for loop to iterate through each word in the tweet\n",
        "    for word in words:\n",
        "        if word.startswith('#'): # Identify whether a word is a hashtag\n",
        "            hashtags.append(word) # Append the cleaned hashtags to the list\n",
        "\n",
        "print(hashtags)"
      ],
      "metadata": {
        "colab": {
          "base_uri": "https://localhost:8080/"
        },
        "id": "LS0ib-Td7rqi",
        "outputId": "80668ae6-9b08-40ed-81d9-7d77d4817196"
      },
      "execution_count": null,
      "outputs": [
        {
          "output_type": "stream",
          "name": "stdout",
          "text": [
            "['#Python', '#coding', '#datascience', '#machinelearning', '#AI', '#future', '#CT', '#DHCSS', '#DS']\n",
            "9\n"
          ]
        }
      ]
    },
    {
      "cell_type": "code",
      "source": [
        "### Problem 10\n",
        "\n",
        "### You are given a list of comments from social surveys conducted in different communities\n",
        "\n",
        "### The comments can be categorized as \"Positive,\" \"Neutral,\" or \"Negative\" based on specific keywords\n",
        "\n",
        "### Your task is to count how many comments fall under each category for each community and print the counts\n",
        "\n",
        "### If a comment contains the word \"good,\" categorize it as \"Positive\" & If a comment contains the word \"bad,\" categorize it as \"Negative\" & If a comment contains neither, categorize it as \"Neutral\"\n",
        "\n",
        "### Use a nested for loop to iterate through the list of communities and their comments\n",
        "\n",
        "### Use if-elif-else statements to categorize each comment\n",
        "\n",
        "### Count the number of comments in each category for each community\n",
        "\n",
        "### Write your code here\n",
        "\n",
        "# Sample comments from social surveys in different communities\n",
        "community_comments = {\n",
        "    \"Community A\": [\"This place is so good!\", \"I had a bad experience.\"],\n",
        "    \"Community B\": [\"It's an average community.\", \"Good people around.\"],\n",
        "    \"Community C\": [\"Not good, not bad.\", \"I love it here!\"]\n",
        "    }\n",
        "\n",
        "# Iterate through each community and its list of comments\n",
        "for community, comments in community_comments.items():\n",
        "    # Initialize counters for each category\n",
        "    positive_comments = 0\n",
        "    neutral_comments = 0\n",
        "    negative_comments = 0\n",
        "\n",
        "    # Categorize each comment within the community\n",
        "    for comment in comments:\n",
        "        if \"good\" in comment.lower():\n",
        "            positive_comments += 1\n",
        "        elif \"bad\" in comment.lower():\n",
        "            negative_comments += 1\n",
        "        else:\n",
        "            neutral_comments += 1\n",
        "\n",
        "    # Print the counts for each category in the current community\n",
        "    print(f\"{community}:\")\n",
        "    print(f\"  Positive Comments: {positive_comments}\")\n",
        "    print(f\"  Neutral Comments: {neutral_comments}\")\n",
        "    print(f\"  Negative Comments: {negative_comments}\")\n",
        "    print()  # Add an empty line for better readability"
      ],
      "metadata": {
        "colab": {
          "base_uri": "https://localhost:8080/"
        },
        "id": "h-x_QP1VZfmz",
        "outputId": "871a3ac8-7ac0-4d1c-df35-aa07c1ba9fce"
      },
      "execution_count": null,
      "outputs": [
        {
          "output_type": "stream",
          "name": "stdout",
          "text": [
            "Community A:\n",
            "  Positive Comments: 1\n",
            "  Neutral Comments: 0\n",
            "  Negative Comments: 1\n",
            "\n",
            "Community B:\n",
            "  Positive Comments: 1\n",
            "  Neutral Comments: 1\n",
            "  Negative Comments: 0\n",
            "\n",
            "Community C:\n",
            "  Positive Comments: 1\n",
            "  Neutral Comments: 1\n",
            "  Negative Comments: 0\n",
            "\n"
          ]
        }
      ]
    }
  ]
}