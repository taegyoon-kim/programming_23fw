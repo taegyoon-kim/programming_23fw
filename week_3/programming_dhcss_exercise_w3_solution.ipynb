{
  "nbformat": 4,
  "nbformat_minor": 0,
  "metadata": {
    "colab": {
      "provenance": []
    },
    "kernelspec": {
      "name": "python3",
      "display_name": "Python 3"
    },
    "language_info": {
      "name": "python"
    }
  },
  "cells": [
    {
      "cell_type": "markdown",
      "source": [
        "Programming for DHCSS Exercises: Week 3. Strings, Lists, Tuples, and More"
      ],
      "metadata": {
        "id": "x4jpcIgJ_gwv"
      }
    },
    {
      "cell_type": "code",
      "source": [
        "### Problem 1 ###\n",
        "\n",
        "### Slice the first list to get the second\n",
        "\n",
        "first_list = [1, 2, 3, 4, 5, 6, 7, 8, 9]\n",
        "\n",
        "second_list = [1, 4, 7]\n",
        "\n",
        "### Write your code here\n",
        "\n",
        "print(first_list[0: len(first_list): 3])\n",
        "print(first_list[0::3]) # you can skip the stop argument (start:stop:step)"
      ],
      "metadata": {
        "colab": {
          "base_uri": "https://localhost:8080/"
        },
        "id": "Dtbz7lWVckqL",
        "outputId": "5d3789ca-3cea-4c0b-d3e2-f94d89402991"
      },
      "execution_count": 10,
      "outputs": [
        {
          "output_type": "stream",
          "name": "stdout",
          "text": [
            "[1, 4, 7]\n",
            "[1, 4, 7]\n"
          ]
        }
      ]
    },
    {
      "cell_type": "code",
      "source": [
        "### Problem 2 ###\n",
        "\n",
        "### Given the follwoing list of numbers, write a program that turns every item in the list into its square\n",
        "\n",
        "numbers = [1, 2, 3, 4, 5, 6, 7]\n",
        "\n",
        "### Write a program relying on for loop\n",
        "\n",
        "numbers_squared = []\n",
        "for i in numbers:\n",
        "  numbers_squared.append(i ** 2)\n",
        "print(numbers_squared)\n",
        "\n",
        "### Write a program relying on list comprehension\n",
        "\n",
        "numbers_squared = [i **2 for i in numbers]\n",
        "print(numbers_squared)"
      ],
      "metadata": {
        "id": "vDrsE_4uGRiq",
        "colab": {
          "base_uri": "https://localhost:8080/"
        },
        "outputId": "3293e59a-2a80-4c72-9160-faf0e25deedf"
      },
      "execution_count": null,
      "outputs": [
        {
          "output_type": "stream",
          "name": "stdout",
          "text": [
            "[1, 4, 9, 16, 25, 36, 49]\n",
            "[1, 4, 9, 16, 25, 36, 49]\n"
          ]
        }
      ]
    },
    {
      "cell_type": "code",
      "execution_count": 15,
      "metadata": {
        "colab": {
          "base_uri": "https://localhost:8080/",
          "height": 54
        },
        "id": "wlR9BbOYKuRW",
        "outputId": "4ec00e73-00f1-411f-f6b7-0776acc24b0d"
      },
      "outputs": [
        {
          "output_type": "stream",
          "name": "stdout",
          "text": [
            "['Causation', 'is', 'different', 'from', 'correlation']\n"
          ]
        },
        {
          "output_type": "execute_result",
          "data": {
            "text/plain": [
              "'Causation is different from correlation'"
            ],
            "application/vnd.google.colaboratory.intrinsic+json": {
              "type": "string"
            }
          },
          "metadata": {},
          "execution_count": 15
        }
      ],
      "source": [
        "### Problem 3 ###\n",
        "\n",
        "### First, use list comprehension to add the two lists index-wise\n",
        "\n",
        "### Hint: you can use zip() to bind the two lists\n",
        "\n",
        "list_1 = ['Causa', 'i', 'differ', 'fr', 'correlat']\n",
        "list_2 = ['tion', 's', 'ent', 'om', 'ion']\n",
        "\n",
        "### The follwoing is the expected output\n",
        "\n",
        "['Causation', 'is', 'different', 'from', 'correlation']\n",
        "\n",
        "### Then, concatenate the elements in the output\n",
        "\n",
        "['Causation is different from correlation']\n",
        "\n",
        "### Write your code here\n",
        "\n",
        "list_3 = [i + j for i, j in zip(list_1, list_2)]\n",
        "print(list_3)\n",
        "' '.join(list_3)\n",
        "\n",
        "list_wrong = [i + j for i in list_1 for j in list_2] # see what it does\n",
        "print(list_wrong)\n",
        "' '.join(list_wrong)"
      ]
    },
    {
      "cell_type": "code",
      "source": [
        "### Problem 4 ###\n",
        "\n",
        "### Write a program to add two integer items, 7000 and 8000, after 6000 in the following list\n",
        "\n",
        "nested_list = [True, 10, 20, [300, 400, [5000, 6000], 500], 30, None]\n",
        "\n",
        "### The following is the expected output\n",
        "\n",
        "[True, 10, 20, [300, 400, [5000, 6000, 7000, 8000], 500], 30, None]\n",
        "\n",
        "### Hint : nested_list[3][2] = [5000, 6000]\n",
        "\n",
        "### Write your code here\n",
        "\n",
        "nested_list[3][2].extend([7000, 8000])\n",
        "print(nested_list)"
      ],
      "metadata": {
        "colab": {
          "base_uri": "https://localhost:8080/"
        },
        "id": "tYwU6YpNLIun",
        "outputId": "6f94357e-c77e-4c31-a819-823cab5bddf2"
      },
      "execution_count": 17,
      "outputs": [
        {
          "output_type": "stream",
          "name": "stdout",
          "text": [
            "[True, 10, 20, [300, 400, [5000, 6000, 7000, 8000], 500], 30, None]\n"
          ]
        }
      ]
    },
    {
      "cell_type": "code",
      "source": [
        "### Problem 5a-c ###\n",
        "\n",
        "### You will do some quick analysis on tweets data\n",
        "\n",
        "### First get text data from an URL\n",
        "\n",
        "import requests\n",
        "url = 'https://raw.githubusercontent.com/harshilkamdar/trump-tweets/master/trump.txt'\n",
        "\n",
        "response = requests.get(url) # Fetch the text file content\n",
        "text_data = response.text # Decode the content\n",
        "tweets = text_data.split('\\n') # Split the content by lines\n",
        "\n",
        "### Examine the data\n",
        "\n",
        "print(type(tweets))\n",
        "print(tweets[0])\n",
        "print(len(tweets))\n",
        "\n",
        "### Exercise 5a: use list comprehension to create a list to record whether tweets are a retweet or not (i.e. whether it starts with \"RT\" or not),\n",
        "### and count the number of retweets\n",
        "\n",
        "### Write your code here\n",
        "\n",
        "retweet_or_not = [tweet.startswith(\"RT\") for tweet in tweets]\n",
        "sum(retweet_or_not)\n",
        "\n",
        "### Exercise 5b: use list comprehension to create a list to record whether tweets contain an URL or not,\n",
        "### and count the number of tweets with at least one URL\n",
        "\n",
        "### Write your code here\n",
        "\n",
        "has_url_or_not = [\"http://\" in tweet for tweet in tweets]\n",
        "sum(has_url_or_not)\n",
        "\n",
        "### Exercise 5c: create a list to record the number of occurrences for \"trump\"\n",
        "\n",
        "### Write your code here\n",
        "\n",
        "count_trump = [tweet.lower().count(\"trump\") for tweet in tweets]\n",
        "import numpy as np\n",
        "print(np.mean(count_trump))\n",
        "print(np.median(count_trump))"
      ],
      "metadata": {
        "colab": {
          "base_uri": "https://localhost:8080/"
        },
        "id": "_Ms2O6MdM-_4",
        "outputId": "210090e2-1c34-417f-c094-d1f30e9ab730"
      },
      "execution_count": 30,
      "outputs": [
        {
          "output_type": "execute_result",
          "data": {
            "text/plain": [
              "1"
            ]
          },
          "metadata": {},
          "execution_count": 30
        }
      ]
    },
    {
      "cell_type": "code",
      "source": [
        "### Problem 6a-b ###\n",
        "\n",
        "### Create a list of YT comments\n",
        "\n",
        "youtube_comments = [\n",
        "    \"Awesome video, thanks for sharing! @channel\",\n",
        "    \"I really learned a lot from this, @channel!\",\n",
        "    \"@user1 @user2 have you guys seen this?\",\n",
        "    \"Terrible content. Unsubscribed.\",\n",
        "    \"Pls make more content like this! @channel\",\n",
        "    \"I totally agree with @user3.\",\n",
        "    \"Your videos are always so insightful, @channel.\",\n",
        "    \"Could you talk about XYZ in the next video?\",\n",
        "    \"I've been following you since 100 subs, @channel.\",\n",
        "    \"@user3 I think you're mistaken.\"\n",
        "]\n",
        "\n",
        "### Exercise 6a: filter positive comments: create a new list containing only the comments that include the words \"awesome\", \"thanks\", or \"learned\". Use list comprehension.\n",
        "### Hint: you can use \"any()\" function as we have three keywords: https://www.w3schools.com/python/ref_func_any.asp\n",
        "### Write your code here\n",
        "\n",
        "l_post = ['awesome', 'thanks', 'learned']\n",
        "youtube_comments_pos = [comment for comment in youtube_comments if any(word in comment.lower() for word in l_post)]\n",
        "\n",
        "### Exercise 6b: count the total number of mentions (e.g., @username) across all comments\n",
        "### Write your code here\n",
        "\n",
        "l_mention = [[word for word in comment.split() if word.startswith('@')] for comment in youtube_comments]\n",
        "l_mention_count = [len(sub_l) for sub_l in l_mention]\n",
        "sum(l_mention_count)"
      ],
      "metadata": {
        "id": "34zbugk2caRs",
        "colab": {
          "base_uri": "https://localhost:8080/"
        },
        "outputId": "7a29c5b4-8c2e-4b2c-f495-24300e6a8d1c"
      },
      "execution_count": 48,
      "outputs": [
        {
          "output_type": "execute_result",
          "data": {
            "text/plain": [
              "9"
            ]
          },
          "metadata": {},
          "execution_count": 48
        }
      ]
    },
    {
      "cell_type": "code",
      "source": [
        "### Problem 7 ###\n",
        "\n",
        "### Write a program that produces a matrix like the following:\n",
        "\n",
        "matrix = [[0, 1, 2, 3, 4],\n",
        "          [0, 1, 2, 3, 4],\n",
        "          [0, 1, 2, 3, 4],\n",
        "          [0, 1, 2, 3, 4],\n",
        "          [0, 1, 2, 3, 4]]\n",
        "\n",
        "### Write your code here\n",
        "\n",
        "matrix = [[j for j in range(5)] for i in range(5)]\n",
        "print(matrix)\n"
      ],
      "metadata": {
        "colab": {
          "base_uri": "https://localhost:8080/"
        },
        "id": "pGP269CRSAP5",
        "outputId": "c7a99d67-6c8b-49e9-d413-ef0349d9c176"
      },
      "execution_count": null,
      "outputs": [
        {
          "output_type": "stream",
          "name": "stdout",
          "text": [
            "[[0, 1, 2, 3, 4], [0, 1, 2, 3, 4], [0, 1, 2, 3, 4], [0, 1, 2, 3, 4], [0, 1, 2, 3, 4]]\n"
          ]
        }
      ]
    }
  ]
}