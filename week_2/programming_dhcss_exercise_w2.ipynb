{
  "nbformat": 4,
  "nbformat_minor": 0,
  "metadata": {
    "colab": {
      "provenance": []
    },
    "kernelspec": {
      "name": "python3",
      "display_name": "Python 3"
    },
    "language_info": {
      "name": "python"
    }
  },
  "cells": [
    {
      "cell_type": "markdown",
      "source": [
        "Programming for DHCSS Exercises: Week 2. Branching and Iteration"
      ],
      "metadata": {
        "id": "x4jpcIgJ_gwv"
      }
    },
    {
      "cell_type": "code",
      "execution_count": null,
      "metadata": {
        "id": "wlR9BbOYKuRW"
      },
      "outputs": [],
      "source": [
        "### Problem 1 ###\n",
        "\n",
        "### Using the variables below, write a code that generates the following string: \"umbrella ella ella ella \"\n",
        "\n",
        "once = \"umbr\"\n",
        "repeat = \"ella\"\n",
        "\n",
        "### Write your code here"
      ]
    },
    {
      "cell_type": "code",
      "source": [
        "### Problem 2 ###\n",
        "\n",
        "### Using a for loop write a code that counts the number of characters in the string named \"example_string\"\n",
        "\n",
        "example_string = \"World’s largest rice exporter’s abrupt ban has triggered global panic - but its own farmers are bearing the brunt\"\n",
        "\n",
        "### Start with a counter variable\n",
        "\n",
        "count = 0\n",
        "\n",
        "### Write your code here"
      ],
      "metadata": {
        "id": "5Jlf6Lzh1JK6"
      },
      "execution_count": null,
      "outputs": []
    },
    {
      "cell_type": "code",
      "source": [
        "### Problem 3 ###\n",
        "\n",
        "### Suppose you wanted to multiply a number (here, 1) by 2 and keep iterating that until the product of the numbers exceeds 150\n",
        "\n",
        "### Use a while loop and print the result (the multipied number) from each iteration\n",
        "\n",
        "number = 1\n",
        "\n",
        "### Write your code here"
      ],
      "metadata": {
        "id": "o5PEexDx--TG"
      },
      "execution_count": null,
      "outputs": []
    },
    {
      "cell_type": "code",
      "source": [
        "### Problem 4 ###\n",
        "\n",
        "### Write a for loop which prints \"Hello!, \" plus each name in the following list. i.e.: \"Hello, Sam!\"\n",
        "\n",
        "lst = [\"Sam\", \"Lisa\", \"Micha\", \"Dave\", \"Wyatt\", \"Emma\", \"Sage\"]\n",
        "\n",
        "### Also, do the same but only when the name invovles \"e\" (you can use \"in\" operator for this)\n",
        "\n",
        "### Write your code here"
      ],
      "metadata": {
        "id": "38y2HEC23ogi"
      },
      "execution_count": null,
      "outputs": []
    },
    {
      "cell_type": "code",
      "source": [
        "### Problem 5 ###\n",
        "\n",
        "### You will get data on news articles.\n",
        "\n",
        "### Write a for loop to go through the \"month\" column and count the number of articles that were published in April or December\n",
        "\n",
        "### Run this code to get the data\n",
        "\n",
        "import pandas as pd # import pandas library shortened as pd\n",
        "url = \"https://github.com/taegyoon-kim/programming_dhcss_23fw/raw/main/week_2/news_category.xlsx\" # string containig the url\n",
        "df = pd.read_excel(url) # read_excel function to read xlsx files\n",
        "\n",
        "### Check the data\n",
        "\n",
        "print(type(df))\n",
        "print(df.head(5)) # method that shows the first N (=5) rows of the data\n",
        "print(df.dtypes) # data type for each column\n",
        "\n",
        "### The \"month\" column can be accessed like the following\n",
        "\n",
        "df['month']\n",
        "\n",
        "### Write your code here"
      ],
      "metadata": {
        "id": "DvINvPDFuRdC"
      },
      "execution_count": null,
      "outputs": []
    },
    {
      "cell_type": "code",
      "source": [
        "### Problem 6 ###\n",
        "\n",
        "### Use the same data to write a code that counts the number of articles by \"theme\" using a for loop and if, elif, and else statements\n",
        "\n",
        "### Use the following counters for each category: Politics, Entertainment, and Others\n",
        "\n",
        "count_politics = 0\n",
        "count_entertainment = 0\n",
        "count_others = 0\n",
        "\n",
        "### Write your code here"
      ],
      "metadata": {
        "id": "gsKZZP3zx4en"
      },
      "execution_count": null,
      "outputs": []
    },
    {
      "cell_type": "code",
      "source": [
        "# Problem 7\n",
        "\n",
        "### With the same data, write a for loop code to creaet a list containing the word count for articles\n",
        "\n",
        "### Exclude articles with too few words (<50) or too many words (>500)\n",
        "\n",
        "### You create an empty list named \"word_counts\" and append the word count from each iteration (you can use \"append\" method within the loop)\n",
        "\n",
        "word_counts = []\n",
        "\n",
        "### See below for how append() works\n",
        "\n",
        "empty_lst = []\n",
        "for i in range(0, 3):\n",
        "  empty_lst.append(i)\n",
        "print(empty_lst)\n",
        "\n",
        "### Use split() method to parse an article text into words\n",
        "\n",
        "text = 'this is a text'\n",
        "text_spt = text.split()\n",
        "print(text_spt)\n",
        "\n",
        "### Skip the outliers usings statements like break, continue, or pass (<50 or >500)\n",
        "\n",
        "### Write your code here"
      ],
      "metadata": {
        "id": "uplYkHm_Ivdr"
      },
      "execution_count": null,
      "outputs": []
    },
    {
      "cell_type": "code",
      "source": [
        "### Problem 8 ###\n",
        "\n",
        "### You are given two lists, one containing names of fruits and the other containing their corresponding colors.\n",
        "\n",
        "### Write a for loop code that prints a statement like the following\n",
        "\n",
        "### E.g.,: \"The color of Apple is Red.\"\n",
        "\n",
        "### If the fruit's name is great than 5 characters, just print \"Too long.\"\n",
        "\n",
        "### Consider using \"zip()\"\n",
        "\n",
        "fruits = ['Apple', 'grape', 'Cherry', 'Avocado']\n",
        "colors = ['Red', 'Green', 'Red', 'Brown', 'Green']\n",
        "\n",
        "### Write your code here"
      ],
      "metadata": {
        "id": "eDgd6ywFlDt9"
      },
      "execution_count": null,
      "outputs": []
    },
    {
      "cell_type": "code",
      "source": [
        "### Problem 9 ###\n",
        "\n",
        "### Write a code that extracts hashtags from the following list of tweet texts\n",
        "\n",
        "### Hashtags in tweets are words that start with the symbol #\n",
        "\n",
        "### You are given a list of tweet texts\n",
        "\n",
        "tweets = [\n",
        "    \"Learning Python is fun! #Python #coding\",\n",
        "    \"Data science is awesome. #datascience #machinelearning\",\n",
        "    \"Artificial Intelligence: The future! #AI #future\",\n",
        "    \"Study at KAIST for #CT #DHCSS #DS\"]\n",
        "\n",
        "### Initialize an empty list to store hashtags (and append exracted hashtags to it!)\n",
        "\n",
        "hashtags = []\n",
        "\n",
        "### Use a for loop to iterate through tweets\n",
        "\n",
        "### Inside the loop, use another for loop to iterate through words in a given tweet\n",
        "\n",
        "### Use conditional statements to identify whether a word is a hashtag\n",
        "\n",
        "### Hint I: use split a tweet into a list of words using split() method\n",
        "\n",
        "### Hint II: use startswith() method to see if a word is a hashtag or not\n",
        "\n",
        "### Write your code here"
      ],
      "metadata": {
        "id": "LS0ib-Td7rqi"
      },
      "execution_count": null,
      "outputs": []
    }
  ]
}