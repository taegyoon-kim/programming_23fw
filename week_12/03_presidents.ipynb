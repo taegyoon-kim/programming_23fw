{
  "nbformat": 4,
  "nbformat_minor": 0,
  "metadata": {
    "colab": {
      "provenance": []
    },
    "kernelspec": {
      "name": "python3",
      "display_name": "Python 3"
    },
    "language_info": {
      "name": "python"
    }
  },
  "cells": [
    {
      "cell_type": "markdown",
      "source": [
        "### **Getting Portrait and Early Life Information for All U.S. Presidents from Wikipedia**"
      ],
      "metadata": {
        "id": "ZAk0oQwTCUjQ"
      }
    },
    {
      "cell_type": "markdown",
      "source": [
        "Get the Wikipedia links to all U.S. presidents. The page https://en.wikipedia.org/wiki/List_of_presidents_of_the_United_States has them, we need to extract it."
      ],
      "metadata": {
        "id": "0axL0g05Wj67"
      }
    },
    {
      "cell_type": "code",
      "execution_count": 1,
      "metadata": {
        "id": "n2AZVp-kWhZt"
      },
      "outputs": [],
      "source": [
        "from bs4 import BeautifulSoup\n",
        "import requests"
      ]
    },
    {
      "cell_type": "code",
      "source": [
        "r = requests.get('https://en.wikipedia.org/wiki/List_of_presidents_of_the_United_States')\n",
        "soup = BeautifulSoup(r.text)"
      ],
      "metadata": {
        "id": "VzHNIZWDW0o4"
      },
      "execution_count": 4,
      "outputs": []
    },
    {
      "cell_type": "code",
      "source": [
        "print(soup.find(class_ = 'wikitable').prettify())"
      ],
      "metadata": {
        "id": "A-g0FFNFW7qn"
      },
      "execution_count": null,
      "outputs": []
    },
    {
      "cell_type": "code",
      "source": [
        "[item for item in soup.find(class_ = 'wikitable').tbody.find_all('tr')][10].find_all('td')[1].a.get('href')"
      ],
      "metadata": {
        "id": "xJYoSIGHYBy-"
      },
      "execution_count": null,
      "outputs": []
    },
    {
      "cell_type": "code",
      "source": [
        "links = []\n",
        "for item in soup.find(class_ = 'wikitable').tbody.find_all('tr'):\n",
        "    try:\n",
        "      links.append('https://en.wikipedia.org' + item.find_all('td')[1].a.get('href'))\n",
        "    except:\n",
        "      None"
      ],
      "metadata": {
        "id": "EyI6Ebih4thy"
      },
      "execution_count": 8,
      "outputs": []
    },
    {
      "cell_type": "code",
      "source": [
        "links"
      ],
      "metadata": {
        "id": "ftCCEATc5bUf",
        "colab": {
          "base_uri": "https://localhost:8080/"
        },
        "outputId": "40a7889e-090c-4c01-afa2-aa73cde6a13c"
      },
      "execution_count": 9,
      "outputs": [
        {
          "output_type": "execute_result",
          "data": {
            "text/plain": [
              "['https://en.wikipedia.org/wiki/George_Washington',\n",
              " 'https://en.wikipedia.org/wiki/John_Adams',\n",
              " 'https://en.wikipedia.org/wiki/Thomas_Jefferson',\n",
              " 'https://en.wikipedia.org/wiki/James_Madison',\n",
              " 'https://en.wikipedia.org/wiki/James_Monroe',\n",
              " 'https://en.wikipedia.org/wiki/John_Quincy_Adams',\n",
              " 'https://en.wikipedia.org/wiki/Andrew_Jackson',\n",
              " 'https://en.wikipedia.org/wiki/Martin_Van_Buren',\n",
              " 'https://en.wikipedia.org/wiki/William_Henry_Harrison',\n",
              " 'https://en.wikipedia.org/wiki/John_Tyler',\n",
              " 'https://en.wikipedia.org/wiki/James_K._Polk',\n",
              " 'https://en.wikipedia.org/wiki/Zachary_Taylor',\n",
              " 'https://en.wikipedia.org/wiki/Millard_Fillmore',\n",
              " 'https://en.wikipedia.org/wiki/Franklin_Pierce',\n",
              " 'https://en.wikipedia.org/wiki/James_Buchanan',\n",
              " 'https://en.wikipedia.org/wiki/Abraham_Lincoln',\n",
              " 'https://en.wikipedia.org/wiki/Andrew_Johnson',\n",
              " 'https://en.wikipedia.org/wiki/Ulysses_S._Grant',\n",
              " 'https://en.wikipedia.org/wiki/Rutherford_B._Hayes',\n",
              " 'https://en.wikipedia.org/wiki/James_A._Garfield',\n",
              " 'https://en.wikipedia.org/wiki/Chester_A._Arthur',\n",
              " 'https://en.wikipedia.org/wiki/Grover_Cleveland',\n",
              " 'https://en.wikipedia.org/wiki/Benjamin_Harrison',\n",
              " 'https://en.wikipedia.org/wiki/Grover_Cleveland',\n",
              " 'https://en.wikipedia.org/wiki/William_McKinley',\n",
              " 'https://en.wikipedia.org/wiki/Theodore_Roosevelt',\n",
              " 'https://en.wikipedia.org/wiki/William_Howard_Taft',\n",
              " 'https://en.wikipedia.org/wiki/Woodrow_Wilson',\n",
              " 'https://en.wikipedia.org/wiki/Warren_G._Harding',\n",
              " 'https://en.wikipedia.org/wiki/Calvin_Coolidge',\n",
              " 'https://en.wikipedia.org/wiki/Herbert_Hoover',\n",
              " 'https://en.wikipedia.org/wiki/Franklin_D._Roosevelt',\n",
              " 'https://en.wikipedia.org/wiki/Harry_S._Truman',\n",
              " 'https://en.wikipedia.org/wiki/Dwight_D._Eisenhower',\n",
              " 'https://en.wikipedia.org/wiki/John_F._Kennedy',\n",
              " 'https://en.wikipedia.org/wiki/Lyndon_B._Johnson',\n",
              " 'https://en.wikipedia.org/wiki/Richard_Nixon',\n",
              " 'https://en.wikipedia.org/wiki/Gerald_Ford',\n",
              " 'https://en.wikipedia.org/wiki/Jimmy_Carter',\n",
              " 'https://en.wikipedia.org/wiki/Ronald_Reagan',\n",
              " 'https://en.wikipedia.org/wiki/George_H._W._Bush',\n",
              " 'https://en.wikipedia.org/wiki/Bill_Clinton',\n",
              " 'https://en.wikipedia.org/wiki/George_W._Bush',\n",
              " 'https://en.wikipedia.org/wiki/Barack_Obama',\n",
              " 'https://en.wikipedia.org/wiki/Donald_Trump',\n",
              " 'https://en.wikipedia.org/wiki/Joe_Biden']"
            ]
          },
          "metadata": {},
          "execution_count": 9
        }
      ]
    },
    {
      "cell_type": "code",
      "source": [
        "len(links)"
      ],
      "metadata": {
        "id": "NlzCzV0d5WoN",
        "colab": {
          "base_uri": "https://localhost:8080/"
        },
        "outputId": "af266f4d-9cea-4c7d-9879-d9e0eff5c089"
      },
      "execution_count": 10,
      "outputs": [
        {
          "output_type": "execute_result",
          "data": {
            "text/plain": [
              "46"
            ]
          },
          "metadata": {},
          "execution_count": 10
        }
      ]
    },
    {
      "cell_type": "code",
      "source": [
        "def get_early_life(url):\n",
        "    r = requests.get(url)\n",
        "    soup = BeautifulSoup(r.text)\n",
        "    heading = [item for item in soup.find_all(['h2','h3']) if 'early life' in item.text.lower()]\n",
        "    first_paragraph = heading[0].find_next('p').text\n",
        "    return first_paragraph\n",
        "\n",
        "def get_portrait(page):\n",
        "    r = requests.get(page)\n",
        "    soup = BeautifulSoup(r.text)\n",
        "    infobox_image = soup.find(class_ = 'infobox-image')\n",
        "    url = 'https:' + infobox_image.img.get('src')\n",
        "    return url"
      ],
      "metadata": {
        "id": "SOykJ7KL5fFp"
      },
      "execution_count": 11,
      "outputs": []
    },
    {
      "cell_type": "code",
      "source": [
        "i = 0\n",
        "container_dict = {}\n",
        "for link in links:\n",
        "    i += 1\n",
        "    print(i)\n",
        "    new_dict = {}\n",
        "    # turns out, Abraham Lincoln's 'early life' section was designed differently than everyone else\n",
        "    # so we'll circumvent that with try / except\n",
        "    try:\n",
        "        new_dict['early_life'] = get_early_life(link)\n",
        "    except:\n",
        "        new_dict['early_life'] = None\n",
        "    new_dict['portrait'] = get_portrait(link)\n",
        "    container_dict[link.replace('https://en.wikipedia.org/wiki/', '')] = new_dict\n"
      ],
      "metadata": {
        "id": "BHMaUnjf5q8J",
        "colab": {
          "base_uri": "https://localhost:8080/"
        },
        "outputId": "07784a09-a0e1-4bb5-dfe7-92373ace8f98"
      },
      "execution_count": 12,
      "outputs": [
        {
          "output_type": "stream",
          "name": "stdout",
          "text": [
            "1\n",
            "2\n",
            "3\n",
            "4\n",
            "5\n",
            "6\n",
            "7\n",
            "8\n",
            "9\n",
            "10\n",
            "11\n",
            "12\n",
            "13\n",
            "14\n",
            "15\n",
            "16\n",
            "17\n",
            "18\n",
            "19\n",
            "20\n",
            "21\n",
            "22\n",
            "23\n",
            "24\n",
            "25\n",
            "26\n",
            "27\n",
            "28\n",
            "29\n",
            "30\n",
            "31\n",
            "32\n",
            "33\n",
            "34\n",
            "35\n",
            "36\n",
            "37\n",
            "38\n",
            "39\n",
            "40\n",
            "41\n",
            "42\n",
            "43\n",
            "44\n",
            "45\n",
            "46\n"
          ]
        }
      ]
    },
    {
      "cell_type": "code",
      "source": [
        "container_dict"
      ],
      "metadata": {
        "id": "2cHyCT4M6Qwq",
        "colab": {
          "base_uri": "https://localhost:8080/"
        },
        "outputId": "3765f23f-61c6-4b5e-a3ef-a5237bb59630"
      },
      "execution_count": 15,
      "outputs": [
        {
          "output_type": "execute_result",
          "data": {
            "text/plain": [
              "{'George_Washington': {'early_life': 'George Washington was born on February 22, 1732,[a] at Popes Creek in Westmoreland County, Virginia.[3] He was the first of six children of Augustine and Mary Ball Washington.[4] His father was a justice of the peace and a prominent public figure who had four additional children from his first marriage to Jane Butler.[5] The family moved to Little Hunting Creek in 1734 before eventually settling in Ferry Farm near Fredericksburg, Virginia. When Augustine died in 1743, Washington inherited Ferry Farm and ten slaves; his older half-brother Lawrence inherited Little Hunting Creek and renamed it Mount Vernon.[6][7]\\n',\n",
              "  'portrait': 'https://upload.wikimedia.org/wikipedia/commons/thumb/b/b6/Gilbert_Stuart_Williamstown_Portrait_of_George_Washington.jpg/220px-Gilbert_Stuart_Williamstown_Portrait_of_George_Washington.jpg'},\n",
              " 'John_Adams': {'early_life': \"John Adams was born on October 30, 1735,[a] to John Adams Sr. and Susanna Boylston. He had two younger brothers, Peter and Elihu.[6] Adams was born on the family farm in Braintree, Massachusetts.[7][b] His mother was from a leading medical family of present-day Brookline, Massachusetts. His father was a deacon in the Congregational Church, a farmer, a cordwainer, and a lieutenant in the militia.[8] Adams often praised his father and recalled their close relationship.[9] Adams's great-great-grandfather Henry Adams immigrated to Massachusetts from Braintree, Essex, England, around 1638.[8]\\n\",\n",
              "  'portrait': 'https://upload.wikimedia.org/wikipedia/commons/thumb/f/ff/Gilbert_Stuart%2C_John_Adams%2C_c._1800-1815%2C_NGA_42933.jpg/220px-Gilbert_Stuart%2C_John_Adams%2C_c._1800-1815%2C_NGA_42933.jpg'},\n",
              " 'Thomas_Jefferson': {'early_life': \"Thomas Jefferson was born on April 13, 1743 (April 2, 1743, Old Style, Julian calendar), at the family's Shadwell Plantation in the British Colony of Virginia, the third of ten children.[17] He was of English, and possibly Welsh, descent and was born a British subject.[18] His father, Peter Jefferson, was a planter and surveyor who died when Jefferson was fourteen; his mother was Jane Randolph.[c] Peter Jefferson moved his family to Tuckahoe Plantation in 1745 upon the death of William Randolph III, the plantation's owner and Jefferson's friend, who in his will had named Peter guardian of Randolph's children. The Jeffersons returned to Shadwell in 1752. In 1753, Thomas attended the wedding of his uncle Field Jefferson to Mary Allen Hunt, and Field became a close friend and early mentor.[20]\\n\",\n",
              "  'portrait': 'https://upload.wikimedia.org/wikipedia/commons/thumb/b/b1/Official_Presidential_portrait_of_Thomas_Jefferson_%28by_Rembrandt_Peale%2C_1800%29%28cropped%29.jpg/220px-Official_Presidential_portrait_of_Thomas_Jefferson_%28by_Rembrandt_Peale%2C_1800%29%28cropped%29.jpg'},\n",
              " 'James_Madison': {'early_life': \"James Madison Jr. was born on March 16, 1751 (March 5, 1750, Old Style), at Belle Grove Plantation near Port Conway in the Colony of Virginia, to James Madison Sr. and Eleanor Rose Conway Madison. His family had lived in Virginia since the mid-17th century.[7] Madison's maternal grandfather, Francis Conway, was a prominent planter and tobacco merchant.[8] His father was a tobacco planter who grew up on a plantation, then called Mount Pleasant, which he inherited upon reaching adulthood. With an estimated 100 slaves[7] and a 5,000-acre (2,000\\xa0ha) plantation, Madison's father was among the largest landowners in Virginia's Piedmont.[9]\\n\",\n",
              "  'portrait': 'https://upload.wikimedia.org/wikipedia/commons/thumb/2/20/James_Madison%28cropped%29%28c%29.jpg/220px-James_Madison%28cropped%29%28c%29.jpg'},\n",
              " 'James_Monroe': {'early_life': \"James Monroe was born April 28, 1758, in his parents' house in a wooded area of Westmoreland County, Virginia. The marked site is one mile (1.6\\xa0km) from the unincorporated community known today as Monroe Hall, Virginia. The James Monroe Family Home Site was listed on the National Register of Historic Places in 1979. His father Spence Monroe (1727–1774) was a moderately prosperous planter and slave owner who also practiced carpentry. His mother Elizabeth Jones (1730–1772) married Spence Monroe in 1752 and they had five children: Elizabeth, James, Spence, Andrew, and Joseph Jones.[1][2]\\n\",\n",
              "  'portrait': 'https://upload.wikimedia.org/wikipedia/commons/thumb/d/d4/James_Monroe_White_House_portrait_1819.jpg/220px-James_Monroe_White_House_portrait_1819.jpg'},\n",
              " 'John_Quincy_Adams': {'early_life': \"John Quincy Adams was born on July 11, 1767, to John and Abigail Adams (née Smith) in a part of Braintree, Massachusetts, that is now Quincy.[5] He was named after his mother's maternal grandfather, Colonel John Quincy, after whom Quincy, Massachusetts, is also named. Colonel Quincy died two days after his great-grandson's birth.[6] Young Adams was educated by private tutors – his cousin James Thaxter and his father's law clerk, Nathan Rice.[7][page\\xa0needed] He soon exhibited literary skills, and in 1779 he started a diary that he kept until just before he died in 1848.[8] Until the age of ten, Adams grew up on the family farm in Braintree, largely in the care of his mother. Though frequently absent because of his participation in the American Revolution, John Adams maintained a correspondence with his son, encouraging him to read works by authors such as Thucydides and Hugo Grotius.[9] With his father's encouragement, Adams would also translate classical authors such as Virgil, Horace, Plutarch, and Aristotle.[10]\\n\",\n",
              "  'portrait': 'https://upload.wikimedia.org/wikipedia/commons/thumb/e/e8/JQA_Photo_Crop.jpg/225px-JQA_Photo_Crop.jpg'},\n",
              " 'Andrew_Jackson': {'early_life': \"Andrew Jackson was born on March 15, 1767, in the Waxhaws region of the Carolinas. His parents were Scots-Irish colonists Andrew Jackson and Elizabeth Hutchinson, Presbyterians who had emigrated from Ulster, Ireland, in 1765.[1][2] Jackson's father was born in Carrickfergus, County Antrim, around 1738,[3] and his ancestors had crossed into Northern Ireland from Scotland after the Battle of the Boyne in 1690.[4] Jackson had two older brothers who came with his parents from Ireland, Hugh (born 1763) and Robert (born 1764).[5][4]\\n\",\n",
              "  'portrait': 'https://upload.wikimedia.org/wikipedia/commons/thumb/4/43/Andrew_jackson_head.jpg/220px-Andrew_jackson_head.jpg'},\n",
              " 'Martin_Van_Buren': {'early_life': 'Martin Van Buren was born [5] on Thursday, December 5, 1782, in Kinderhook, New York, about 20 miles (32\\xa0km) south of Albany in the Hudson River valley.\\n',\n",
              "  'portrait': 'https://upload.wikimedia.org/wikipedia/commons/thumb/1/1a/Martin_Van_Buren.jpg/220px-Martin_Van_Buren.jpg'},\n",
              " 'William_Henry_Harrison': {'early_life': 'Harrison was the seventh and youngest child of Benjamin Harrison V and Elizabeth (Bassett) Harrison. Born on February 9, 1773, at Berkeley Plantation, the home of the Harrison family of Virginia on the James River in Charles City County,[1] he would become the last American president not born as an American citizen.[2] The Harrisons were a prominent political family of English descent whose ancestors had been in Virginia since the 1630s.[3]  His father was a Virginia planter, who served as a delegate to the Continental Congress (1774–1777) and who signed the Declaration of Independence.[3] His father also served in the Virginia legislature and as the fifth governor of Virginia (1781–1784) in the years during and after the American Revolutionary War.[3] Harrison\\'s older brother Carter Bassett Harrison represented Virginia in the House of Representatives (1793–1799).[4] William Henry often referred to himself as a \"child of the revolution\", as indeed he was, having grown up in a home just 30\\xa0mi (48\\xa0km) from where Washington won the war against the British in the Battle of Yorktown.[5]\\n',\n",
              "  'portrait': 'https://upload.wikimedia.org/wikipedia/commons/thumb/3/34/William_Henry_Harrison_by_James_Reid_Lambdin%2C_1835_crop.jpg/220px-William_Henry_Harrison_by_James_Reid_Lambdin%2C_1835_crop.jpg'},\n",
              " 'John_Tyler': {'early_life': \"John Tyler was born on March 29, 1790, to a slave-owning Virginia family. Like his future running mate, William Henry Harrison, Tyler hailed from Charles City County, Virginia, and was descended from the First Families of Virginia.[2][3] The Tyler family traced its lineage to English settlers and 17th century colonial Williamsburg. His father, John Tyler Sr., commonly known as Judge Tyler, was a friend and college roommate of Thomas Jefferson and served in the Virginia House of Delegates alongside Benjamin Harrison V, William's father. The elder Tyler served four years as Speaker of the Virginia House of Delegates before becoming a state court judge and later governor of Virginia and a judge on the U.S. District Court for the Eastern District of Virginia at Richmond. His wife, Mary Marot (Armistead), was the daughter of prominent New Kent County plantation owner and one-term delegate, Robert Booth Armistead. She died of a stroke in 1797 when her son John was seven years old.[4]\\n\",\n",
              "  'portrait': 'https://upload.wikimedia.org/wikipedia/commons/thumb/a/ab/John_Tyler_%28cropped_3x4%29.png/220px-John_Tyler_%28cropped_3x4%29.png'},\n",
              " 'James_K._Polk': {'early_life': 'James Knox Polk was born on November 2, 1795, in a log cabin in Pineville, North Carolina.[2] He was the first of 10 children born into a family of farmers.[3] His mother Jane named him after her father, James Knox.[2] His father Samuel Polk was a farmer, slaveholder, and surveyor of Scots-Irish descent. The Polks had immigrated to America in the late 17th century, settling initially on the Eastern Shore of Maryland but later moving to south-central Pennsylvania and then to the Carolina hill country.[2]\\n',\n",
              "  'portrait': 'https://upload.wikimedia.org/wikipedia/commons/thumb/8/87/Polk_crop.jpg/220px-Polk_crop.jpg'},\n",
              " 'Zachary_Taylor': {'early_life': 'Zachary Taylor was born on November 24, 1784,[2] on a plantation in Orange County, Virginia, to a prominent family of planters of English ancestry. His birthplace may have been Hare Forest Farm, the home of his maternal grandfather William Strother, but this is uncertain.[3] Another possibility, one recognized by a historical marker, is Montebello, another Orange County estate.[4] He was the third of five surviving sons in his family (a sixth died in infancy) and had three younger sisters. His mother was Sarah Dabney (Strother) Taylor. His father, Richard Taylor, served as a lieutenant colonel in the American Revolution.[5][6]\\n',\n",
              "  'portrait': 'https://upload.wikimedia.org/wikipedia/commons/thumb/5/51/Zachary_Taylor_restored_and_cropped.jpg/220px-Zachary_Taylor_restored_and_cropped.jpg'},\n",
              " 'Millard_Fillmore': {'early_life': 'Millard Fillmore was born on January 7, 1800, in a log cabin, on a farm in what is now Moravia, Cayuga County, in the Finger Lakes region of New York. His parents were Phoebe Millard and Nathaniel Fillmore,[1] and he was the second of eight children and the oldest son.[2]\\n',\n",
              "  'portrait': 'https://upload.wikimedia.org/wikipedia/commons/thumb/4/43/Millard_Fillmore_Better_Crop.jpg/220px-Millard_Fillmore_Better_Crop.jpg'},\n",
              " 'Franklin_Pierce': {'early_life': \"Franklin Pierce was born on November 23, 1804, in a log cabin in Hillsborough, New Hampshire. He was a sixth-generation descendant of Thomas Pierce, who had moved to the Massachusetts Bay Colony from Norwich, Norfolk, England in about 1634. His father Benjamin was a lieutenant in the American Revolutionary War who moved from Chelmsford, Massachusetts to Hillsborough after the war, purchasing 50 acres (20\\xa0ha) of land. Pierce was the fifth of eight children born to Benjamin and his second wife Anna Kendrick; his first wife Elizabeth Andrews died in childbirth, leaving a daughter. Benjamin was a prominent Democratic-Republican[note 3] state legislator, farmer, and tavern-keeper. During Pierce's childhood, his father was deeply involved in state politics, while two of his older brothers fought in the War of 1812; public affairs and the military were thus a major influence in his early life.[6]\\n\",\n",
              "  'portrait': 'https://upload.wikimedia.org/wikipedia/commons/thumb/4/46/Mathew_Brady_-_Franklin_Pierce_-_alternate_crop.jpg/220px-Mathew_Brady_-_Franklin_Pierce_-_alternate_crop.jpg'},\n",
              " 'James_Buchanan': {'early_life': \"James Buchanan Jr. was born April 23, 1791, in a log cabin in Cove Gap, Pennsylvania, to James Buchanan Sr. (1761–1821) and Elizabeth Speer (1767–1833).[4] His parents were both of Ulster Scot descent, and his father emigrated from Ramelton, Ireland in 1783. Shortly after Buchanan's birth, the family moved to a farm near Mercersburg, Pennsylvania, and in 1794 the family moved into the town. His father became the wealthiest resident there, working as a merchant, farmer, and real estate investor.[4]\\n\",\n",
              "  'portrait': 'https://upload.wikimedia.org/wikipedia/commons/thumb/f/fd/James_Buchanan.jpg/225px-James_Buchanan.jpg'},\n",
              " 'Abraham_Lincoln': {'early_life': \"Abraham Lincoln was born on February 12, 1809, the second child of Thomas Lincoln and Nancy Hanks Lincoln, in a log cabin on Sinking Spring Farm near Hodgenville, Kentucky.[2] He was a descendant of Samuel Lincoln, an Englishman who migrated from Hingham, Norfolk, to its namesake, Hingham, Massachusetts, in 1638. The family then migrated west, passing through New Jersey, Pennsylvania, and Virginia.[3] Lincoln was also a descendant of the Harrison family of Virginia; his paternal grandfather and namesake, Captain Abraham Lincoln and wife Bathsheba (née Herring) moved the family from Virginia to Jefferson County, Kentucky.[b] The captain was killed in an Indian raid in 1786.[5] His children, including eight-year-old Thomas, Abraham's father, witnessed the attack.[6][c] Thomas then worked at odd jobs in Kentucky and Tennessee before the family settled in Hardin County, Kentucky, in the early 1800s.[6]\\n\",\n",
              "  'portrait': 'https://upload.wikimedia.org/wikipedia/commons/thumb/a/ab/Abraham_Lincoln_O-77_matte_collodion_print.jpg/220px-Abraham_Lincoln_O-77_matte_collodion_print.jpg'},\n",
              " 'Andrew_Johnson': {'early_life': 'Andrew Johnson was born in Raleigh, North Carolina, on December 29, 1808, to Jacob Johnson (1778–1812) and Mary (\"Polly\") McDonough (1783–1856), a laundress. He was of English, Scots-Irish, and Irish ancestry.[2] He had a brother William, four years his senior, and an older sister Elizabeth, who died in childhood. Johnson\\'s birth in a two-room shack was a political asset in the mid-19th century, and he would frequently remind voters of his humble origins.[3][4] Jacob Johnson was a poor man, as had been his father, William Johnson, but he became town constable of Raleigh before marrying and starting a family. Jacob Johnson had been a porter for the State Bank of North Carolina, appointed by William Polk, a relative of President James K. Polk.[5] Both Jacob and Mary were illiterate, and had worked as tavern servants, while Johnson never attended school[4] and grew up in poverty.[4] Jacob died of an apparent heart attack while ringing the town bell, shortly after rescuing three drowning men, when his son Andrew was three.[6] Polly Johnson worked as a washerwoman and became the sole support of her family. Her occupation was then looked down on, as it often took her into other homes unaccompanied. Since Andrew did not resemble either of his siblings, there are rumors that he may have been fathered by another man. Polly Johnson eventually remarried to a man named Turner Doughtry, who was as poor as she was.[7]\\n',\n",
              "  'portrait': 'https://upload.wikimedia.org/wikipedia/commons/thumb/e/e6/Andrew_Johnson_photo_portrait_head_and_shoulders%2C_c1870-1880-Edit1.jpg/220px-Andrew_Johnson_photo_portrait_head_and_shoulders%2C_c1870-1880-Edit1.jpg'},\n",
              " 'Ulysses_S._Grant': {'early_life': \"Grant's ancestors Matthew and Priscilla Grant arrived aboard the ship Mary and John at Massachusetts Bay Colony in 1630.[5] Grant's great-grandfather fought in the French and Indian War, and his grandfather, Noah, served in the American Revolution at Bunker Hill.[6] Afterward, Noah settled in Pennsylvania and married Rachel Kelley, who was of Irish descent.[7] Their son Jesse Root Grant grew up to be a Whig Party supporter and a fervent abolitionist.[8]\\n\",\n",
              "  'portrait': 'https://upload.wikimedia.org/wikipedia/commons/thumb/5/5c/Ulysses_S._Grant_1870-1880.jpg/220px-Ulysses_S._Grant_1870-1880.jpg'},\n",
              " 'Rutherford_B._Hayes': {'early_life': \"Rutherford Birchard Hayes was born in Delaware, Ohio, on October 4, 1822, to Rutherford Hayes, Jr. and Sophia Birchard. Hayes's father, a Vermont storekeeper, had taken the family to Ohio in 1817. He died ten weeks before Rutherford's birth. Sophia took charge of the family, raising Hayes and his sister, Fanny, the only two of the four children to survive to adulthood.[8] She never remarried,[9] and Sophia's younger brother, Sardis Birchard, lived with the family for a time.[10] He was always close to Hayes and became a father figure to him, contributing to his early education.[11]\\n\",\n",
              "  'portrait': 'https://upload.wikimedia.org/wikipedia/commons/thumb/5/50/President_Rutherford_Hayes_1870_-_1880_Restored.jpg/220px-President_Rutherford_Hayes_1870_-_1880_Restored.jpg'},\n",
              " 'James_A._Garfield': {'early_life': \"James Abram Garfield was born the youngest of five children on November 19, 1831, in a log cabin in Orange Township, now Moreland Hills, Ohio.[a] Garfield's ancestor Edward Garfield migrated from Hillmorton, Warwickshire, England, to Massachusetts around 1630. James's father Abram was born in Worcester, New York, and came to Ohio to woo his childhood sweetheart, Mehitabel Ballou, only to find her married. He instead wed her sister Eliza, who was born in New Hampshire. James was named after an earlier son of Eliza and Abram who had died in infancy.[2]\\n\",\n",
              "  'portrait': 'https://upload.wikimedia.org/wikipedia/commons/thumb/1/1f/James_Abram_Garfield%2C_photo_portrait_seated.jpg/220px-James_Abram_Garfield%2C_photo_portrait_seated.jpg'},\n",
              " 'Chester_A._Arthur': {'early_life': \"Chester Alan Arthur was born in Fairfield, Vermont.[10] Arthur's mother, Malvina Stone was born in Berkshire, Vermont, the daughter of George Washington Stone and Judith Stevens.[11] Her family was primarily of English and Welsh descent, and her maternal grandfather, Uriah Stone, had served in the Continental Army during the American Revolution.[10]\\n\",\n",
              "  'portrait': 'https://upload.wikimedia.org/wikipedia/commons/thumb/7/79/Chester_Alan_Arthur.jpg/220px-Chester_Alan_Arthur.jpg'},\n",
              " 'Grover_Cleveland': {'early_life': \"Stephen Grover Cleveland was born on March 18, 1837, in Caldwell, New Jersey, to Ann (née Neal) and Richard Falley Cleveland.[13] Cleveland's father was a Congregational and Presbyterian minister who was originally from Connecticut.[14] His mother was from Baltimore and was the daughter of a bookseller.[15] On his father's side, Cleveland was descended from English ancestors, the first of the family having emigrated to Massachusetts from Cleveland, England, in 1635.[16] His father's maternal grandfather, Richard Falley Jr., fought at the Battle of Bunker Hill, and was the son of an immigrant from Guernsey. On his mother's side, Cleveland was descended from Anglo-Irish Protestants and German Quakers from Philadelphia.[17] Cleveland was distantly related to General Moses Cleaveland, after whom the city of Cleveland, Ohio, was named.[18]\\n\",\n",
              "  'portrait': 'https://upload.wikimedia.org/wikipedia/commons/thumb/f/f3/Grover_Cleveland_-_NARA_-_518139_%28cropped%29.jpg/220px-Grover_Cleveland_-_NARA_-_518139_%28cropped%29.jpg'},\n",
              " 'Benjamin_Harrison': {'early_life': None,\n",
              "  'portrait': 'https://upload.wikimedia.org/wikipedia/commons/thumb/f/f8/Benjamin_Harrison%2C_head_and_shoulders_bw_photo%2C_1896.jpg/220px-Benjamin_Harrison%2C_head_and_shoulders_bw_photo%2C_1896.jpg'},\n",
              " 'William_McKinley': {'early_life': 'William McKinley Jr. was born in 1843 in Niles, Ohio, the seventh of nine children of William McKinley Sr. and Nancy (née Allison) McKinley.[1] The McKinleys were of English and Scots-Irish descent and had settled in western Pennsylvania in the 18th century. Their immigrant ancestor was David McKinley, born in Dervock, County Antrim, in present-day Northern Ireland. William McKinley Sr. was born in Pennsylvania, in Pine Township, Mercer County.[1]\\n',\n",
              "  'portrait': 'https://upload.wikimedia.org/wikipedia/commons/thumb/3/30/McKinley_%28cropped%29.jpg/220px-McKinley_%28cropped%29.jpg'},\n",
              " 'Theodore_Roosevelt': {'early_life': 'Theodore Roosevelt Jr. was born on October 27, 1858, at 28 East 20th Street in Manhattan, New York City.[5] He was the second of four children born to socialite Martha Stewart Bulloch and businessman and philanthropist Theodore Roosevelt Sr. He had an older sister (Anna), a younger brother (Elliott) and a younger sister (Corinne).[6] Elliott was later the father of Anna Eleanor Roosevelt who married Theodore\\'s distant cousin, Franklin Delano Roosevelt. His paternal grandfather was of Dutch descent;[7] his other ancestry included primarily Scottish and Scots-Irish, English[8] and smaller amounts of German, Welsh, and French.[9] Theodore Sr. was the fifth son of businessman Cornelius Van Schaack \"C.\\xa0V.\\xa0S.\" Roosevelt and Margaret Barnhill as well as a brother of Robert Roosevelt and James A. Roosevelt. Theodore\\'s fourth cousin, James Roosevelt I, who was also a businessman, was the father of President Franklin Delano Roosevelt. Martha was the younger daughter of Major James Stephens Bulloch and Martha P. \"Patsy\" Stewart.[10] Through the Van Schaacks, Roosevelt was a descendant of the Schuyler family.[11]\\n',\n",
              "  'portrait': 'https://upload.wikimedia.org/wikipedia/commons/thumb/6/64/President_Roosevelt_-_Pach_Bros_%28cropped%29.jpg/220px-President_Roosevelt_-_Pach_Bros_%28cropped%29.jpg'},\n",
              " 'William_Howard_Taft': {'early_life': 'William Howard Taft was born September 15, 1857, in Cincinnati, Ohio, to Alphonso Taft and Louise Torrey.[2] The Taft family was not wealthy, living in a modest home in the suburb of Mount Auburn. Alphonso served as a judge and an ambassador, and was U.S. Secretary of War and Attorney General under President Ulysses S. Grant.[3]\\n',\n",
              "  'portrait': 'https://upload.wikimedia.org/wikipedia/commons/thumb/3/39/William_Howard_Taft%2C_head-and-shoulders_portrait%2C_facing_front.jpg/220px-William_Howard_Taft%2C_head-and-shoulders_portrait%2C_facing_front.jpg'},\n",
              " 'Woodrow_Wilson': {'early_life': \"Thomas Woodrow Wilson was born to a family of Scots-Irish and Scottish descent in Staunton, Virginia.[1] He was the third of four children and the first son of Joseph Ruggles Wilson and Jessie Janet Woodrow. Wilson's paternal grandparents had immigrated to the United States from Strabane, County Tyrone, Ireland, in 1807, and settled in Steubenville, Ohio. Wilson's paternal grandfather James Wilson published a pro-tariff and anti-slavery newspaper, The Western Herald and Gazette.[2] Wilson's maternal grandfather, Reverend Thomas Woodrow, moved from Paisley, Renfrewshire, Scotland, to Carlisle, Cumbria, England, before migrating to Chillicothe, Ohio, in the late 1830s.[3] Joseph met Jessie while she was attending a girl's academy in Steubenville, and the two married on June 7, 1849. Soon after the wedding, Joseph was ordained as a Presbyterian pastor and assigned to serve in Staunton.[4] His son Woodrow was born in the Manse, a house in the Staunton First Presbyterian Church where Joseph served. Before he was two years old, the family moved to Augusta, Georgia.[5]\\n\",\n",
              "  'portrait': 'https://upload.wikimedia.org/wikipedia/commons/thumb/f/f2/Thomas_Woodrow_Wilson%2C_Harris_%26_Ewing_bw_photo_portrait%2C_1919_%28cropped%29.jpg/220px-Thomas_Woodrow_Wilson%2C_Harris_%26_Ewing_bw_photo_portrait%2C_1919_%28cropped%29.jpg'},\n",
              " 'Warren_G._Harding': {'early_life': 'Warren Harding was born on November 2, 1865, in Blooming Grove, Ohio.[1] Nicknamed \"Winnie\" as a small child, he was the eldest of eight children born to George Tryon Harding (1843–1928; usually known as Tryon) and Phoebe Elizabeth (née Dickerson) Harding (1843–1910).[1] Phoebe was a state-licensed midwife. Tryon farmed and taught school near Mount Gilead. Through apprenticeship, study and a year of medical school, Tryon became a doctor and started a small practice.[2] Some of Harding\\'s mother\\'s ancestors were Dutch, including the wealthy Van Kirk family.[3] Harding also had ancestors from England, Wales and Scotland.[4]\\n',\n",
              "  'portrait': 'https://upload.wikimedia.org/wikipedia/commons/thumb/c/c4/Warren_G_Harding-Harris_%26_Ewing.jpg/220px-Warren_G_Harding-Harris_%26_Ewing.jpg'},\n",
              " 'Calvin_Coolidge': {'early_life': 'John Calvin Coolidge Jr. was born on July 4, 1872, in Plymouth Notch, Vermont—the only U.S. president to be born on Independence Day. He was the elder of the two children of John Calvin Coolidge Sr. (1845–1926) and Victoria Josephine Moor (1846–1885). Although named for his father, from early childhood Coolidge was addressed by his middle name. The name Calvin was used in multiple generations of the Coolidge family, apparently selected in honor of John Calvin, the Protestant Reformer.[8]\\n',\n",
              "  'portrait': 'https://upload.wikimedia.org/wikipedia/commons/thumb/a/a3/Calvin_Coolidge_cph.3g10777_%28cropped%29.jpg/220px-Calvin_Coolidge_cph.3g10777_%28cropped%29.jpg'},\n",
              " 'Herbert_Hoover': {'early_life': 'Herbert Clark Hoover was born on August 10, 1874, in West Branch, Iowa.[a] His father, Jesse Hoover, was a blacksmith and farm implement store owner of German, Swiss, and English ancestry.[4] Hoover\\'s mother, Hulda Randall Minthorn, was raised in Norwich, Ontario, Canada, before moving to Iowa in 1859. Like most other citizens of West Branch, Jesse and Hulda were Quakers.[5] Around age two \"Bertie\", as he was called during that time, contracted a serious bout of croup, and was momentarily thought to have died until resuscitated by his uncle, John Minthorn.[6] As a young child he was often referred to by his father as \"my little stick in the mud\" when he repeatedly got trapped in the mud crossing the unpaved street.[7] Herbert\\'s family figured prominently in the town\\'s public prayer life, due almost entirely to mother Hulda\\'s role in the church.[8] As a child, Hoover consistently attended schools, but he did little reading on his own aside from the Bible.[9] Hoover\\'s father, noted by the local paper for his \"pleasant, sunshiny disposition\", died in 1880 at the age of 34 of a sudden heart attack.[10] Hoover\\'s mother died in 1884 of typhoid, leaving Hoover, his older brother, Theodore, and his younger sister, May, as orphans.[11] Hoover lived the next 18 months with his uncle Allen Hoover at a nearby farm.[12][13]\\n',\n",
              "  'portrait': 'https://upload.wikimedia.org/wikipedia/commons/thumb/5/57/President_Hoover_portrait.jpg/220px-President_Hoover_portrait.jpg'},\n",
              " 'Franklin_D._Roosevelt': {'early_life': 'Franklin Delano Roosevelt was born on January 30, 1882, in the Hudson Valley town of Hyde Park, New York, to businessman James Roosevelt I and his second wife, Sara Ann Delano. His parents, who were sixth cousins,[2] both came from wealthy, established New York families, the Roosevelts, the Aspinwalls and the Delanos, respectively. Roosevelt\\'s paternal ancestor migrated to New Amsterdam in the 17th century, and the Roosevelts succeeded as merchants and landowners.[3] The Delano family patriarch, Philip Delano, traveled to the New World on the Fortune in 1621, and the Delanos thrived as merchants and shipbuilders in Massachusetts.[4] Franklin had a half-brother, James Roosevelt \"Rosy\" Roosevelt, from his father\\'s previous marriage.[5]\\n',\n",
              "  'portrait': 'https://upload.wikimedia.org/wikipedia/commons/thumb/4/42/FDR_1944_Color_Portrait.jpg/220px-FDR_1944_Color_Portrait.jpg'},\n",
              " 'Harry_S._Truman': {'early_life': 'Truman was born in Lamar, Missouri, on May 8, 1884, the oldest child of John Anderson Truman and Martha Ellen Young Truman. He was named for his maternal uncle, Harrison \"Harry\" Young. His middle initial, \"S\", is not an abbreviation of one particular name. Rather, it honors both his grandfathers, Anderson Shipp Truman and Solomon Young, a somewhat common practice in the American South.[8][b] A brother, John Vivian, was born soon after Harry, followed by sister Mary Jane.[9] Truman\\'s ancestry is primarily English with some Scots-Irish, German, and French.[10][11]\\n',\n",
              "  'portrait': 'https://upload.wikimedia.org/wikipedia/commons/thumb/0/0b/TRUMAN_58-766-06_%28cropped%29.jpg/220px-TRUMAN_58-766-06_%28cropped%29.jpg'},\n",
              " 'Dwight_D._Eisenhower': {'early_life': 'Eisenhower was born David Dwight Eisenhower in Denison, Texas, on October 14, 1890, the third of seven sons born to Ida Stover and David J. Eisenhower.[10] His mother soon reversed his two forenames after his birth to avoid the confusion of having two Davids in the family.[11]  He was named Dwight after the famous evangelist Dwight L. Moody.[12] All of the boys were nicknamed \"Ike\", such as \"Big Ike\" (Edgar) and \"Little Ike\" (Dwight); the nickname was intended as an abbreviation of their last name.[13] By World War II, only Dwight was still called \"Ike\".[3]\\n',\n",
              "  'portrait': 'https://upload.wikimedia.org/wikipedia/commons/thumb/6/63/Dwight_D._Eisenhower%2C_official_photo_portrait%2C_May_29%2C_1959.jpg/220px-Dwight_D._Eisenhower%2C_official_photo_portrait%2C_May_29%2C_1959.jpg'},\n",
              " 'John_F._Kennedy': {'early_life': \"John Fitzgerald Kennedy was born outside Boston in Brookline, Massachusetts, on May 29, 1917, at 83 Beals Street,[3] to Joseph P. Kennedy Sr., a businessman and politician, and Rose Kennedy (née Fitzgerald), a philanthropist and socialite.[3] His paternal grandfather, P. J. Kennedy, served as a Massachusetts state legislator. Kennedy's maternal grandfather and namesake, John F. Fitzgerald, served as a U.S. Congressman and was elected to two terms as Mayor of Boston. All four of his grandparents were children of Irish immigrants.[1] Kennedy had an older brother, Joseph Jr., and seven younger siblings: Rosemary, Kathleen, Eunice, Patricia, Robert, Jean, and Edward.\\n\",\n",
              "  'portrait': 'https://upload.wikimedia.org/wikipedia/commons/thumb/c/c3/John_F._Kennedy%2C_White_House_color_photo_portrait.jpg/220px-John_F._Kennedy%2C_White_House_color_photo_portrait.jpg'},\n",
              " 'Lyndon_B._Johnson': {'early_life': \"Lyndon Baines Johnson was born on August 27, 1908, near Stonewall, Texas, in a small farmhouse on the Pedernales River.[12] He was the eldest of five children born to Samuel Ealy Johnson Jr. and Rebekah Baines.[13][14] Johnson had one brother, Sam Houston Johnson, and three sisters, Rebekah, Josefa, and Lucia.[15] The nearby small town of Johnson City, Texas was named after his father's cousin, James Polk Johnson,[16][17] whose forebears had moved west from Georgia.[18] Johnson had English-Irish, German, and Ulster Scots ancestry.[19] Through his mother, he was a great-grandson of pioneer Baptist clergyman George Washington Baines.[20]\\n\",\n",
              "  'portrait': 'https://upload.wikimedia.org/wikipedia/commons/thumb/c/c3/37_Lyndon_Johnson_3x4.jpg/220px-37_Lyndon_Johnson_3x4.jpg'},\n",
              " 'Richard_Nixon': {'early_life': \"Richard Milhous Nixon was born on January 9, 1913, in what was then the township precinct of Yorba Linda, California,[5] in a house built by his father, located on his family's lemon ranch.[1][6][7] His parents were Hannah (Milhous) Nixon and Francis A. Nixon. His mother was a Quaker, and his father converted from Methodism to the Quaker faith. Through his mother, Nixon was a descendant of the early English settler Thomas Cornell, who was also an ancestor of Ezra Cornell, the founder of Cornell University, as well as of Jimmy Carter and Bill Gates.[8]\\n\",\n",
              "  'portrait': 'https://upload.wikimedia.org/wikipedia/commons/thumb/2/2c/Richard_Nixon_presidential_portrait_%281%29.jpg/220px-Richard_Nixon_presidential_portrait_%281%29.jpg'},\n",
              " 'Gerald_Ford': {'early_life': \"Ford was born Leslie Lynch King Jr. on July 14, 1913, at 3202 Woolworth Avenue in Omaha, Nebraska, where his parents lived with his paternal grandparents. He was the only child of Dorothy Ayer Gardner and Leslie Lynch King Sr., a wool trader. His father was a son of prominent banker Charles Henry King and Martha Alicia King (née Porter). Gardner separated from King just sixteen days after her son's birth. She took her son with her to Oak Park, Illinois, home of her sister Tannisse and brother-in-law, Clarence Haskins James. From there, she moved to the home of her parents, Levi Addison Gardner and Adele Augusta Ayer, in Grand Rapids, Michigan. Gardner and King divorced in December 1913, and she gained full custody of her son. Ford's paternal grandfather Charles Henry King paid child support until shortly before his death in 1930.[9]\\n\",\n",
              "  'portrait': 'https://upload.wikimedia.org/wikipedia/commons/thumb/3/36/Gerald_Ford_presidential_portrait_%28cropped%29.jpg/220px-Gerald_Ford_presidential_portrait_%28cropped%29.jpg'},\n",
              " 'Jimmy_Carter': {'early_life': \"James Earl Carter Jr. was born October 1, 1924, in Plains, Georgia, at the Wise Sanitarium, where his mother worked as a registered nurse.[1] Carter thus became the first American president born in a hospital.[2] He was the eldest son of Bessie Lillian Gordy and James Earl Carter Sr.[3]:\\u200a70\\u200a Carter is a descendant of English immigrant Thomas Carter, who settled in the Colony of Virginia in 1635.[4] Numerous generations of Carters lived as cotton farmers in Georgia.[5] Plains was a boomtown of 600 people at the time of Carter's birth. His father was a successful local businessman, who ran a general store and was an investor in farmland.[6] Carter's father had previously served as a reserve second lieutenant in the U.S. Army Quartermaster Corps during World War I.[6]\\n\",\n",
              "  'portrait': 'https://upload.wikimedia.org/wikipedia/commons/thumb/5/5a/JimmyCarterPortrait2.jpg/220px-JimmyCarterPortrait2.jpg'},\n",
              " 'Ronald_Reagan': {'early_life': 'Ronald Wilson Reagan was born on February 6, 1911, in a commercial building in Tampico, Illinois, as the younger son of Nelle Clyde Wilson and Jack Reagan.[9] Nelle was committed to the Disciples of Christ,[10] which believed in the Social Gospel.[11] She led prayer meetings and ran mid-week prayers at her church when the pastor was out of town.[10] Reagan credited her spiritual influence[12] and he became a Christian.[13] According to Stephen Vaughn, Reagan\\'s values came from his pastor, and the First Christian Church\\'s religious, economic and social positions \"coincided with the words, if not the beliefs of the latter-day Reagan\".[14] Jack focused on making money to take care of the family,[9] but this was complicated by his alcoholism.[15] Neil Reagan was Reagan\\'s older brother.[16] Together, they lived in Chicago, Galesburg, and Monmouth before returning to Tampico. In 1920, they settled in Dixon, Illinois,[17] living in a house near the H. C. Pitney Variety Store Building.[18]\\n',\n",
              "  'portrait': 'https://upload.wikimedia.org/wikipedia/commons/thumb/1/16/Official_Portrait_of_President_Reagan_1981.jpg/220px-Official_Portrait_of_President_Reagan_1981.jpg'},\n",
              " 'George_H._W._Bush': {'early_life': 'George Herbert Walker Bush was born on June 12, 1924, in Milton, Massachusetts.[4] He was the second son of Prescott Bush and Dorothy (Walker) Bush,[5] and a younger brother of Prescott Bush Jr. His paternal grandfather, Samuel P. Bush, worked as an executive for a railroad parts company in Columbus, Ohio,[6] while his maternal grandfather and namesake, George Herbert Walker, led Wall Street investment bank W. A. Harriman & Co.[7] Walker was known as \"Pop\", and young Bush was called \"Poppy\" as a tribute to him.[8]\\n',\n",
              "  'portrait': 'https://upload.wikimedia.org/wikipedia/commons/thumb/e/ee/George_H._W._Bush_presidential_portrait_%28cropped%29.jpg/220px-George_H._W._Bush_presidential_portrait_%28cropped%29.jpg'},\n",
              " 'Bill_Clinton': {'early_life': \"Clinton was born William Jefferson Blythe III on August 19, 1946, at Julia Chester Hospital in Hope, Arkansas.[2] He is the son of William Jefferson Blythe Jr., a traveling salesman who died in an automobile accident three months before his birth, and Virginia Dell Cassidy (later Virginia Kelley).[3] His parents had married on September 4, 1943, but this union later proved to be bigamous, as Blythe was still married to his fourth wife.[4] Virginia traveled to New Orleans to study nursing soon after Bill was born, leaving him in Hope with her parents Eldridge and Edith Cassidy, who owned and ran a small grocery store.[5] At a time when the southern United States was racially segregated, Clinton's grandparents sold goods on credit to people of all races.[5][6][7][8][9] In 1950, Bill's mother returned from nursing school and married Roger Clinton Sr., who co-owned an automobile dealership in Hot Springs, Arkansas, with his brother and Earl T. Ricks.[5] The family moved to Hot Springs in 1950.[10]\\n\",\n",
              "  'portrait': 'https://upload.wikimedia.org/wikipedia/commons/thumb/d/d3/Bill_Clinton.jpg/220px-Bill_Clinton.jpg'},\n",
              " 'George_W._Bush': {'early_life': \"George Walker Bush was born on July 6, 1946, at Grace-New Haven Hospital in New Haven, Connecticut.[1] He was the first child of George Herbert Walker Bush and Barbara Pierce. He was raised in Midland and Houston, Texas, with four siblings: Jeb, Neil, Marvin and Dorothy. Another younger sister, Robin, died from leukemia at the age of three in 1953.[2] His paternal grandfather, Prescott Bush, was a U.S. senator from Connecticut.[3] His father was Ronald Reagan's vice president from 1981 to 1989 and the 41st U.S. president from 1989 to 1993. Bush has English and German ancestry, along with more distant Dutch, Welsh, Irish, French, and Scottish roots.[4][improper synthesis?]\\n\",\n",
              "  'portrait': 'https://upload.wikimedia.org/wikipedia/commons/thumb/d/d4/George-W-Bush.jpeg/220px-George-W-Bush.jpeg'},\n",
              " 'Barack_Obama': {'early_life': \"Obama was born on August 4, 1961,[5] at Kapiolani Medical Center for Women and Children in Honolulu, Hawaii.[6][7][8][9] He is the only president born outside the contiguous 48 states.[10] He was born to an American mother and a Kenyan father. His mother, Ann Dunham (1942–1995), was born in Wichita, Kansas and was of English, Welsh, German, Swiss, and Irish descent. In 2007 it was discovered her great-great-grandfather Falmouth Kearney emigrated from the village of Moneygall, Ireland to the US in 1850.[11] In July 2012, Ancestry.com found a strong likelihood that Dunham was descended from John Punch, an enslaved African man who lived in the Colony of Virginia during the seventeenth century.[12][13] Obama's father, Barack Obama Sr. (1934–1982),[14][15] was a married[16][17][18] Luo Kenyan from Nyang'oma Kogelo.[16][19] His last name, Obama, was derived from his Luo descent.[20] Obama's parents met in 1960 in a Russian language class at the University of Hawaiʻi at Mānoa, where his father was a foreign student on a scholarship.[21][22] The couple married in Wailuku, Hawaii, on February 2, 1961, six months before Obama was born.[23][24]\\n\",\n",
              "  'portrait': 'https://upload.wikimedia.org/wikipedia/commons/thumb/8/8d/President_Barack_Obama.jpg/220px-President_Barack_Obama.jpg'},\n",
              " 'Donald_Trump': {'early_life': \"Donald John Trump was born on June 14, 1946, at Jamaica Hospital in Queens, New York City,[3] the fourth child of Fred Trump, a Bronx-born real estate developer whose parents were German immigrants, and Mary Anne MacLeod Trump, an immigrant from Scotland. Trump grew up with older siblings Maryanne, Fred Jr., and Elizabeth and younger brother Robert in the Jamaica Estates neighborhood of Queens, and attended the private Kew-Forest School from kindergarten through seventh grade.[4][5][6] At age 13, he was enrolled at the New York Military Academy, a private boarding school,[7] and, in 1964, he enrolled at Fordham University. Two years later, he transferred to the Wharton School of the University of Pennsylvania, graduating in May 1968 with a Bachelor of Science in economics.[8][9] In 2015, Trump's lawyer Michael Cohen threatened Trump's colleges, high school, and the College Board with legal action if they released Trump's academic records.[10]\\n\",\n",
              "  'portrait': 'https://upload.wikimedia.org/wikipedia/commons/thumb/5/56/Donald_Trump_official_portrait.jpg/220px-Donald_Trump_official_portrait.jpg'},\n",
              " 'Joe_Biden': {'early_life': 'Joseph Robinette Biden Jr. was born on November 20, 1942,[2] at St. Mary\\'s Hospital in Scranton, Pennsylvania,[3] to Catherine Eugenia \"Jean\" Biden (née Finnegan) and Joseph Robinette Biden Sr.[4][5] The oldest child in a Catholic family of largely Irish descent, he has a sister, Valerie, and two brothers, Francis and James.[6]\\n',\n",
              "  'portrait': 'https://upload.wikimedia.org/wikipedia/commons/thumb/6/68/Joe_Biden_presidential_portrait.jpg/220px-Joe_Biden_presidential_portrait.jpg'}}"
            ]
          },
          "metadata": {},
          "execution_count": 15
        }
      ]
    }
  ]
}