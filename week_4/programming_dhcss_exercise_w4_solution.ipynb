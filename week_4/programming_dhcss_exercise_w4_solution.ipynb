{
  "nbformat": 4,
  "nbformat_minor": 0,
  "metadata": {
    "colab": {
      "provenance": []
    },
    "kernelspec": {
      "name": "python3",
      "display_name": "Python 3"
    },
    "language_info": {
      "name": "python"
    }
  },
  "cells": [
    {
      "cell_type": "markdown",
      "source": [
        "Programming for DHCSS Exercises: Week 4. Functions, Modules, Exceptions"
      ],
      "metadata": {
        "id": "x4jpcIgJ_gwv"
      }
    },
    {
      "cell_type": "code",
      "source": [
        "### Problem 1 ###\n",
        "\n",
        "### Problem 1a: write a function to print the power of a number.\n",
        "\n",
        "def num_power(i):\n",
        "  i_power = i ** 2\n",
        "  return i_power\n",
        "\n",
        "print(num_power(3))\n",
        "\n",
        "### Problem 1b: write the same function that prints out error for an erroneous input (e.g., a string as input)\n",
        "\n",
        "def num_power_err(i):\n",
        "  try:\n",
        "    i_power = i ** 2\n",
        "    return i_power\n",
        "  except Exception as e:\n",
        "    return e\n",
        "\n",
        "print(num_power_err('aa'))\n",
        "\n",
        "### Problem 1c: write a function to print a list of all the powers of a number \"x\", up to and including \"y\"th power (from 0th power)\n",
        "### E.g., for x = 2 and y = 3, the function should print the follwing: [1, 2, 4, 8]\n",
        "\n",
        "def num_power_multi(x, y):\n",
        "    \"\"\"\n",
        "    print x raised to y, for numbers in range 0 to y, inclusive\n",
        "    \"\"\"\n",
        "    exponent = 0\n",
        "    until = y\n",
        "    l_power = []\n",
        "    while exponent <= until:\n",
        "      l_power.append(x ** exponent)\n",
        "      exponent += 1\n",
        "    return l_power"
      ],
      "metadata": {
        "id": "Dtbz7lWVckqL",
        "colab": {
          "base_uri": "https://localhost:8080/"
        },
        "outputId": "49262623-d6b9-4ecf-ec39-a4709336db9e"
      },
      "execution_count": null,
      "outputs": [
        {
          "output_type": "stream",
          "name": "stdout",
          "text": [
            "9\n",
            "unsupported operand type(s) for ** or pow(): 'str' and 'int'\n"
          ]
        }
      ]
    },
    {
      "cell_type": "code",
      "source": [
        "### Problem 2 ###\n",
        "\n",
        "### Here is some data on the results of tennis matches.\n",
        "\n",
        "### For instance, the first item indicates that Federer beat Rafael Nadal by winning 6 games (Nadal winning 4).\n",
        "\n",
        "matches = [\n",
        "    (\"Roger Federer\", \"Rafael Nadal\", 6, 4),\n",
        "    (\"Serena Williams\", \"Maria Sharapova\", 4, 6),\n",
        "    (\"Andy Murray\", \"Novak Djokovic\", 6, 6),\n",
        "    (\"Venus Williams\", \"Naomi Osaka\", 5, 7),\n",
        "    (\"Dominic Thiem\", \"Alexander Zverev\", 4, 6),\n",
        "    (\"Stan Wawrinka\", \"Grigor Dimitrov\", 6, 5),\n",
        "    (\"Simona Halep\", \"Karolina Pliskova\", 6, 3),\n",
        "    (\"Angelique Kerber\", \"Sloane Stephens\", 5, 5)\n",
        "]\n",
        "\n",
        "### Problem 2a: define a function accepts a pair of players and their respecctive acores in a match and prints a match result in the following format: \"Federer beat Nadal by 2 games.\"\n",
        "### You can start with the following code: def match_summary(player1, player2, score1, score2):\n",
        "### If the match ended in a tie, just pint \"tie\".\n",
        "### Hint: the abs() function returns the absolute value of a given number (abs(-2) -> 2).\n",
        "\n",
        "def match_summary(player1, player2, score1, score2):\n",
        "\n",
        "  # get last name\n",
        "  ln_player1 = player1.split()[-1]\n",
        "  ln_player2 = player2.split()[-1]\n",
        "\n",
        "  # get the margin\n",
        "  margin = abs(score1 - score2)\n",
        "\n",
        "  # print conditionally\n",
        "  if score1 > score2:\n",
        "    print(f\"{ln_player1} beat {ln_player2} by {margin} games.\")\n",
        "  elif score2 > score1:\n",
        "    print(f\"{ln_player2} beat {ln_player1} by {margin} games.\")\n",
        "  else:\n",
        "    print(\"tie\")\n",
        "\n",
        "### Problem 2b: use the function in a for loop and pass the list (the \"matches\" list).\n",
        "\n",
        "for p1, p2, s1, s2 in matches:\n",
        "    match_summary(p1, p2, s1, s2)"
      ],
      "metadata": {
        "colab": {
          "base_uri": "https://localhost:8080/"
        },
        "id": "aDrxuCDRsi9x",
        "outputId": "3fc587bf-6042-40cc-be02-39528ca51c0a"
      },
      "execution_count": null,
      "outputs": [
        {
          "output_type": "stream",
          "name": "stdout",
          "text": [
            "Federer beat Nadal by 2 games.\n",
            "Sharapova beat Williams by 2 games.\n",
            "tie\n",
            "Osaka beat Williams by 2 games.\n",
            "Zverev beat Thiem by 2 games.\n",
            "Wawrinka beat Dimitrov by 1 games.\n",
            "Halep beat Pliskova by 3 games.\n",
            "tie\n"
          ]
        }
      ]
    },
    {
      "cell_type": "code",
      "source": [
        "### Problem 3 ###\n",
        "\n",
        "### First, create the following two lists. One is for novel titles, and the other is for reviews.\n",
        "\n",
        "titles = [\n",
        "    \"Dune by Frank Herbert\",\n",
        "    \"Neuromancer by William Gibson\",\n",
        "    \"Foundation by Isaac Asimov\",\n",
        "    \"Brave New World by Aldous Huxley\",\n",
        "    \"The Left Hand of Darkness by Ursula K. Le Guin\",\n",
        "    \"Snow Crash by Neal Stephenson\",\n",
        "    \"The Stars My Destination by Alfred Bester\",\n",
        "    \"Hyperion by Dan Simmons\",\n",
        "    \"The Moon is a Harsh Mistress by Robert A. Heinlein\",\n",
        "    \"A Canticle for Leibowitz by Walter M. Miller Jr.\",\n",
        "    \"The Windup Girl by Paolo Bacigalupi\",\n",
        "    \"Altered Carbon by Richard K. Morgan\",\n",
        "    \"The Three-Body Problem by Liu Cixin\",\n",
        "    \"Red Mars by Kim Stanley Robinson\",\n",
        "    \"The Space Merchants by Frederik Pohl and C.M. Kornbluth\"\n",
        "]\n",
        "\n",
        "reviews = [\n",
        "    \"Dune is an absolute masterpiece. Loved every bit of it.\",\n",
        "    \"Neuromancer was a bit hard to get into, but a classic!\",\n",
        "    None,\n",
        "    \"Brave New World presents a startling view of the future which on the surface appears almost comical.\",\n",
        "    \"Le Guin's masterpiece manages to transcend both space and gender.\",\n",
        "    \"Snow Crash is a mind-altering romp through a future America.\",\n",
        "    \"A roller-coaster ride of a story. Bester's prose is powerful.\",\n",
        "    342,\n",
        "    \"Heinlein's tale is both a tribute to the resilience of the human spirit and a harsh criticism of societal structures.\",\n",
        "    \"A Canticle for Leibowitz is a gripping tale of the cyclical nature of history.\",\n",
        "    \"Bacigalupi's vision of a future Thailand is both captivating and horrifying.\",\n",
        "    \"Altered Carbon blends cyberpunk and detective genres in a thrilling way.\",\n",
        "    \"Liu Cixin presents a first-contact story with a unique twist. Thought-provoking.\",\n",
        "    \"Red Mars is a detailed and realistic portrayal of the colonization of Mars.\",\n",
        "    \"The Space Merchants satirizes consumerism and advertising in a future overpopulated world.\"\n",
        "]\n",
        "\n",
        "### Problem 3a: write a function that, given a novel title from our list, extracts and returns the author(s).\n",
        "### Hint: use the string method \"split()\".\n",
        "\n",
        "def extract_authors(title):\n",
        "\n",
        "    # split by 'by ' and take the last part, which should contain the author name(s)\n",
        "    authors_part = title.split(' by ')[-1]\n",
        "\n",
        "    # split by ' and ' to get a list of authors (will work even if there's just one author)\n",
        "    authors = authors_part.split(' and ')\n",
        "\n",
        "    return authors\n",
        "\n",
        "\n",
        "### Problem 3b: use the function to create a nested list that contains sub-lists of author(s) from each book.\n",
        "\n",
        "l_authors = [extract_authors(title) for title in titles]\n",
        "\n",
        "\n",
        "### Problem 3c: define a function that counts the number of words in a review (record np.nan for cases where counting is not available). Use a if-else statement inside the function.\n",
        "### Hint I: NumPy's nan is a special constant in the NumPy library in Python that represents \"Not a Number.\" It is often used to denote missing values or undefined operations.\n",
        "### Hint II: Use the \"isinstance\" function, a built-in function in Python. It is used to check if an object is an instance of a particular class.\n",
        "\n",
        "import numpy as np # import numpy as np\n",
        "print(np.nan) # this is np.nan\n",
        "\n",
        "print(isinstance(3, int)) # is 3 an interger?\n",
        "print(isinstance('abc', str)) # is 'abc' a string?\n",
        "\n",
        "def count_words_in_review(review):\n",
        "\n",
        "    if isinstance(review, str):\n",
        "      return len(review.split())\n",
        "\n",
        "    else:\n",
        "      return np.nan\n",
        "\n",
        "\n",
        "### Problem 3d: do the same as Problem 3c, but this time, use a try-except statement.\n",
        "\n",
        "def count_words_in_review2(review):\n",
        "\n",
        "    try:\n",
        "      return len(review.split())\n",
        "\n",
        "    except:\n",
        "      return np.nan\n",
        "\n",
        "\n",
        "### Problem 3e. Use the two fucntions to create lists containig the number of words. See if the two lists are identical.\n",
        "\n",
        "l_word_count_review = [count_words_in_review(review) for review in reviews]\n",
        "print(l_word_count_review)\n",
        "l_word_count_review_2 = [count_words_in_review2(review) for review in reviews]\n",
        "print(l_word_count_review_2)\n",
        "\n",
        "\n",
        "### Problem 3f. Repeat Problem 3d-e, but, instead of recording \"non_applicable\", record the actual error message or type.\n",
        "### Hint: use \"try\" to count the number of words, and use \"except Exception as e\" to access the error object\n",
        "\n",
        "def count_words_in_review3(review):\n",
        "  try:\n",
        "    count = len(review.split())\n",
        "    return count\n",
        "  except Exception as e:\n",
        "    error_type = type(e)\n",
        "    return error_type\n",
        "\n",
        "l_word_count_review_3 = [count_words_in_review3(review) for review in reviews]"
      ],
      "metadata": {
        "colab": {
          "base_uri": "https://localhost:8080/"
        },
        "id": "1a4bG_JxUTMX",
        "outputId": "79b5851c-398a-48c4-fdff-b01d8a6ae55b"
      },
      "execution_count": null,
      "outputs": [
        {
          "output_type": "execute_result",
          "data": {
            "text/plain": [
              "[10,\n",
              " 11,\n",
              " AttributeError,\n",
              " 17,\n",
              " 10,\n",
              " 10,\n",
              " 10,\n",
              " AttributeError,\n",
              " 20,\n",
              " 14,\n",
              " 11,\n",
              " 11,\n",
              " 11,\n",
              " 13,\n",
              " 12]"
            ]
          },
          "metadata": {},
          "execution_count": 28
        }
      ]
    }
  ]
}