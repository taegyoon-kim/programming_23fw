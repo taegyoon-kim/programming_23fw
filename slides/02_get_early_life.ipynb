{
  "nbformat": 4,
  "nbformat_minor": 0,
  "metadata": {
    "colab": {
      "provenance": []
    },
    "kernelspec": {
      "name": "python3",
      "display_name": "Python 3"
    },
    "language_info": {
      "name": "python"
    }
  },
  "cells": [
    {
      "cell_type": "markdown",
      "source": [
        "### **Getting Early Life Information for U.S. Presidents from Wikipedia**"
      ],
      "metadata": {
        "id": "CXmqchaNsPBO"
      }
    },
    {
      "cell_type": "markdown",
      "source": [
        "Information on the early life of all U.S. presidents. Let's take the **first paragraph** that discusses the early life of U.S. presidents.\n",
        "\n",
        "Take a look at some of their pages to decide how we can target them:\n",
        "\n",
        "https://en.wikipedia.org/wiki/William_McKinley\n",
        "\n",
        "https://en.wikipedia.org/wiki/John_Adams\n",
        "\n",
        "https://en.wikipedia.org/wiki/Thomas_Jefferson\n"
      ],
      "metadata": {
        "id": "ENnVHKvdw-pF"
      }
    },
    {
      "cell_type": "markdown",
      "source": [
        "It's somewhat difficult to exactly target that portion of the page:\n",
        "\n",
        "- There are many paragraphs, if we target all paragraphs, we need a way to distinguish between the scraped paragraphs\n",
        "- We can try to look at the paragraph in the \"Early life\" section---but this section is named differently each time (\"Early life and education\", \"Early life and career\", \"Early life and family\")\n",
        "- The `id` name is also different each time\n",
        "- Subsection headings always has `h2` tag and `mw-headline` class---but all subsections have it\n",
        "- My approach is to look through section headings and take the one that has the phrase \"early life\" somewhere\n",
        "\n"
      ],
      "metadata": {
        "id": "kISokJB3xarm"
      }
    },
    {
      "cell_type": "code",
      "source": [
        "from bs4 import BeautifulSoup\n",
        "import requests"
      ],
      "metadata": {
        "id": "bI5i1rVrxfo7"
      },
      "execution_count": 1,
      "outputs": []
    },
    {
      "cell_type": "markdown",
      "source": [
        "Let's do for one page first: https://en.wikipedia.org/wiki/George_Washington"
      ],
      "metadata": {
        "id": "sEwpSshTze_a"
      }
    },
    {
      "cell_type": "code",
      "source": [
        "url = 'https://en.wikipedia.org/wiki/George_Washington'\n",
        "r = requests.get(url)\n",
        "soup = BeautifulSoup(r.text)"
      ],
      "metadata": {
        "id": "35Zea-QLzeb9"
      },
      "execution_count": 4,
      "outputs": []
    },
    {
      "cell_type": "code",
      "source": [
        "r.status_code"
      ],
      "metadata": {
        "id": "HRqYCExzzvvO",
        "colab": {
          "base_uri": "https://localhost:8080/"
        },
        "outputId": "d8f3eb66-59b3-449c-bf23-fb9ae192e028"
      },
      "execution_count": 3,
      "outputs": [
        {
          "output_type": "execute_result",
          "data": {
            "text/plain": [
              "200"
            ]
          },
          "metadata": {},
          "execution_count": 3
        }
      ]
    },
    {
      "cell_type": "code",
      "source": [
        "soup.find_all('h2')"
      ],
      "metadata": {
        "id": "W0xl-MrNzx5L",
        "colab": {
          "base_uri": "https://localhost:8080/"
        },
        "outputId": "666cb281-adf1-4707-9b03-e36c40f80be8"
      },
      "execution_count": 27,
      "outputs": [
        {
          "output_type": "execute_result",
          "data": {
            "text/plain": [
              "[<h2 class=\"vector-pinnable-header-label\">Contents</h2>,\n",
              " <h2><span id=\"Early_life_.281732.E2.80.931752.29\"></span><span class=\"mw-headline\" id=\"Early_life_(1732–1752)\">Early life (1732–1752)</span></h2>,\n",
              " <h2><span id=\"Colonial_military_career_.281752.E2.80.931758.29\"></span><span class=\"mw-headline\" id=\"Colonial_military_career_(1752–1758)\">Colonial military career (1752–1758)</span></h2>,\n",
              " <h2><span id=\"Marriage.2C_civilian.2C_and_political_life_.281755.E2.80.931775.29\"></span><span class=\"mw-headline\" id=\"Marriage,_civilian,_and_political_life_(1755–1775)\">Marriage, civilian, and political life (1755–1775)</span></h2>,\n",
              " <h2><span id=\"Commander_in_chief_.281775.E2.80.931783.29\"></span><span class=\"mw-headline\" id=\"Commander_in_chief_(1775–1783)\">Commander in chief (1775–1783)</span></h2>,\n",
              " <h2><span id=\"Early_republic_.281783.E2.80.931789.29\"></span><span class=\"mw-headline\" id=\"Early_republic_(1783–1789)\">Early republic (1783–1789)</span></h2>,\n",
              " <h2><span id=\"Presidency_.281789.E2.80.931797.29\"></span><span class=\"mw-headline\" id=\"Presidency_(1789–1797)\">Presidency (1789–1797)</span></h2>,\n",
              " <h2><span id=\"Post-presidency_.281797.E2.80.931799.29\"></span><span class=\"mw-headline\" id=\"Post-presidency_(1797–1799)\">Post-presidency (1797–1799)</span></h2>,\n",
              " <h2><span id=\"Burial.2C_net_worth.2C_and_aftermath\"></span><span class=\"mw-headline\" id=\"Burial,_net_worth,_and_aftermath\">Burial, net worth, and aftermath</span></h2>,\n",
              " <h2><span class=\"mw-headline\" id=\"Personal_life\">Personal life</span></h2>,\n",
              " <h2><span class=\"mw-headline\" id=\"Slavery\">Slavery</span></h2>,\n",
              " <h2><span class=\"mw-headline\" id=\"Historical_reputation_and_legacy\">Historical reputation and legacy</span></h2>,\n",
              " <h2><span class=\"mw-headline\" id=\"See_also\">See also</span></h2>,\n",
              " <h2><span class=\"mw-headline\" id=\"Notes\">Notes</span></h2>,\n",
              " <h2><span class=\"mw-headline\" id=\"References\">References</span></h2>,\n",
              " <h2><span class=\"mw-headline\" id=\"Bibliography\">Bibliography</span></h2>,\n",
              " <h2><span class=\"mw-headline\" id=\"Further_reading\">Further reading</span></h2>,\n",
              " <h2><span class=\"mw-headline\" id=\"External_links\">External links</span></h2>]"
            ]
          },
          "metadata": {},
          "execution_count": 27
        }
      ]
    },
    {
      "cell_type": "markdown",
      "source": [
        "List comprehension: what text appears under each tag?"
      ],
      "metadata": {
        "id": "8VFfoF_nz4mt"
      }
    },
    {
      "cell_type": "code",
      "source": [
        "[item.text for item in soup.find_all('h2')]"
      ],
      "metadata": {
        "id": "K5L_Uy9w09Gw",
        "colab": {
          "base_uri": "https://localhost:8080/"
        },
        "outputId": "eb4fbd61-9ef9-4380-c981-c008ed4b2e06"
      },
      "execution_count": 28,
      "outputs": [
        {
          "output_type": "execute_result",
          "data": {
            "text/plain": [
              "['Contents',\n",
              " 'Early life (1732–1752)',\n",
              " 'Colonial military career (1752–1758)',\n",
              " 'Marriage, civilian, and political life (1755–1775)',\n",
              " 'Commander in chief (1775–1783)',\n",
              " 'Early republic (1783–1789)',\n",
              " 'Presidency (1789–1797)',\n",
              " 'Post-presidency (1797–1799)',\n",
              " 'Burial, net worth, and aftermath',\n",
              " 'Personal life',\n",
              " 'Slavery',\n",
              " 'Historical reputation and legacy',\n",
              " 'See also',\n",
              " 'Notes',\n",
              " 'References',\n",
              " 'Bibliography',\n",
              " 'Further reading',\n",
              " 'External links']"
            ]
          },
          "metadata": {},
          "execution_count": 28
        }
      ]
    },
    {
      "cell_type": "markdown",
      "source": [
        "Our target is the second heading! (Index 1). We could target it even more."
      ],
      "metadata": {
        "id": "7E0ryk7f1SeP"
      }
    },
    {
      "cell_type": "code",
      "source": [
        "heading = [item for item in soup.find_all('h2') if 'early life' in item.text.lower()]\n",
        "type(heading)\n",
        "heading[0]"
      ],
      "metadata": {
        "id": "FM432Rd01ZeI",
        "colab": {
          "base_uri": "https://localhost:8080/"
        },
        "outputId": "72515175-4b24-4a0f-91ca-644bd052df67"
      },
      "execution_count": 42,
      "outputs": [
        {
          "output_type": "execute_result",
          "data": {
            "text/plain": [
              "<h2><span id=\"Early_life_.281732.E2.80.931752.29\"></span><span class=\"mw-headline\" id=\"Early_life_(1732–1752)\">Early life (1732–1752)</span></h2>"
            ]
          },
          "metadata": {},
          "execution_count": 42
        }
      ]
    },
    {
      "cell_type": "markdown",
      "source": [
        "Use the find_next function to identify next `p`"
      ],
      "metadata": {
        "id": "G7bXobJw1ATe"
      }
    },
    {
      "cell_type": "code",
      "source": [
        "first_paragraph = heading[0].find_next('p').text"
      ],
      "metadata": {
        "colab": {
          "base_uri": "https://localhost:8080/",
          "height": 122
        },
        "id": "XQieiOebzbiG",
        "outputId": "8bce9066-d817-4354-fa90-8eff74d92c99"
      },
      "execution_count": 44,
      "outputs": [
        {
          "output_type": "execute_result",
          "data": {
            "text/plain": [
              "'George Washington was born on February 22, 1732,[a] at Popes Creek in Westmoreland County, Virginia.[3] He was the first of six children of Augustine and Mary Ball Washington.[4] His father was a justice of the peace and a prominent public figure who had four additional children from his first marriage to Jane Butler.[5] The family moved to Little Hunting Creek in 1734 before eventually settling in Ferry Farm near Fredericksburg, Virginia. When Augustine died in 1743, Washington inherited Ferry Farm and ten slaves; his older half-brother Lawrence inherited Little Hunting Creek and renamed it Mount Vernon.[6][7]\\n'"
            ],
            "application/vnd.google.colaboratory.intrinsic+json": {
              "type": "string"
            }
          },
          "metadata": {},
          "execution_count": 44
        }
      ]
    },
    {
      "cell_type": "markdown",
      "source": [
        "Put all these into a function."
      ],
      "metadata": {
        "id": "PBfqyRDYUrZb"
      }
    },
    {
      "cell_type": "code",
      "source": [
        "def get_early_life(url):\n",
        "    r = requests.get(url)\n",
        "    soup = BeautifulSoup(r.text)\n",
        "    heading = [item for item in soup.find_all('h2') if 'early life' in item.text.lower()]\n",
        "    first_paragraph = heading[0].find_next('p').text\n",
        "    return first_paragraph"
      ],
      "metadata": {
        "id": "h7iGw6PmUqlO"
      },
      "execution_count": 45,
      "outputs": []
    },
    {
      "cell_type": "markdown",
      "source": [
        "Try on a different article to see if it works:"
      ],
      "metadata": {
        "id": "R-P_3laNV0Q8"
      }
    },
    {
      "cell_type": "code",
      "source": [
        "url = 'https://en.wikipedia.org/wiki/William_McKinley'\n",
        "get_early_life(url)"
      ],
      "metadata": {
        "id": "ayn9rR4FV4IN",
        "colab": {
          "base_uri": "https://localhost:8080/",
          "height": 106
        },
        "outputId": "a7fc15dd-27c9-49a6-f792-57f960819b45"
      },
      "execution_count": 46,
      "outputs": [
        {
          "output_type": "execute_result",
          "data": {
            "text/plain": [
              "'William McKinley Jr. was born in 1843 in Niles, Ohio, the seventh of nine children of William McKinley Sr. and Nancy (née Allison) McKinley.[1] The McKinleys were of English and Scots-Irish descent and had settled in western Pennsylvania in the 18th century. Their immigrant ancestor was David McKinley, born in Dervock, County Antrim, in present-day Northern Ireland. William McKinley Sr. was born in Pennsylvania, in Pine Township, Mercer County.[1]\\n'"
            ],
            "application/vnd.google.colaboratory.intrinsic+json": {
              "type": "string"
            }
          },
          "metadata": {},
          "execution_count": 46
        }
      ]
    }
  ]
}